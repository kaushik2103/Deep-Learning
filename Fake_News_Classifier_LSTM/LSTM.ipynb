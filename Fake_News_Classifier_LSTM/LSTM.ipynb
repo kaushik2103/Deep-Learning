{
 "cells": [
  {
   "cell_type": "code",
   "execution_count": 1,
   "id": "initial_id",
   "metadata": {
    "collapsed": true,
    "ExecuteTime": {
     "end_time": "2024-02-29T09:59:37.304666500Z",
     "start_time": "2024-02-29T09:59:37.278297200Z"
    }
   },
   "outputs": [],
   "source": [
    "# Fake News Classifier Using LSTM"
   ]
  },
  {
   "cell_type": "code",
   "outputs": [],
   "source": [
    "import pandas as pd"
   ],
   "metadata": {
    "collapsed": false,
    "ExecuteTime": {
     "end_time": "2024-02-29T10:00:14.949013500Z",
     "start_time": "2024-02-29T10:00:14.499815300Z"
    }
   },
   "id": "9579c3cedf74a6f0",
   "execution_count": 2
  },
  {
   "cell_type": "code",
   "outputs": [],
   "source": [
    "df = pd.read_csv('train.csv')"
   ],
   "metadata": {
    "collapsed": false,
    "ExecuteTime": {
     "end_time": "2024-02-29T10:00:29.833292700Z",
     "start_time": "2024-02-29T10:00:28.831980Z"
    }
   },
   "id": "f9c8b2972872933a",
   "execution_count": 4
  },
  {
   "cell_type": "code",
   "outputs": [
    {
     "data": {
      "text/plain": "   id                                              title              author  \\\n0   0  House Dem Aide: We Didn’t Even See Comey’s Let...       Darrell Lucus   \n1   1  FLYNN: Hillary Clinton, Big Woman on Campus - ...     Daniel J. Flynn   \n2   2                  Why the Truth Might Get You Fired  Consortiumnews.com   \n3   3  15 Civilians Killed In Single US Airstrike Hav...     Jessica Purkiss   \n4   4  Iranian woman jailed for fictional unpublished...      Howard Portnoy   \n\n                                                text  label  \n0  House Dem Aide: We Didn’t Even See Comey’s Let...      1  \n1  Ever get the feeling your life circles the rou...      0  \n2  Why the Truth Might Get You Fired October 29, ...      1  \n3  Videos 15 Civilians Killed In Single US Airstr...      1  \n4  Print \\nAn Iranian woman has been sentenced to...      1  ",
      "text/html": "<div>\n<style scoped>\n    .dataframe tbody tr th:only-of-type {\n        vertical-align: middle;\n    }\n\n    .dataframe tbody tr th {\n        vertical-align: top;\n    }\n\n    .dataframe thead th {\n        text-align: right;\n    }\n</style>\n<table border=\"1\" class=\"dataframe\">\n  <thead>\n    <tr style=\"text-align: right;\">\n      <th></th>\n      <th>id</th>\n      <th>title</th>\n      <th>author</th>\n      <th>text</th>\n      <th>label</th>\n    </tr>\n  </thead>\n  <tbody>\n    <tr>\n      <th>0</th>\n      <td>0</td>\n      <td>House Dem Aide: We Didn’t Even See Comey’s Let...</td>\n      <td>Darrell Lucus</td>\n      <td>House Dem Aide: We Didn’t Even See Comey’s Let...</td>\n      <td>1</td>\n    </tr>\n    <tr>\n      <th>1</th>\n      <td>1</td>\n      <td>FLYNN: Hillary Clinton, Big Woman on Campus - ...</td>\n      <td>Daniel J. Flynn</td>\n      <td>Ever get the feeling your life circles the rou...</td>\n      <td>0</td>\n    </tr>\n    <tr>\n      <th>2</th>\n      <td>2</td>\n      <td>Why the Truth Might Get You Fired</td>\n      <td>Consortiumnews.com</td>\n      <td>Why the Truth Might Get You Fired October 29, ...</td>\n      <td>1</td>\n    </tr>\n    <tr>\n      <th>3</th>\n      <td>3</td>\n      <td>15 Civilians Killed In Single US Airstrike Hav...</td>\n      <td>Jessica Purkiss</td>\n      <td>Videos 15 Civilians Killed In Single US Airstr...</td>\n      <td>1</td>\n    </tr>\n    <tr>\n      <th>4</th>\n      <td>4</td>\n      <td>Iranian woman jailed for fictional unpublished...</td>\n      <td>Howard Portnoy</td>\n      <td>Print \\nAn Iranian woman has been sentenced to...</td>\n      <td>1</td>\n    </tr>\n  </tbody>\n</table>\n</div>"
     },
     "execution_count": 5,
     "metadata": {},
     "output_type": "execute_result"
    }
   ],
   "source": [
    "df.head()"
   ],
   "metadata": {
    "collapsed": false,
    "ExecuteTime": {
     "end_time": "2024-02-29T10:00:30.854391500Z",
     "start_time": "2024-02-29T10:00:30.818764800Z"
    }
   },
   "id": "e01886aefb98e5b6",
   "execution_count": 5
  },
  {
   "cell_type": "code",
   "outputs": [
    {
     "data": {
      "text/plain": "id           0\ntitle      558\nauthor    1957\ntext        39\nlabel        0\ndtype: int64"
     },
     "execution_count": 7,
     "metadata": {},
     "output_type": "execute_result"
    }
   ],
   "source": [
    "df.isnull().sum()"
   ],
   "metadata": {
    "collapsed": false,
    "ExecuteTime": {
     "end_time": "2024-02-29T10:01:42.174717Z",
     "start_time": "2024-02-29T10:01:42.159896200Z"
    }
   },
   "id": "bf41dfa617d88ad8",
   "execution_count": 7
  },
  {
   "cell_type": "code",
   "outputs": [
    {
     "data": {
      "text/plain": "(20800, 5)"
     },
     "execution_count": 9,
     "metadata": {},
     "output_type": "execute_result"
    }
   ],
   "source": [
    "# Shape of the dataset\n",
    "df.shape"
   ],
   "metadata": {
    "collapsed": false,
    "ExecuteTime": {
     "end_time": "2024-02-29T10:02:33.692984Z",
     "start_time": "2024-02-29T10:02:33.687927200Z"
    }
   },
   "id": "5120f82204747ca3",
   "execution_count": 9
  },
  {
   "cell_type": "code",
   "outputs": [],
   "source": [
    "# Drop this null values\n",
    "df = df.dropna()"
   ],
   "metadata": {
    "collapsed": false,
    "ExecuteTime": {
     "end_time": "2024-02-29T10:03:08.923724400Z",
     "start_time": "2024-02-29T10:03:08.917321600Z"
    }
   },
   "id": "fd945aa155996db6",
   "execution_count": 11
  },
  {
   "cell_type": "code",
   "outputs": [
    {
     "data": {
      "text/plain": "   id                                              title              author  \\\n0   0  House Dem Aide: We Didn’t Even See Comey’s Let...       Darrell Lucus   \n1   1  FLYNN: Hillary Clinton, Big Woman on Campus - ...     Daniel J. Flynn   \n2   2                  Why the Truth Might Get You Fired  Consortiumnews.com   \n3   3  15 Civilians Killed In Single US Airstrike Hav...     Jessica Purkiss   \n4   4  Iranian woman jailed for fictional unpublished...      Howard Portnoy   \n\n                                                text  label  \n0  House Dem Aide: We Didn’t Even See Comey’s Let...      1  \n1  Ever get the feeling your life circles the rou...      0  \n2  Why the Truth Might Get You Fired October 29, ...      1  \n3  Videos 15 Civilians Killed In Single US Airstr...      1  \n4  Print \\nAn Iranian woman has been sentenced to...      1  ",
      "text/html": "<div>\n<style scoped>\n    .dataframe tbody tr th:only-of-type {\n        vertical-align: middle;\n    }\n\n    .dataframe tbody tr th {\n        vertical-align: top;\n    }\n\n    .dataframe thead th {\n        text-align: right;\n    }\n</style>\n<table border=\"1\" class=\"dataframe\">\n  <thead>\n    <tr style=\"text-align: right;\">\n      <th></th>\n      <th>id</th>\n      <th>title</th>\n      <th>author</th>\n      <th>text</th>\n      <th>label</th>\n    </tr>\n  </thead>\n  <tbody>\n    <tr>\n      <th>0</th>\n      <td>0</td>\n      <td>House Dem Aide: We Didn’t Even See Comey’s Let...</td>\n      <td>Darrell Lucus</td>\n      <td>House Dem Aide: We Didn’t Even See Comey’s Let...</td>\n      <td>1</td>\n    </tr>\n    <tr>\n      <th>1</th>\n      <td>1</td>\n      <td>FLYNN: Hillary Clinton, Big Woman on Campus - ...</td>\n      <td>Daniel J. Flynn</td>\n      <td>Ever get the feeling your life circles the rou...</td>\n      <td>0</td>\n    </tr>\n    <tr>\n      <th>2</th>\n      <td>2</td>\n      <td>Why the Truth Might Get You Fired</td>\n      <td>Consortiumnews.com</td>\n      <td>Why the Truth Might Get You Fired October 29, ...</td>\n      <td>1</td>\n    </tr>\n    <tr>\n      <th>3</th>\n      <td>3</td>\n      <td>15 Civilians Killed In Single US Airstrike Hav...</td>\n      <td>Jessica Purkiss</td>\n      <td>Videos 15 Civilians Killed In Single US Airstr...</td>\n      <td>1</td>\n    </tr>\n    <tr>\n      <th>4</th>\n      <td>4</td>\n      <td>Iranian woman jailed for fictional unpublished...</td>\n      <td>Howard Portnoy</td>\n      <td>Print \\nAn Iranian woman has been sentenced to...</td>\n      <td>1</td>\n    </tr>\n  </tbody>\n</table>\n</div>"
     },
     "execution_count": 12,
     "metadata": {},
     "output_type": "execute_result"
    }
   ],
   "source": [
    "df.head()"
   ],
   "metadata": {
    "collapsed": false,
    "ExecuteTime": {
     "end_time": "2024-02-29T10:03:19.712966700Z",
     "start_time": "2024-02-29T10:03:19.700590300Z"
    }
   },
   "id": "1422e9f7ddf4ca4b",
   "execution_count": 12
  },
  {
   "cell_type": "code",
   "outputs": [],
   "source": [
    "# Get the independent features\n",
    "X = df.drop('label',axis=1)"
   ],
   "metadata": {
    "collapsed": false,
    "ExecuteTime": {
     "end_time": "2024-02-29T10:05:02.859713400Z",
     "start_time": "2024-02-29T10:05:02.836971200Z"
    }
   },
   "id": "1a62116ce45381cb",
   "execution_count": 15
  },
  {
   "cell_type": "code",
   "outputs": [
    {
     "data": {
      "text/plain": "   id                                              title              author  \\\n0   0  House Dem Aide: We Didn’t Even See Comey’s Let...       Darrell Lucus   \n1   1  FLYNN: Hillary Clinton, Big Woman on Campus - ...     Daniel J. Flynn   \n2   2                  Why the Truth Might Get You Fired  Consortiumnews.com   \n3   3  15 Civilians Killed In Single US Airstrike Hav...     Jessica Purkiss   \n4   4  Iranian woman jailed for fictional unpublished...      Howard Portnoy   \n\n                                                text  \n0  House Dem Aide: We Didn’t Even See Comey’s Let...  \n1  Ever get the feeling your life circles the rou...  \n2  Why the Truth Might Get You Fired October 29, ...  \n3  Videos 15 Civilians Killed In Single US Airstr...  \n4  Print \\nAn Iranian woman has been sentenced to...  ",
      "text/html": "<div>\n<style scoped>\n    .dataframe tbody tr th:only-of-type {\n        vertical-align: middle;\n    }\n\n    .dataframe tbody tr th {\n        vertical-align: top;\n    }\n\n    .dataframe thead th {\n        text-align: right;\n    }\n</style>\n<table border=\"1\" class=\"dataframe\">\n  <thead>\n    <tr style=\"text-align: right;\">\n      <th></th>\n      <th>id</th>\n      <th>title</th>\n      <th>author</th>\n      <th>text</th>\n    </tr>\n  </thead>\n  <tbody>\n    <tr>\n      <th>0</th>\n      <td>0</td>\n      <td>House Dem Aide: We Didn’t Even See Comey’s Let...</td>\n      <td>Darrell Lucus</td>\n      <td>House Dem Aide: We Didn’t Even See Comey’s Let...</td>\n    </tr>\n    <tr>\n      <th>1</th>\n      <td>1</td>\n      <td>FLYNN: Hillary Clinton, Big Woman on Campus - ...</td>\n      <td>Daniel J. Flynn</td>\n      <td>Ever get the feeling your life circles the rou...</td>\n    </tr>\n    <tr>\n      <th>2</th>\n      <td>2</td>\n      <td>Why the Truth Might Get You Fired</td>\n      <td>Consortiumnews.com</td>\n      <td>Why the Truth Might Get You Fired October 29, ...</td>\n    </tr>\n    <tr>\n      <th>3</th>\n      <td>3</td>\n      <td>15 Civilians Killed In Single US Airstrike Hav...</td>\n      <td>Jessica Purkiss</td>\n      <td>Videos 15 Civilians Killed In Single US Airstr...</td>\n    </tr>\n    <tr>\n      <th>4</th>\n      <td>4</td>\n      <td>Iranian woman jailed for fictional unpublished...</td>\n      <td>Howard Portnoy</td>\n      <td>Print \\nAn Iranian woman has been sentenced to...</td>\n    </tr>\n  </tbody>\n</table>\n</div>"
     },
     "execution_count": 16,
     "metadata": {},
     "output_type": "execute_result"
    }
   ],
   "source": [
    "X.head()"
   ],
   "metadata": {
    "collapsed": false,
    "ExecuteTime": {
     "end_time": "2024-02-29T10:05:04.186651400Z",
     "start_time": "2024-02-29T10:05:04.166370700Z"
    }
   },
   "id": "38f4cdda89a0a6cd",
   "execution_count": 16
  },
  {
   "cell_type": "code",
   "outputs": [],
   "source": [
    "# Get the dependent feature\n",
    "Y = df['label']"
   ],
   "metadata": {
    "collapsed": false,
    "ExecuteTime": {
     "end_time": "2024-02-29T10:05:27.709739300Z",
     "start_time": "2024-02-29T10:05:27.699653800Z"
    }
   },
   "id": "5c9db253df08197b",
   "execution_count": 17
  },
  {
   "cell_type": "code",
   "outputs": [
    {
     "data": {
      "text/plain": "0    1\n1    0\n2    1\n3    1\n4    1\nName: label, dtype: int64"
     },
     "execution_count": 18,
     "metadata": {},
     "output_type": "execute_result"
    }
   ],
   "source": [
    "Y.head()"
   ],
   "metadata": {
    "collapsed": false,
    "ExecuteTime": {
     "end_time": "2024-02-29T10:05:29.492126800Z",
     "start_time": "2024-02-29T10:05:29.477588500Z"
    }
   },
   "id": "cac3d6df40d9d665",
   "execution_count": 18
  },
  {
   "cell_type": "code",
   "outputs": [
    {
     "data": {
      "text/plain": "(18285, 4)"
     },
     "execution_count": 19,
     "metadata": {},
     "output_type": "execute_result"
    }
   ],
   "source": [
    "X.shape"
   ],
   "metadata": {
    "collapsed": false,
    "ExecuteTime": {
     "end_time": "2024-02-29T10:05:44.020677100Z",
     "start_time": "2024-02-29T10:05:43.994560400Z"
    }
   },
   "id": "8d5dfc8689542994",
   "execution_count": 19
  },
  {
   "cell_type": "code",
   "outputs": [
    {
     "data": {
      "text/plain": "(18285,)"
     },
     "execution_count": 20,
     "metadata": {},
     "output_type": "execute_result"
    }
   ],
   "source": [
    "Y.shape"
   ],
   "metadata": {
    "collapsed": false,
    "ExecuteTime": {
     "end_time": "2024-02-29T10:05:52.852065800Z",
     "start_time": "2024-02-29T10:05:52.838254700Z"
    }
   },
   "id": "72362021b862f0b4",
   "execution_count": 20
  },
  {
   "cell_type": "code",
   "outputs": [
    {
     "name": "stdout",
     "output_type": "stream",
     "text": [
      "2.15.0\n"
     ]
    }
   ],
   "source": [
    "# Importing Tensorflow\n",
    "import tensorflow as tf\n",
    "print(tf.__version__)"
   ],
   "metadata": {
    "collapsed": false,
    "ExecuteTime": {
     "end_time": "2024-02-29T10:06:33.732681200Z",
     "start_time": "2024-02-29T10:06:33.711527700Z"
    }
   },
   "id": "b3086df93380dd10",
   "execution_count": 23
  },
  {
   "cell_type": "code",
   "outputs": [],
   "source": [
    "from tensorflow.keras.layers import Embedding\n",
    "from tensorflow.keras.preprocessing.text import one_hot\n",
    "from tensorflow.keras.preprocessing.sequence import pad_sequences\n",
    "from tensorflow.keras.models import Sequential\n",
    "from tensorflow.keras.layers import LSTM\n",
    "from tensorflow.keras.layers import Dense\n",
    "from tensorflow.keras.layers import Dropout"
   ],
   "metadata": {
    "collapsed": false,
    "ExecuteTime": {
     "end_time": "2024-02-29T10:56:06.465891700Z",
     "start_time": "2024-02-29T10:56:06.433970700Z"
    }
   },
   "id": "c4651032d80308fc",
   "execution_count": 68
  },
  {
   "cell_type": "code",
   "outputs": [],
   "source": [
    "# Vocabulary size\n",
    "voc_size = 5000"
   ],
   "metadata": {
    "collapsed": false,
    "ExecuteTime": {
     "end_time": "2024-02-29T10:56:08.691218Z",
     "start_time": "2024-02-29T10:56:08.679552300Z"
    }
   },
   "id": "4f3359f99f097c97",
   "execution_count": 69
  },
  {
   "cell_type": "code",
   "outputs": [],
   "source": [
    "# One-Hot Representation\n",
    "messages = X.copy()"
   ],
   "metadata": {
    "collapsed": false,
    "ExecuteTime": {
     "end_time": "2024-02-29T10:56:10.354438700Z",
     "start_time": "2024-02-29T10:56:10.329133100Z"
    }
   },
   "id": "f251f0ab8388d65e",
   "execution_count": 70
  },
  {
   "cell_type": "code",
   "outputs": [
    {
     "data": {
      "text/plain": "'House Dem Aide: We Didn’t Even See Comey’s Letter Until Jason Chaffetz Tweeted It'"
     },
     "execution_count": 71,
     "metadata": {},
     "output_type": "execute_result"
    }
   ],
   "source": [
    "messages['title'][0]"
   ],
   "metadata": {
    "collapsed": false,
    "ExecuteTime": {
     "end_time": "2024-02-29T10:56:12.170199100Z",
     "start_time": "2024-02-29T10:56:12.156148Z"
    }
   },
   "id": "49aa01fbd7d40d45",
   "execution_count": 71
  },
  {
   "cell_type": "code",
   "outputs": [
    {
     "data": {
      "text/plain": "          id                                              title  \\\n0          0  House Dem Aide: We Didn’t Even See Comey’s Let...   \n1          1  FLYNN: Hillary Clinton, Big Woman on Campus - ...   \n2          2                  Why the Truth Might Get You Fired   \n3          3  15 Civilians Killed In Single US Airstrike Hav...   \n4          4  Iranian woman jailed for fictional unpublished...   \n...      ...                                                ...   \n20795  20795  Rapper T.I.: Trump a ’Poster Child For White S...   \n20796  20796  N.F.L. Playoffs: Schedule, Matchups and Odds -...   \n20797  20797  Macy’s Is Said to Receive Takeover Approach by...   \n20798  20798  NATO, Russia To Hold Parallel Exercises In Bal...   \n20799  20799                          What Keeps the F-35 Alive   \n\n                                          author  \\\n0                                  Darrell Lucus   \n1                                Daniel J. Flynn   \n2                             Consortiumnews.com   \n3                                Jessica Purkiss   \n4                                 Howard Portnoy   \n...                                          ...   \n20795                              Jerome Hudson   \n20796                           Benjamin Hoffman   \n20797  Michael J. de la Merced and Rachel Abrams   \n20798                                Alex Ansary   \n20799                              David Swanson   \n\n                                                    text  \n0      House Dem Aide: We Didn’t Even See Comey’s Let...  \n1      Ever get the feeling your life circles the rou...  \n2      Why the Truth Might Get You Fired October 29, ...  \n3      Videos 15 Civilians Killed In Single US Airstr...  \n4      Print \\nAn Iranian woman has been sentenced to...  \n...                                                  ...  \n20795  Rapper T. I. unloaded on black celebrities who...  \n20796  When the Green Bay Packers lost to the Washing...  \n20797  The Macy’s of today grew from the union of sev...  \n20798  NATO, Russia To Hold Parallel Exercises In Bal...  \n20799    David Swanson is an author, activist, journa...  \n\n[18285 rows x 4 columns]",
      "text/html": "<div>\n<style scoped>\n    .dataframe tbody tr th:only-of-type {\n        vertical-align: middle;\n    }\n\n    .dataframe tbody tr th {\n        vertical-align: top;\n    }\n\n    .dataframe thead th {\n        text-align: right;\n    }\n</style>\n<table border=\"1\" class=\"dataframe\">\n  <thead>\n    <tr style=\"text-align: right;\">\n      <th></th>\n      <th>id</th>\n      <th>title</th>\n      <th>author</th>\n      <th>text</th>\n    </tr>\n  </thead>\n  <tbody>\n    <tr>\n      <th>0</th>\n      <td>0</td>\n      <td>House Dem Aide: We Didn’t Even See Comey’s Let...</td>\n      <td>Darrell Lucus</td>\n      <td>House Dem Aide: We Didn’t Even See Comey’s Let...</td>\n    </tr>\n    <tr>\n      <th>1</th>\n      <td>1</td>\n      <td>FLYNN: Hillary Clinton, Big Woman on Campus - ...</td>\n      <td>Daniel J. Flynn</td>\n      <td>Ever get the feeling your life circles the rou...</td>\n    </tr>\n    <tr>\n      <th>2</th>\n      <td>2</td>\n      <td>Why the Truth Might Get You Fired</td>\n      <td>Consortiumnews.com</td>\n      <td>Why the Truth Might Get You Fired October 29, ...</td>\n    </tr>\n    <tr>\n      <th>3</th>\n      <td>3</td>\n      <td>15 Civilians Killed In Single US Airstrike Hav...</td>\n      <td>Jessica Purkiss</td>\n      <td>Videos 15 Civilians Killed In Single US Airstr...</td>\n    </tr>\n    <tr>\n      <th>4</th>\n      <td>4</td>\n      <td>Iranian woman jailed for fictional unpublished...</td>\n      <td>Howard Portnoy</td>\n      <td>Print \\nAn Iranian woman has been sentenced to...</td>\n    </tr>\n    <tr>\n      <th>...</th>\n      <td>...</td>\n      <td>...</td>\n      <td>...</td>\n      <td>...</td>\n    </tr>\n    <tr>\n      <th>20795</th>\n      <td>20795</td>\n      <td>Rapper T.I.: Trump a ’Poster Child For White S...</td>\n      <td>Jerome Hudson</td>\n      <td>Rapper T. I. unloaded on black celebrities who...</td>\n    </tr>\n    <tr>\n      <th>20796</th>\n      <td>20796</td>\n      <td>N.F.L. Playoffs: Schedule, Matchups and Odds -...</td>\n      <td>Benjamin Hoffman</td>\n      <td>When the Green Bay Packers lost to the Washing...</td>\n    </tr>\n    <tr>\n      <th>20797</th>\n      <td>20797</td>\n      <td>Macy’s Is Said to Receive Takeover Approach by...</td>\n      <td>Michael J. de la Merced and Rachel Abrams</td>\n      <td>The Macy’s of today grew from the union of sev...</td>\n    </tr>\n    <tr>\n      <th>20798</th>\n      <td>20798</td>\n      <td>NATO, Russia To Hold Parallel Exercises In Bal...</td>\n      <td>Alex Ansary</td>\n      <td>NATO, Russia To Hold Parallel Exercises In Bal...</td>\n    </tr>\n    <tr>\n      <th>20799</th>\n      <td>20799</td>\n      <td>What Keeps the F-35 Alive</td>\n      <td>David Swanson</td>\n      <td>David Swanson is an author, activist, journa...</td>\n    </tr>\n  </tbody>\n</table>\n<p>18285 rows × 4 columns</p>\n</div>"
     },
     "execution_count": 31,
     "metadata": {},
     "output_type": "execute_result"
    }
   ],
   "source": [
    "# Displaying all the messages\n",
    "messages"
   ],
   "metadata": {
    "collapsed": false,
    "ExecuteTime": {
     "end_time": "2024-02-29T10:22:32.832890100Z",
     "start_time": "2024-02-29T10:22:32.808539400Z"
    }
   },
   "id": "a3846316d5378bce",
   "execution_count": 31
  },
  {
   "cell_type": "code",
   "outputs": [],
   "source": [
    "# Reset the index\n",
    "messages.reset_index(inplace = True)"
   ],
   "metadata": {
    "collapsed": false,
    "ExecuteTime": {
     "end_time": "2024-02-29T10:56:14.742341600Z",
     "start_time": "2024-02-29T10:56:14.703025100Z"
    }
   },
   "id": "d43a3e672f88c994",
   "execution_count": 72
  },
  {
   "cell_type": "code",
   "outputs": [
    {
     "data": {
      "text/plain": "   index  id                                              title  \\\n0      0   0  House Dem Aide: We Didn’t Even See Comey’s Let...   \n1      1   1  FLYNN: Hillary Clinton, Big Woman on Campus - ...   \n2      2   2                  Why the Truth Might Get You Fired   \n3      3   3  15 Civilians Killed In Single US Airstrike Hav...   \n4      4   4  Iranian woman jailed for fictional unpublished...   \n\n               author                                               text  \n0       Darrell Lucus  House Dem Aide: We Didn’t Even See Comey’s Let...  \n1     Daniel J. Flynn  Ever get the feeling your life circles the rou...  \n2  Consortiumnews.com  Why the Truth Might Get You Fired October 29, ...  \n3     Jessica Purkiss  Videos 15 Civilians Killed In Single US Airstr...  \n4      Howard Portnoy  Print \\nAn Iranian woman has been sentenced to...  ",
      "text/html": "<div>\n<style scoped>\n    .dataframe tbody tr th:only-of-type {\n        vertical-align: middle;\n    }\n\n    .dataframe tbody tr th {\n        vertical-align: top;\n    }\n\n    .dataframe thead th {\n        text-align: right;\n    }\n</style>\n<table border=\"1\" class=\"dataframe\">\n  <thead>\n    <tr style=\"text-align: right;\">\n      <th></th>\n      <th>index</th>\n      <th>id</th>\n      <th>title</th>\n      <th>author</th>\n      <th>text</th>\n    </tr>\n  </thead>\n  <tbody>\n    <tr>\n      <th>0</th>\n      <td>0</td>\n      <td>0</td>\n      <td>House Dem Aide: We Didn’t Even See Comey’s Let...</td>\n      <td>Darrell Lucus</td>\n      <td>House Dem Aide: We Didn’t Even See Comey’s Let...</td>\n    </tr>\n    <tr>\n      <th>1</th>\n      <td>1</td>\n      <td>1</td>\n      <td>FLYNN: Hillary Clinton, Big Woman on Campus - ...</td>\n      <td>Daniel J. Flynn</td>\n      <td>Ever get the feeling your life circles the rou...</td>\n    </tr>\n    <tr>\n      <th>2</th>\n      <td>2</td>\n      <td>2</td>\n      <td>Why the Truth Might Get You Fired</td>\n      <td>Consortiumnews.com</td>\n      <td>Why the Truth Might Get You Fired October 29, ...</td>\n    </tr>\n    <tr>\n      <th>3</th>\n      <td>3</td>\n      <td>3</td>\n      <td>15 Civilians Killed In Single US Airstrike Hav...</td>\n      <td>Jessica Purkiss</td>\n      <td>Videos 15 Civilians Killed In Single US Airstr...</td>\n    </tr>\n    <tr>\n      <th>4</th>\n      <td>4</td>\n      <td>4</td>\n      <td>Iranian woman jailed for fictional unpublished...</td>\n      <td>Howard Portnoy</td>\n      <td>Print \\nAn Iranian woman has been sentenced to...</td>\n    </tr>\n  </tbody>\n</table>\n</div>"
     },
     "execution_count": 73,
     "metadata": {},
     "output_type": "execute_result"
    }
   ],
   "source": [
    "messages.head()"
   ],
   "metadata": {
    "collapsed": false,
    "ExecuteTime": {
     "end_time": "2024-02-29T10:56:16.307980100Z",
     "start_time": "2024-02-29T10:56:16.284085800Z"
    }
   },
   "id": "d003b06068e94c49",
   "execution_count": 73
  },
  {
   "cell_type": "code",
   "outputs": [],
   "source": [
    "# Applying NLTK to remove stopwords.\n",
    "import nltk\n",
    "import re\n",
    "from nltk.corpus import stopwords"
   ],
   "metadata": {
    "collapsed": false,
    "ExecuteTime": {
     "end_time": "2024-02-29T10:56:18.206170600Z",
     "start_time": "2024-02-29T10:56:18.179878300Z"
    }
   },
   "id": "2e08ee124ca3e28b",
   "execution_count": 74
  },
  {
   "cell_type": "code",
   "outputs": [
    {
     "name": "stderr",
     "output_type": "stream",
     "text": [
      "[nltk_data] Downloading package stopwords to\n",
      "[nltk_data]     C:\\Users\\Kaushik\\AppData\\Roaming\\nltk_data...\n",
      "[nltk_data]   Package stopwords is already up-to-date!\n"
     ]
    },
    {
     "data": {
      "text/plain": "True"
     },
     "execution_count": 75,
     "metadata": {},
     "output_type": "execute_result"
    }
   ],
   "source": [
    "# Download stopwords\n",
    "nltk.download('stopwords')"
   ],
   "metadata": {
    "collapsed": false,
    "ExecuteTime": {
     "end_time": "2024-02-29T10:56:19.681033700Z",
     "start_time": "2024-02-29T10:56:19.657415900Z"
    }
   },
   "id": "44bae5b448b0f1ee",
   "execution_count": 75
  },
  {
   "cell_type": "code",
   "outputs": [],
   "source": [
    "# Data Preprocessing\n",
    "from nltk.stem.porter import PorterStemmer # Uses for stemming purpose\n",
    "ps = PorterStemmer()\n",
    "corpus = []\n",
    "for i in range(0, len(messages)):\n",
    "    review = re.sub('[^a-zA-Z]', ' ', messages['title'][i])\n",
    "    review = review.lower()\n",
    "    review = review.split()\n",
    "    review = [ps.stem(word) for word in review if not word in stopwords.words('english')]\n",
    "    review = ' '.join(review)\n",
    "    corpus.append(review)"
   ],
   "metadata": {
    "collapsed": false,
    "ExecuteTime": {
     "end_time": "2024-02-29T10:56:46.443874Z",
     "start_time": "2024-02-29T10:56:21.468061800Z"
    }
   },
   "id": "87085bdbb52921cc",
   "execution_count": 76
  },
  {
   "cell_type": "code",
   "outputs": [
    {
     "data": {
      "text/plain": "['hous dem aid even see comey letter jason chaffetz tweet',\n 'flynn hillari clinton big woman campu breitbart',\n 'truth might get fire',\n 'civilian kill singl us airstrik identifi',\n 'iranian woman jail fiction unpublish stori woman stone death adulteri',\n 'jacki mason hollywood would love trump bomb north korea lack tran bathroom exclus video breitbart',\n 'beno hamon win french socialist parti presidenti nomin new york time',\n 'back channel plan ukrain russia courtesi trump associ new york time',\n 'obama organ action partner soro link indivis disrupt trump agenda',\n 'bbc comedi sketch real housew isi caus outrag',\n 'russian research discov secret nazi militari base treasur hunter arctic photo',\n 'us offici see link trump russia',\n 'ye paid govern troll social media blog forum websit',\n 'major leagu soccer argentin find home success new york time',\n 'well fargo chief abruptli step new york time',\n 'anonym donor pay million releas everyon arrest dakota access pipelin',\n 'fbi close hillari',\n 'chuck todd buzzfe donald trump polit favor breitbart',\n 'monica lewinski clinton sex scandal set american crime stori',\n 'rob reiner trump mental unstabl breitbart',\n 'abort pill order rise latin american nation zika alert new york time',\n 'nuke un histor treati ban nuclear weapon',\n 'exclus islam state support vow shake west follow manchest terrorist massacr breitbart',\n 'humili hillari tri hide camera caught min ralli',\n 'andrea tantaro fox news claim retali sex harass complaint new york time',\n 'hillari clinton becam hawk new york time',\n 'chuck todd buzzfe eic publish fake news breitbart',\n 'bori johnson brexit leader fumbl new york time',\n 'texa oil field rebound price lull job left behind new york time',\n 'bayer deal monsanto follow agribusi trend rais worri farmer new york time',\n 'russia move ban jehovah wit extremist new york time',\n 'still danger zone januari th',\n 'open thread u elect',\n 'democrat gutierrez blame chicago gun violenc nra breitbart',\n 'avoid peanut avoid allergi bad strategi new york time',\n 'mri show detail imag week unborn babi breitbart',\n 'best kind milk dairi',\n 'ryan locht drop speedo usa retail new york time',\n 'conserv urg session clean obama civil right divis breitbart',\n 'intern inquiri seal fate roger ail fox new york time',\n 'press tv debat duff lebanon hezbollah aoun presid video',\n 'samsung combust galaxi note unveil new smartphon new york time',\n 'poland vow referendum migrant quota amidst eu pressur public voic heard breitbart',\n 'spark inner revolut',\n 'studi half car crash involv driver distract cell phone breitbart',\n 'trump elect spark individu collect heal',\n 'ep fade black jimmi church w laura eisenhow restor balanc video',\n 'cognit true islam book review',\n 'donald trump win elect biggest miracl us polit histori',\n 'mind eat way fight bing new york time',\n 'major potenti impact corpor tax overhaul new york time',\n 'wonder glp like day elect',\n 'maker world smallest machin award nobel prize chemistri new york time',\n 'massiv anti trump protest union squar nyc live stream',\n 'review lion bring tear lost boy wipe dri googl new york time',\n 'u gener islam state chemic attack impact u forc',\n 'juri find oregon standoff defend guilti feder conspiraci gun charg',\n 'clinton campaign stun fbi reportedli reopen probe hillari clinton email',\n 'penc speak anti abort ralli new york time',\n 'berni sander say media trump gutless polit coward',\n 'make briquett daili wast',\n 'treason nyt vow reded report',\n 'dress like woman mean new york time',\n 'ella brennan still feed lead new orlean new york time',\n 'press asia agenda obama tread lightli human right new york time',\n 'democrat percent chanc retak senat new york time',\n 'judg spank transgend obsess obama lie redflag news',\n 'u diplomat urg strike assad syria new york time',\n 'franken call independ investig trump putin crush breitbart',\n 'louisiana simon bile u presidenti race tuesday even brief new york time',\n 'turkey threaten open migrant land passag europ row dutch',\n 'huma weiner dog hillari',\n 'colin kaepernick start black panther inspir youth camp wow',\n 'trump immigr polici explain new york time',\n 'mari tyler moor mourn dick van dyke star new york time',\n 'poison',\n 'trump fan ralli across nation support presid new york time',\n 'fox biz report help bash clinton ralli cover trump pack event day',\n 'fiction podcast worth listen new york time',\n 'mike birbiglia tip make small hollywood anywher new york time',\n 'invest strategist forecast collaps timelin last gasp econom cycl come',\n 'venezuela muzzl legislatur move closer one man rule new york time',\n 'whether john mccain mitt romney donald trump democrat alway run war women tactic destroy republican candid',\n 'breitbart news daili trump boom breitbart',\n 'white hous confirm gitmo transfer obama leav offic',\n 'poll voter heard democrat elect candid breitbart',\n 'migrant confront judgment day old deport order new york time',\n 'n u yale su retir plan fee new york time',\n 'technocraci real reason un want control internet',\n 'american driver regain appetit ga guzzler new york time',\n 'hillari clinton build million war chest doubl donald trump new york time',\n 'trump catch sick report snuck interview priceless respons',\n 'senat contact russian govern week',\n 'imag perfectli illustr struggl dakota access pipelin',\n 'washington state take refuge muslim rest countri take refuge muslim breitbart',\n 'ncaa big keep watch eye texa bathroom bill breitbart',\n 'massiv espn financi subscrib loss drag disney first quarter sale breitbart',\n 'megyn kelli contract set expir next year prime big show new york time',\n 'teacher suspend allow student hit trump pinata cinco de mayo',\n 'break trump express concern anthoni weiner illeg access classifi info month ago truthfe',\n 'snap share leap debut investor doubt valu vanish new york time',\n 'clinton campaign chair dinner top doj offici one day hillari benghazi hear',\n 'tv seri first femal mlb pitcher can one low rate season breitbart',\n 'seek best fit women final four return friday sunday new york time',\n 'propos canadian nation bird ruffl feather new york time',\n 'review beyonc make lemonad marit strife new york time',\n 'trump ask sharp increas militari spend offici say new york time',\n 'waterg smoke gun email discuss clean obama hillari email',\n 'chapo trap hous new left wing podcast flagrant rip right stuff',\n 'taiwan respond china send carrier taiwan strait new york time',\n 'mother octob surpris hous card come tumbl',\n 'explos assang pilger interview us elect expect riot hillari win',\n 'telescop ate astronomi track surpass hubbl new york time',\n 'close afghan pakistani border becom humanitarian crisi new york time',\n 'tv anchor arriv white hous lunch donald trump breitbart',\n 'pelosi republican tell trump bring dishonor presid breitbart',\n 'beauti prehistor world earth wasteland',\n 'ignor trump news week learn new york time',\n 'donald trump unveil plan famili bid women vote new york time',\n 'montana democrat vote bill ban sharia law call repugn breitbart',\n 'monsanto tribun go happen',\n 'offici simon bile world best gymnast new york time',\n 'liter hurt brain read econom idioci emit trumpkin libertarian',\n 'u n secretari gener complain mass reject global favor nation',\n 'trump bollywood ad meant sway indian american voter hilari fail video',\n 'fbi find previous unseen hillari clinton email weiner laptop',\n 'year american journalist kill conspiraci theori syria proven fact',\n 'report illeg alien forego food stamp stay trump radar',\n 'make netherland great hahaha spread worldwid',\n 'four kill injur jerusalem truck ram terror attack',\n 'leader salut comrad newt brutal megyn sic kelli beatdown play game',\n 'student black colleg got beaten mace protest kkk david duke',\n 'despit strict gun control one child youth shot everi day ontario',\n 'rise internet fan bulli new york time',\n 'newli vibrant washington fear trump drain cultur new york time',\n 'fed hold interest rate steadi plan slower increas new york time',\n 'battl unesco',\n 'latest test white hous pull easter egg roll new york time',\n 'burlesqu dancer fire investig secret servic trump assassin tweet breitbart',\n 'clinton haiti',\n 'cuomo christi parallel path top troubl got new york time',\n 'top place world allow visit',\n 'new studi link fluorid consumpt hypothyroid weight gain wors',\n 'jame matti secretari offens',\n 'black church burn spray paint vote trump',\n 'sear agre sell craftsman stanley black amp decker rais cash new york time',\n 'takata chief execut resign financi pressur mount new york time',\n 'goodby good black sabbath new york time',\n 'teen geisha doll gang bust arm robberi breitbart',\n 'mohamad khwei anoth virginia man palestinian american muslim charg terror',\n 'price obamacar replac nobodi wors financi breitbart',\n 'va fail properli examin thousand veteran',\n 'trump famili alreadi sworn secreci fake moon land soon',\n 'sport writer nfl great jim brown decad civil right work eras say nice thing donald trump breitbart',\n 'watch tv excus republican skip donald trump convent new york time',\n 'open letter trump voter told like',\n 'comment power corpor lobbi quietli back hillari nobodi talk runsinquicksand',\n 'hijack end peac libyan airlin land malta new york time',\n 'like girl girl geniu new york time',\n 'scientist say canadian bacteria fossil may earth oldest new york time',\n 'pro govern forc advanc syria amid talk u russia cooper new york time',\n 'cancer agenc fire withhold carcinogen glyphos document',\n 'work walk minut work new york time',\n 'steve harvey talk hous presid elect trump new york time',\n 'coalit u troop fight mosul offens come fire',\n 'uk citizen war hero get cheap pre fab hous muslim colon get taxpay fund luxuri council home',\n 'vet fight war fed demand money back illeg refuge keep money',\n 'mr trump wild ride new york time',\n 'fbi director comey bamboozl doj congress clinton',\n 'food natur unclog arteri prevent heart attack',\n 'death two state solut',\n 'comment parent date asleep car cop arriv kill facespac',\n 'donald trump team show sign post elect moder new york time',\n 'miami beach tri tame raucou street fishbowl drink stay new york time',\n 'doctor mysteri found dead summit breakthrough cure cancer',\n 'donald trump unsink candid new york time',\n 'shock new mock hillari ad campaign warn take us war enlistforh fightforh dieforh',\n 'exclus famili slain border patrol agent brian terri say eric holder among real crimin respons',\n 'trump tell report wall work ask israel breitbart',\n 'america surviv next year',\n 'commission start press cleveland indian logo new york time',\n 'un plan implant everyon biometr id drill',\n 'trump attack senat credibl gorsuch comment new york time',\n 'clinton advisor lose leak email hillari illeg activ',\n 'art laffer paul ryan perfect right breitbart',\n 'donald trump blame econom crash',\n 'pokemon go player inadvert stop peopl commit suicid japan',\n 'california senat race tale divers flail g p new york time',\n 'exclus sourc say megyn kelli would welcom back fox news',\n 'break preced obama envoy deni extens past inaugur day new york time',\n 'brexit vote go monti python may offer clue new york time',\n 'blind mystic predict bad news trump',\n 'total vet fail left wing snowden fan girl realiti winner get access nsa secret',\n 'somalia u escal shadow war new york time',\n 'free care bless victim orlando nightclub attack new york time',\n 'durabl democrat counti countri could go trump',\n 'fed challeng rais rate may existenti new york time',\n 'russia intent attack anyon absurd say vladimir putin',\n 'f investig errant flight involv harrison ford new york time',\n 'fed rais key interest rate cite strengthen economi new york time',\n 'la expresi n lo siguient ya es la utilizada lo siguient en el castellano',\n 'trump berat news media new strategi need cover new york time',\n 'u drone strike target taliban leader new york time',\n 'u intellig expect al qaeda attack monday new york virginia texa',\n 'told cannabi great revers alzheim',\n 'report megyn kelli kick nbc show kardashian famili interview',\n 'local percent may rich think new york time',\n 'dr david duke mark collett uk collett explain duke trump victori would chang polit forev',\n 'statement senat well fargo chief deepli sorri new york time',\n 'cnn statement distanc network buzzfe fake news dossier breitbart',\n 'c e ponder new game trump rule new york time',\n 'spicer bradi stolen jersey anoth bad press breitbart',\n 'scaredi cat investig peopl enjoy fear new york time',\n 'left vision',\n 'showdown loom u question chines deal german chip design new york time',\n 'trump administr take harder tack trade china new york time',\n 'pew american trust level feder govern plummet histor low breitbart',\n 'islam state support former nation guardsman plead guilti terror charg virginia',\n 'spicer report go rais hand like big boy girl breitbart',\n 'leader applaud gorsuch confirm win pro life movement',\n 'newstick',\n 'french vogu march cover featur transgend model new york time',\n 'trump veer parti line gun control new york time',\n 'oligarchi prepar groundwork steal elect',\n 'ya hay reencuentro de operaci n triunfo que edicion de operaci n triunfo',\n 'chatsworth hous tale five centuri new york time',\n 'uncomfort love affair donald trump new england patriot new york time',\n 'john mccain withdraw support donald trump disclosur record new york time',\n 'strang unend limbo egypt hosni mubarak new york time',\n 'poverti rose u hous district obama presid',\n 'huma abedin seek fbi immun deal',\n 'singl mom escap friend zone one non date time new york time',\n 'boe suit futur spaceflight new spacesuit design breitbart',\n 'trump float oliv branch might keep part health law new york time',\n 'wapo tri compar elizabeth warren break senat rule milo shut violent riot breitbart',\n 'crumpl school bu leav chattanooga daze new york time',\n 'die came back life incred messag human',\n 'fight nation african american museum new york time',\n 'father manchest suicid bomber arrest libya breitbart',\n 'secret true leader',\n 'muslim demand local walk dog public violat sharia disrespect',\n 'hillari campaign bed pac staff donat k fbi agent wife investig',\n 'still tri flip elector colleg block trump win',\n 'al sharpton dem point appeal archi bunker trump voter breitbart',\n 'think mani doom sayer trump get offic',\n 'democrat jump session resign band wagon breitbart',\n 'alt right architect glenn beck open fire alt right grave threat republ audio tweet',\n 'politic justic protect hillari',\n 'north carolina satur surpris reel hurrican matthew new york time',\n 'live love submit memori new york time',\n 'achiev mind work medit cushion requir new york time',\n 'world first zero emiss hydrogen power passeng train unveil germani',\n 'confus chip credit card get line new york time',\n 'brook trump side foreign leader us presid israel russia breitbart',\n 'toxic air home get rid natur',\n 'connecticut reader report record voter registr inspir trump',\n 'germani react merkel trump visit could lot wors new york time',\n 'justin rose outduel henrik stenson golf gold medal new york time',\n 'iceland water cure new york time',\n 'shorten l train shutdown month new york time',\n 'time presid decid new york time',\n 'u n relief offici call crisi aleppo apex horror new york time',\n 'berkeley treat violent anti speech left like kkk',\n 'statist propaganda mani syrian us regim chang kill',\n 'self help guru jame altuch own thing new york time',\n 'trump religi liberti order give session major leeway breitbart',\n 'demoledor amparo contra salgado keiko congresista',\n 'era trump china presid champion econom global new york time',\n 'sad saga john walker lindh rebel without clue',\n 'court disagre michigan vote recount new york time',\n 'berni sander feud democrat leadership heat new york time',\n 'shortest power explan trump victori ever seen',\n 'russia look popul far east wimp need appli new york time',\n 'johnson amend trump vow destroy explain new york time',\n 'donald trump march life full support',\n 'polic offici found dead long island suicid suspect new york time',\n 'radic chang store world global market readi',\n 'like make showbiz best friend new york time',\n 'trump nomin neil gorsuch suprem court new york time',\n 'bidder cast doubt serious mexican border wall project',\n 'stake us elect',\n 'israel approv addit fund settlement west bank new york time',\n 'tx gov abbott sign legisl could put sheriff sanctuari citi jail breitbart',\n 'donald trump hold thank ralli cincinnati announc pick defens secretari new york time',\n 'lawmak look bipartisanship health care new york time',\n 'insid conserv push state amend constitut new york time',\n 'donald trump tell n r hillari clinton want let violent crimin go free new york time',\n 'pope franci trump japan tuesday brief new york time',\n 'mayorsstand day tout support illeg immigr',\n 'trump campaign celebr',\n 'democrat drag jeff session confirm fight breitbart',\n 'break news podesta brother pedo ring mr trump drain swamp v guerrilla economist',\n 'la frase destacada del debat de investidura',\n 'confus jihad hirabah build peac world',\n 'lazi liber journalist smear bannon',\n 'australia close detent center manu island still accept asylum seeker new york time',\n 'politico hillari clinton run breitbart',\n 'giant lynx make ador sound whenev human rub face',\n 'minnesota cop found guilti philando castil shoot trial',\n 'million american kill minut',\n 'wayn madsen cia alway serv interest wall street',\n 'novemb daili contrarian read',\n 'flashback report obama campaign rep talk iran hama',\n 'lesseroftwoevil',\n 'aya cash first time ate veget new york time',\n 'trump advis say isra settlement illeg',\n 'serena william prevail open problem new york time',\n 'soul man sam moor honor perform trump inaugur',\n 'ferrel came back bush destroy trump video',\n 'chines govern concern tough talk trump cabinet breitbart',\n 'billionair report seiz hong kong hotel taken china new york time',\n 'easi know link',\n 'homebodi find ultim home offic new york time',\n 'ann coulter unload paul ryan deepli unpopular obamacar bill breitbart',\n 'transgend bathroom debat turn person vermont high school new york time',\n 'obama hillari want libya gaddafi toppl kill',\n 'alert former soro associ warn pro wrong gold silver skyrocket like',\n 'hillari panick fbi weiner email',\n 'chaotic minut trump defend fine tune machin new york time',\n 'one polic shift patrol anxiou america new york time',\n 'fight ghost fascist aid real one',\n 'monday even brief brexit abort game throne new york time',\n 'eu increas brexit bill demand billion billion',\n 'arianna huffington sleep revolut start home new york time',\n 'iranian missil accident destroy iranian ship aim syria',\n 'sonoma counti california vote creat largest gmo free zone america',\n 'fbi comey wikileak intellig porn journal breitbart',\n 'clare waight keller name first femal design givenchi new york time',\n 'realiti face black canadian nation shame',\n 'top nfl draft prospect caleb brantley charg punch woman face breitbart',\n 'video pacif crest trail associ lavoy finicim murder',\n 'life lesson man seen death',\n 'trump g p work win repeal obama health act new york time',\n 'atlant goldberg confid trump handl matter life death breitbart',\n 'orthodox rabbi support trump',\n 'nuclear tension us russia reach danger point',\n 'gambia join south africa burundi exodu intern crimin court',\n 'peyton man golf presid trump sunday',\n 'obama urg donald trump send signal uniti minor group women new york time',\n 'like miracl woman give birth use ovari frozen sinc childhood new york time',\n 'uconn recip success run run run new york time',\n 'assang final afford opportun give statement rape accus',\n 'hillari puppet show much hillari care god omiss word',\n 'stock market gone high problem new york time',\n 'john kerri reject suggest u involv turkey coup new york time',\n 'trump aid stephen miller u absolut sovereign right determin cannot enter countri breitbart',\n 'year old russian girl speak languag',\n 'power corpor lobbi quietli back hillari nobodi talk',\n 'maintain sunni spirit face hardship new york time',\n 'rush limbaugh comey fire epic troll trump dem breitbart',\n 'twitter sue govern block unmask account critic trump new york time',\n 'warrior resili home cruis cavali new york time',\n 'comey letter clinton email subject justic dept inquiri new york time',\n 'spain malta u uk pressur refus allow russian carrier group refuel port',\n 'review radiohead moon shape pool patient perfection new york time',\n 'man militar polic stand rock work',\n 'woman arrest properti land stolen dapl',\n 'pulitz prize new york time win daili news propublica share public servic award new york time',\n 'vanquish wit takeov bush clinton attend donald trump inaugur breitbart',\n 'specul possibl obama pardon edward snowden bow bergdahl chelsea man breitbart',\n 'cheesi mash potato soul new york time',\n 'unprincipl wapo editor damn comey critic join',\n 'nation wreck immigr civil war brew good swede turn muslim migrant violenc rape murder',\n 'man shot dead offic crucifix gun polic say new york time',\n 'exclus rep jim jordan trump first day think great start breitbart',\n 'haley attack syria one presid finest hour breitbart',\n 'justin bieber defec ador irish fan hotel window',\n 'cancer agenc fire withhold carcinogen glyphos document',\n 'gianno caldwel claim hillari care black vote black live',\n 'isi use ramadan call new terrorist attack new york time',\n 'daili show mock mahatma blondi megyn kelli nbc debut',\n 'health care bill failur part art deal breitbart',\n 'lewandowski comey liar look sign major book deal breitbart',\n 'kimberli guilfoyl discuss potenti white hous press secretari job interview',\n 'clinton campaign chairman john podesta invit occult spirit cook dinner marina abramovi',\n 'obama coalit crumbl leav open trump new york time',\n 'pregnanc chang brain way may help mother new york time',\n 'fema open loan window red cross tri shut shelter',\n 'gaiaport interweb gaia energet strengthen',\n 'scarborough trump poop pant call modern art breitbart',\n 'cook invest time work new york time',\n 'bad news jackson famili woman leak star sick k sex secret',\n 'gorsuch london republican parti thursday even brief new york time',\n 'emma morano last person born die breitbart',\n 'loserpalooza craziest scene anti trump protest breitbart',\n 'trump victori mean africa',\n 'vision life mar earth depth new york time',\n 'obama cancel talk rodrigo dutert philippin say regret slur new york time',\n 'new jersey increas ga tax end long polit stalem new york time',\n 'abc manchest attack like inflam anti islam sentiment breitbart',\n 'hidden plain sight global depopul agenda',\n 'job american new york time',\n 'sander ask obama interven dakota access pipelin disput',\n 'googl add job section search engin includ employ rate breitbart',\n 'cri jordan meme die new york time',\n 'dem rep nchez trump use fear muslim immigr promot polici undermin valu breitbart',\n 'announc saker commun german saker blog vineyard saker',\n 'shoot victim famili watch gun measur stall new york time',\n 'imag reveal crash schiaparelli mar lander',\n 'grassroot coalit share mani question concern betsi devo senat',\n 'octob daili contrarian read',\n 'trump inaugur ball work begin play game breitbart',\n 'trump choic stephen bannon nod anti washington base new york time',\n 'media outrag white hous exclus fake news breitbart',\n 'benni morri unten denial ethnic cleans palestin',\n 'obama hillari clinton pardon could heal divid nation',\n 'except handl',\n 'nota conceptu para la presidencia de rusia',\n 'respons philippin presid fatal blast rais fear new york time',\n 'david adjay design museum speak differ languag new york time',\n 'bulletin righteou jew trump rule ruin gop establish etc item',\n 'britain reduc terror level one notch sever terror cell arrest',\n 'mute alon never short kind word friend new york time',\n 'iranian militari command claim rogu nation send elit fighter infiltr us europ',\n 'account',\n 'watch muslim student claim non believ kill islam countri breitbart',\n 'yemen yet anoth fals flag protect saudi us interest middl east new eastern outlook',\n 'watch muslim palestinian declar follow prophet muhammad kill christian jew',\n 'street dog kerala call upon superdog krypto rescu human',\n 'israel track anti govern journalist facebook',\n 'new alaska law take first step common core',\n 'key baylor footbal execut demarko butler fire text scandal breitbart',\n 'calgari airport arriv yyc',\n 'georg michael wrestl fame frank sinatra advic new york time',\n 'sharon old laureat sexual scrutin bodi ode new york time',\n 'blue collar elect shock liber media',\n 'die new york time',\n 'polic fire rubber bullet pipelin protest',\n 'ann coulter hit suppos gay icon kathi griffin isi crib antic',\n 'contamin food china enter u organ label',\n 'ten famou peopl read summer new york time',\n 'hillari clinton knew year ago anthoni weiner pedophil wikileak',\n 'million stairway nowher far west side new york time',\n 'cyber war trifl catastroph inform',\n 'presid putin ask us stop provok russia',\n 'inquiri cloud de blasio bid come strong manag race new york time',\n 'us drone strike afghanistan kill wound sever civilian',\n 'bobbi hutcherson vibraphonist colorist rang sound die new york time',\n 'amnesti advoc boycott agenc meet pro american advoc invit breitbart',\n 'project verita robert creamer illeg foreign wire transfer caught tape',\n 'ex flotu michel obama trump want feed crap kid',\n 'south sudan slide closer war gunfir rumbl capit new york time',\n 'nation mood focu group reflect angri divid america',\n 'bankrupt puerto rico vote u statehood breitbart',\n 'overwhelm brexit basic new york time',\n 'seattl gay mayor accus sexual molest teen breitbart',\n 'gender fluiditi runway new york time',\n 'us nato attack putin militari drill russia world war red alert kopya',\n 'new clinton email came underag sex pest anthoni weiner',\n 'montana bear attack lesson hope surviv first aid new york time',\n 'best america new york time',\n 'pecan step pie plate new york time',\n 'barack obama plagiar tell word matter breitbart',\n 'lower back ach activ wait new guidelin say new york time',\n 'sleep hour peopl die new york time',\n 'veep season episod littl danc new york time',\n 'dr oz trump offer placebo transpar new york time',\n 'comment gold medalist wrestler get violent polic cop choos engag deadli forc buck roger',\n 'one year water orang counti four day breitbart',\n 'doctor enemi afghan forc target f hospit new york time',\n 'year old hebrew mention jerusalem found',\n 'spirit cook disturb podesta email yet warn graphic content',\n 'donald trump misstep risk put ceil support swing state new york time',\n 'green parti margaret flower challeng us senat debat maryland undemocrat',\n 'offic rescu drown deer pool quick think',\n 'polic suspect punch armi veteran steal servic dog outsid home bronx breitbart',\n 'yike megyn kelli receiv rude awaken remind replac',\n 'iran send elit irgc warfight europ unit state prepar battl',\n 'hillari endors donald trump presid accord wikileak',\n 'woodward trump dossier garbag document intellig chief apolog trump breitbart',\n 'emmi nomin traci morgan emot return saturday night live new york time',\n 'trump pick mick mulvaney south carolina congressman budget director new york time',\n 'donald trump el primer president naranja de lo estado unido',\n 'attorney gener loretta lynch plead fifth',\n 'russia u missil defens pose deep risk secur asia',\n 'washington plan b syria realli mean',\n 'upset brexit british jew look germani new york time',\n 'girl ask boyfriend give iphon use money buy hous',\n 'amnesti intern slam obama gov kill civilian syria',\n 'find flock rural writer book club new york time',\n 'venezuela crisi enter danger phase maduro foe go milit',\n 'emigr super bloc part viii quasi legal coup hillari clinton inform oper elect',\n 'could question ask love one vote way new york time',\n 'bbc ask realli happen clinton haiti',\n 'trump pick thoma bossert top counterterror advis new york time',\n 'come unglu',\n 'trump jr suspici help arizona woman push stall car use photo op video',\n 'suicid chicago polic offic skyrocket',\n 'think suv safe shock video',\n 'peopl tortur kill sufi muslim shrine pakistan',\n 'comment architectur clever arrang brick man transform heal process architectur clever arrang brick man transform heal process new earth media',\n 'hybrid war strategi africa introduct',\n 'julian assang speak prerecord rt interview',\n 'watch israel love hollywood actor issu major plea america minut rock elect',\n 'n l donald trump botch independ day moment new york time',\n 'exclus congresswoman marsha blackburn say elimin net neutral preserv open internet breitbart',\n 'attach year round greenhous home',\n 'sheriff clark obama final day obama like tenant evict properti gonna trash place way door video',\n 'weird ban women iran',\n 'end game close clinton deep state turn',\n 'trump fight chanc establish new eastern outlook',\n 'trade stanc toward china clinton trump signal chill new york time',\n 'review secret life pet amus miss opportun new york time',\n 'first case demonetis relat hiv man unprotect sex atm machin',\n 'thing need know dakota access pipelin protest',\n 'koch brother battl prevent dark money disclosur south dakota',\n 'milo berkeley event evacu mask protest light fire storm venu breitbart',\n 'authoritarian west demon strong popular leader',\n 'swedish journo sweden collaps without illeg migrant',\n 'promis internet career vine dead write newsbiscuit cheer',\n 'iowa trump voter unfaz controversi new york time',\n 'radic american grown marxist terror group made announc januari th conserv daili post',\n 'guardian opinion writer trump bannon count terrorist massacr',\n 'putin pro trump onlin troll spill bean samantha bee',\n 'along mosul front line desper civilian dug troop fighter new york time',\n 'second avenu subway open train delay end happi tear new york time',\n 'year old cher don see top nippl pasti billboard award',\n 'report stop nine percent illeg alien border crosser would pay trump border wall breitbart',\n 'ice union issu final warn voter',\n 'elit new york polic unit rehears terrorist attack new york time',\n 'trump hollywood star vandal out shameless new video taunt polic seek',\n 'california today view san francisco lean tower space new york time',\n 'matthew trump speech putin say america first hitlerian background breitbart',\n 'vladimir putin valdai intern discuss club shape world tomorrow vladimir putin',\n 'chines social media rage unit airlin controversi breitbart',\n 'america better without border',\n 'chao terror tie make venezuela direct threat usa former un secur council presid say breitbart',\n 'rick ross documentari video doubl ad checker new york time',\n 'oil spill pacif ocean sinc last month total ignor',\n 'podesta mill go dump email',\n 'thoughtlessli disbeliev conspiraci theori need read',\n 'dr david duke dr slatteri expos hillari treason trump duke win',\n 'russian frigat syrian cost blast terrorist hq cruis missil video',\n 'hillari clinton like covert action stay covert transcript show new york time',\n 'us kurdish troop involv invad isi capit raqqa',\n 'awaken human await fulli script end controversi elect day near',\n 'georg soro back climat march bring celeb nation mall swelter saturday breitbart',\n 'edward snowden long strang journey hollywood new york time',\n 'black trump man belong murder cult',\n 'bill clinton lover call ruthless hillari warden',\n 'russia cina e arabia saudita domano l egemonia del dollaro di ariel noyola rodr guez',\n 'third month india cash shortag begin bite new york time',\n 'one trump administr posit gain popular go shock breitbart',\n 'bill clinton said white middl class life expect declin obama year',\n 'furiou eric holder issu dire warn comey partisan smear',\n 'memo trump action day',\n 'chao desper thousand flee aleppo amid govern advanc new york time',\n 'wildfir empti fort mcmurray alberta oil sand region new york time',\n 'schumer session investig seem violat recus breitbart',\n 'amid divis march washington seek bring women togeth new york time',\n 'zoe saldana trump hollywood got cocki becam arrog bulli',\n 'anti establish trump plan appoint goldman sach georg soro insid',\n 'cholesterol drug men gonad',\n 'trump flynn treat unfair fake media illeg leak breitbart',\n 'california today virtual realiti investig trayvon martin case new york time',\n 'nearli decad later apolog lynch georgia new york time',\n 'marcia clark final moment savor emmi new york time',\n 'brexit speech theresa may outlin clean break u k new york time',\n 'man hate black men found victim care other new york time',\n 'michael flynn fail disclos incom russia link entiti new york time',\n 'feder judg throw convict c sniper four life sentenc',\n 'donald trump obama thanksgiv weekend brief new york time',\n '',\n 'vine celebr life death app clip',\n 'squatti potti ceo griffin imag divis disturb decis realli',\n 'thing let go new year',\n 'comment polic union post pic hillari arrest facebook dan',\n 'koch brother secretli alli w georg soro hillari clinton',\n 'trump expand search secretari state new york time',\n 'teacher yr old wait trump elect go deport muslim',\n 'cost choic top concern health insur custom new york time',\n 'shaq announc plan run sheriff breitbart',\n 'illeg immigr cross border vote',\n 'pirat fail take helm iceland pirat parti gain mileag enough steadi ship alon',\n 'billionair build davo new york time',\n 'run danger alaskan trail new york time',\n 'la pel cula de su vida descubr que ha llevado siempr un trozo de lechuga entr lo dient',\n 'dem win congression basebal game give trophi republican steve scalis breitbart',\n 'franc present strict gun control paper tiger breitbart',\n 'china russia silk road commod nixon massiv bull market gold silver',\n 'troubl quarterback johnni manziel appear shop mall sign autograph next super bowl breitbart',\n 'bob dylan accus lift part nobel prize speech sparknot',\n 'blimp crash e coli contamin snakebitten u open wit spectat death breitbart',\n 'public employe shadow world american carnag',\n 'espn lz granderson justifi think kaepernick blackbal nobodi sign breitbart',\n 'prescript painkil death drop state legal marijuana',\n 'low growth world get new york time',\n 'istanbul donald trump benjamin netanyahu morn brief new york time',\n 'hitler hillari',\n 'dalian wanda hollywood event product new york time',\n 'comment pm water cooler timmi',\n 'breakdown clinton money machin',\n 'california forefront climat fight back trump new york time',\n 'g e year old softwar start new york time',\n 'hillari clinton hamilton would enough new york time',\n 'brain concuss children adult know vaccin damag',\n 'trump great paul craig robert',\n 'hillari frantic dirti secret implod get wors prison bombshel',\n 'rent car know rule road new york time',\n 'impeach polit brazil someth sinist new york time',\n 'trump interview moder view defi convent new york time',\n 'review sweetbitt bright light big citi restaur set new york time',\n 'gonzaga beat south carolina final four shot anoth first new york time',\n 'gorka trump interventionist command chief noth chang breitbart',\n 'thank fbi clinton email investig shift poll number significantli trump favor',\n 'race class dictat republican futur',\n 'gorsuch scalia lion law judg look law demand prefer breitbart',\n 'nc state provid student post elect comfort food therapi',\n 'iraqi troop push mosul kill across iraq',\n 'pregnant women turn marijuana perhap harm infant new york time',\n 'biggest winner loser u presidenti elect',\n 'trump psychic listen word one year ago look happen',\n 'mccain trump attack press dictat get start breitbart',\n 'judgment day one reason everi christian jew america vote donald trump',\n 'coup stolen elect',\n '',\n 'thing need know black dakota access pipelin protest',\n 'germani iraqi asylum seeker convict rape chines student',\n 'teenag boy knock classmat assault femal teacher face epic',\n 'take bring hillari clinton justic',\n 'ice round crimin alien texa capit',\n 'elect hate grief new stori',\n 'hillari question michel obama help',\n 'keith vaz british lawmak quit senior post amid sex drug scandal new york time',\n 'comment sunday devot whole univers grain sunday devot whole univers grain fellowship mind kommonsentsjan',\n 'donald trump syria emperor akihito morn brief new york time',\n 'hell frozen michel obama made hillari destroy move twitter',\n 'flynn critic call nuclear scientist miss usa dumb diss femin call health care privileg breitbart',\n 'hampshir colleg student accus assault basketbal player wear hair braid claim cultur appropri breitbart',\n 'obamamomet toxic legaci rule lawless',\n 'simon manuel gold rippl beyond pool new york time',\n 'vote machin program order steal elect',\n 'redraw tree life scientist discov new bacteria group stun microbi divers underground',\n 'trump putin destroy isi',\n 'photo game camera catch glimps possibl antler buck',\n 'turkey relat europ sink amid quarrel netherland new york time',\n 'wikileak document reveal unit nation interest ufo video',\n 'blue state blue deliber politic intimaci',\n 'clare hollingworth report broke news world war ii die new york time',\n 'north miami polic offic shoot man aid patient autism new york time',\n 'path total dictatorship america shadow govern silent coup',\n 'effort curb polic abus mix record uncertain futur new york time',\n 'signal major bottom gold silver',\n 'hey ho old england embrac punk rock year later new york time',\n 'cano reek genocid theft white privileg say canadian professor',\n 'illeg immigr advoc pledg resist deport trump',\n 'cdc scientist confirm donald trump right vaccin autism',\n 'breitbart news daili drain swamp breitbart',\n 'trump media frankenstein monster',\n 'watch toni romo say goodby dalla cowboy instagram video breitbart',\n 'global far right conspiraci theori buoy trump new york time',\n 'georgia father convict murder toddler death hot car new york time',\n 'richard boll die wrote color parachut new york time',\n 'stranahan steve bannon nail media fight trump breitbart',\n 'texa elector expect massiv corrupt relat elector colleg vote',\n 'guilti power nullif counteract govern tyranni',\n 'trillion new debt day',\n 'tori councillor say homeless peopl elimin',\n 'review hillbilli elegi tough love analysi poor back trump new york time',\n 'crimin chief',\n 'govern lie movi',\n 'trump brexit defeat global anyway',\n 'face congress sport offici begin confront sexual abus new york time',\n 'airbnb end fight new york citi fine new york time',\n 'big pharma martin shkreli suspend twitter breitbart',\n 'next big tech corridor seattl vancouv planner hope new york time',\n 'evid robot win race american job new york time',\n 'see africa road new york time',\n 'happen hip hop hillari goe dead broke brace',\n 'bill maher high trump state free speech new era new york time',\n 'l p g tour donald trump complic new york time',\n 'legend art cashin trump presid new world order gold brexit great depress see panic',\n 'fl sheriff day goe arrest lot illeg alien prey peopl breitbart',\n 'donald trump threaten cancel berkeley feder fund riot shut milo event',\n '',\n 'bill herz last war world broadcast crew die new york time',\n 'gari johnson equat syria death caus assad west new york time',\n 'republican senat bill defund un anti israel resolut',\n 'rose evanski pioneer women hairstyl die new york time',\n 'blackston saudi arabia announc billion invest u infrastructur breitbart',\n 'satur fat heart diseas greatest scam histori medicin',\n 'dem sen merkley gorsuch nomin court pack scheme turn nomin breitbart',\n 'four common mistak burn wood',\n 'push internet privaci rule move statehous new york time',\n 'madonna gave surpris pop concert support clinton new york time',\n 'trump support plan anti trump ralli lack tax reform',\n 'british healthcar offer glimps futur obamacar',\n 'trump iranian presid rouhani better care breitbart',\n 'break sec defens carter attempt fool american public veteran caught red hand',\n 'putin advis take credit trump victori mayb help bit wikileak',\n 'warren buffett stake suggest appl grown new york time',\n 'fbi clinton email investig shift poll number significantli trump favor',\n 'hillari horrifi pic surfac overnight want',\n 'paul lepag governor main say quit new york time',\n 'colorado radio station paul martin interview dave hodg elect fraud stand rock',\n 'bill clinton want call someth complet ridicul hillari elect',\n 'son death salli mann stage haunt show new york time',\n 'trump team link russia crisscross washington new york time',\n 'north korean arrest kill kim jong un half brother new york time',\n 'surgeon admit mammographi outdat harm women',\n 'war street pari arm migrant fight run battl french capit',\n 'oscar voter meryl streep nomin anti trump speech',\n 'texa enact anti sharia law',\n 'chicago polic board chair windi citi need feder help turn tide crime breitbart',\n 'look beyond novemb th song oligarchi doom',\n 'neil young celebr st birthday perform stand rock',\n 'exclus amid paul ryan obamacar push mississippi chri mcdaniel prep potenti senat run breitbart',\n 'boom short list peopl inspir michel obama',\n 'artist go boycott grammi face fallout fraught award new york time',\n 'video idiot destroy trump hollywood star get bad news second later',\n 'elit want global economi collaps',\n 'best health benefit sweat',\n 'senat confirm scott pruitt e p head new york time',\n 'cricket snake crab mix fact fraud new york subway new york time',\n 'session potenti deputi face stern test russia inquiri new york time',\n 'suicid squad top box offic second weekend new york time',\n 'health insur plan rate hike obamacar exchang breitbart',\n 'look like someon think democrat ohio full manur',\n 'syrian war report novemb govt forc relaunch offens oper insid outsid aleppo',\n 'mysteri solv get hillari clinton get movin twitchi com',\n 'senat narrowli pass rollback obama era auto r rule new york time',\n 'cramp costli bay area cri build babi build new york time',\n 'champion optim obama hail clinton polit heir new york time',\n 'fiona appl releas trump protest chant new york time',\n 'susan rice u must integr lgbt right gov foreign polici',\n 'trump organ move avoid possibl conflict interest new york time',\n 'sweden brink polic forc push break point violenc amid migrant influx',\n 'comment hemp vs cotton ultim showdown hemp readdress cannabi kuebiko co',\n 'jare kushner trump son law clear serv advis new york time',\n 'fisherman face life prison catch worth cocain sell breitbart',\n 'step ring roll punch new york time',\n 'adnan sy serial podcast get retrial murder case new york time',\n 'scientist say weird signal space probabl alien',\n 'u swimmer disput robberi claim fuel tension brazil new york time',\n 'way take self care vacat new york time',\n 'economist sign letter urg america vote donald trump',\n 'campaign long expens chaotic mayb good thing new york time',\n 'alien megastructur star target million seti search',\n 'brazen kill myanmar lawyer came spar militari new york time',\n 'jane pauley back new york time',\n 'deutsch bank consid altern pay cash bonu',\n 'danni dyer footbal foul up dvd second',\n 'lack oxford comma could cost main compani million overtim disput new york time',\n 'european parliament committe consid legal right robot breitbart',\n 'rex tillerson aggress dealmak whose tie russia may prompt scrutini new york time',\n 'fbi conduct new investig email clinton privat illeg server',\n 'heart mine us empir cultur industri',\n 'report megyn trash trump newt murdoch announc replac avail',\n 'russian scientist track sea lion space',\n 'seiz definit popul reuter warn us chao come',\n 'seaworthi readi earli unveil new york time',\n 'donald trump add k mcfarland nation secur team new york time',\n 'snowstorm bring wintri mix slush gripe new york time',\n 'republican wilder tillerson thursday even brief new york time',\n 'review bryan cranston shine lyndon johnson way new york time',\n 'samsung urg consum stop use galaxi note batteri fire new york time',\n 'elect result discuss presidenti elect open thread',\n 'ag lynch told fbi director comey go public new clinton email investig',\n 'donald trump rise white ident polit',\n 'red blue divid six view america new york time',\n 'franc identifi nd man attack church kill priest new york time',\n 'dreamer arrest nationwid gang crackdown',\n 'maxin water american public get weari trump impeach yet breitbart',\n 'wwn horoscop',\n 'deport italian mobster caught sneak across u mexico border',\n 'leak audio hillari clinton push rig palestin elect',\n 'iranian saudi proxi struggl tore apart middl east new york time',\n 'lavrov kerri discuss syrian settlement',\n 'l influenc de usa et de l otan dan le rapport de l ue avec la chine manlio dinucci',\n 'open border group gird h b fight',\n 'weinerg expos darker dirtier secret imagin',\n 'trump elect break chain polit correct',\n 'whitehous gov take climat page put america first energi plan breitbart',\n 'iran warn presid elect trump mess sweetheart nuclear deal obama',\n 'toni perkin trump eo affirm jefferson doctrin separ church state',\n 'moon fell heaven',\n 'mom star launch campaign plan parenthood',\n 'assad lesson aleppo forc work consequ new york time',\n 'penc bossert bannon demot continu play import polici role breitbart',\n 'bundi ranch occupi acquit count challeng corrupt bureau land manag',\n 'report googl face fine billion eu antitrust case breitbart',\n 'ask thom york write cover quot book',\n 'internet flasher',\n 'gretchen carlson suit aim retali discrimin new york time',\n 'googl launch ai program detect hate speech breitbart',\n 'poll show hillari lead useless mislead cartoon',\n 'last second lane merger good traffic new york time',\n 'macau skip casino embrac past new york time',\n 'montreal ungainli unlov christma tree new york time',\n 'photo jupit nasa spacecraft near far new york time',\n 'trump labor pick andrew puzder critic minimum wage increas new york time',\n 'nico rosberg take formula one driver titl despit lewi hamilton win abu dhabi new york time',\n 'sensori isol tank taught brain new york time',\n 'chelsea handler botch tweet attack trump grandchild',\n 'report trump move tax reform plan without speaker paul ryan breitbart',\n 'ag jeff session unveil program acceler deport imprison illeg breitbart',\n 'former us attorney dc new hillari email probe result revolt insid fbi',\n 'keep appear ruin former dalla banker new york time',\n 'sesam seed knee osteoarthr',\n 'white cop interact black real life',\n 'pennsylvania republican push ban privat gun sale breitbart',\n 'review warcraft orc differ domain fight heart new york time',\n 'good peopl share bad info need fact check click share',\n 'charit wed registri new york time',\n 'nypd raid hillari properti found ruin life usa newsflash',\n 'feinstein gorsuch originalist doctrin realli troubl origin would allow segreg breitbart',\n 'confront flare obama travel parti reach china new york time',\n 'reason appli job trump administr',\n 'thought silver market rig',\n 'hear agn martin seren john zorn frenzi music new york time',\n 'must see welcom famili mani hispan american vote donald trump',\n 'iraqi forc enter western mosul fierc battl isi new york time',\n 'european futur putin migrant crisi video',\n 'roll stone defam case magazin report order pay million new york time',\n 'hillari sick tire suffer weiner backup',\n 'taiwan itali joe mcknight friday even brief new york time',\n 'shiit militia say close tal afar turkey warn limit',\n 'brother clinton campaign chair activ foreign agent saudi arabian payrol',\n 'must fight trump goe conserv freedom caucu new york time',\n 'isi kidnap kill least civilian afghanistan',\n 'hold hillari account',\n 'break ted cruz call special prosecutor investig hillari truthfe',\n 'spare gunman charleston churchgoer describ night terror new york time',\n 'war satur fat harm peopl poor countri shun tradit fat like coconut oil',\n 'democrat garland mind mobil suprem court fight new york time',\n 'comment best kind milk dairi best kind milk dairi collect evolut apg editori',\n 'harri reid blast comey misconduct drop bombshel fbi sit russian trump info',\n 'nation review conservat inc plan cave even immigr',\n 'watch thug call us marin pussi bare live tell tale',\n 'next us presid psycho lesbian plu break news video',\n 'critic see effort counti town purg minor voter roll new york time',\n 'even brief hillari clinton donald trump cultur revolut new york time',\n 'indiana parent lose babi year live jail abus say never happen',\n 'roll stone paint blue new album new york time',\n 'uber extend oliv branch local govern data new york time',\n 'wilder put dutch first brussel africa asylum seeker',\n 'donald trump good educ enrich mind soul',\n 'watch brad pitt play afghanistan war gener war machin teaser breitbart',\n 'two power earthquak strike central itali',\n 'indoor garden made easi nutritow',\n 'elizabeth warren defin sleazi hypocrisi',\n 'rush limbaugh reilli departur natur campaign breitbart',\n 'museum truste trump donor support group deni climat chang new york time',\n 'cecil richard credit plan parenthood support stop ahca breitbart',\n 'switch chip know anymor',\n 'u conced million payment iran delay prison leverag new york time',\n 'australia say foil terrorist plot new york time',\n 'orovil dam state feder govern share blame',\n 'daili traditionalist jeff schoep nsm',\n 'michael moor joe blow vote trump ultim f elit human molotov cocktail',\n 'jaguar owner shahid khan oppos trump immigr ban new york time',\n 'anti trump advert side bu realli visual clever see motion',\n 'piano man mani face stranger stori new york time',\n 'ticket releas harri potter curs child new york time',\n 'fbi visit man home film us postal distribut center',\n 'hispan crowd boo marco rubio stage',\n 'fire tv report receiv thousand sexual violent threat',\n 'detain illeg alien end day hunger strike',\n 'break silenc offic testifi kill walter scott new york time',\n 'illeg immigr allegedli kill park spot',\n 'presid trump honor littl sister poor first white hous nat l day prayer year breitbart',\n 'hillari clinton support call recount vote battleground state',\n 'hbo scrap jon stewart anim comedi seri',\n 'sentenc murder rare book dealer',\n 'latest stock market invest book financi market',\n 'fashion industri ceo support plan parenthood civic respons',\n 'anti trump protest paid stage craigslist reveal',\n 'men exercis put damper sex life new york time',\n 'bake soda coconut oil kill cancer eye open evid',\n 'trump cite evid suggest susan rice commit crime new york time',\n 'breitbart news daili gorsuch scotu breitbart',\n 'hillari arrest',\n 'siri open smart lock let neighbor walk hous',\n 'donald trump michael phelp zika tuesday even brief new york time',\n 'obama furiou fed deplor drop piec gift',\n 'l mark year sinc rodney king riot breitbart',\n 'de facto us al qaeda allianc inform',\n 'cori booker paul rever moment underway russian come breitbart',\n 'rapper troy ave shot brooklyn new york time',\n 'seattl judg ignor jihad convict prior impos refuge reform ban breitbart',\n 'texa student skip school protest arrest violent crimin',\n 'trump aid tri reassur europ mani wari new york time',\n 'china trigger next global recess',\n 'bomb kill baghdad new york time',\n 'comment black racism martin wright',\n 'thank fbi clinton email investig shift poll number significantli trump favor',\n 'u rescu attempt afghanistan miss western hostag hour new york time',\n 'rick rule look sprott asset manag client money right',\n 'farm owner arrest protest dakota access pipelin theft land',\n 'trump pois lift ban c black site prison new york time',\n 'tesla musk investig solarc congress',\n 'ridicul stupid thing men keep women',\n 'press tv duff un condemn moder terrorist',\n 'nemesi scourg western world',\n 'trump budget new foundat american great breitbart',\n 'exclus islam state support vow terror group retak mosul liber',\n 'roll thunder motorcyclist return c honor pow mia breitbart',\n 'interest fun fact stethoscop',\n 'china seek bigger role world stage xi jinp go davo world econom forum new york time',\n 'veteran prepar join stand rock protest stop dakota access pipelin',\n 'photo latin america condemn venezuela excess use forc protest breitbart',\n 'sugar feed cancer cell may even creat',\n 'john kerri urg ground militari aircraft key area syria new york time',\n 'outsid money favor hillari clinton rate donald trump new york time',\n 'fake news new york time target breitbart report truth breitbart',\n 'blast new yorker examin psycholog shrapnel new york time',\n 'resist schwarzenegg call grassroot revolut u exit pari agreement',\n 'virginia offici request u inquiri inmat death jail new york time',\n 'report voter fraud crash cours',\n 'associ press report admit fake news stori hillari clinton',\n 'review garth brook bring rous anthem ballad yanke stadium new york time',\n 'sicher trainieren beim spin gilt ab sofort helmpflicht',\n 'everi asset class collaps need look wealth term mani chicken much ga buy',\n 'review halt catch fire time travel silicon valley dawn new york time',\n 'obama use religi test favor muslim christian',\n 'wingsuit flyer vs tree',\n 'turkey say airport bomber kyrgyzstan russia uzbekistan new york time',\n 'turmer power artifici drug',\n 'facebook caught sell target advertis exclud differ race',\n 'gatlinburg resid return home wildfir destruct new york time',\n 'year old girl use human bomb nigeria attack',\n 'shock berkeley poll california voter want democrat work trump breitbart',\n 'famili terror attack victim sue twitter provid resourc servic isi breitbart',\n 'philippin leader vow pardon polic accus mayor death new york time',\n 'fda found manipul media favor big pharma',\n 'jay h lehr begin end epa',\n 'imahdi arriv satan practic leader',\n 'ag session dem sen harri abl rush fast make nervou breitbart',\n 'u n envoy say u still back palestinian state new york time',\n 'trump happen',\n 'japan vote strengthen shinzo abe goal chang constitut new york time',\n 'trump camp caught cam brag voter suppress women black video',\n 'chelsea man ask obama cut sentenc time serv new york time',\n 'red sox broadcast jerri remi think foreign player use translat',\n 'shi ite militia join iraq mosul attack',\n 'escap reign super bowl commerci polit prove inescap new york time',\n 'naval brief novemb th ledahu',\n 'scandal video footag anonym expos huma hillari',\n 'jar new level confront conflict hit washington new york time',\n 'clinton transmit classifi info lawyer',\n 'hillari russian hack guid american might trump breitbart',\n 'gener elect campaign suspend wake manchest suicid bomb',\n 'grand slam father son film smash hit famili',\n 'venezuela econom crisi mean left fail',\n 'herd stamped wild boar kill three islam state jihadist breitbart',\n 'venu mar believ gender often wrong new york time',\n 'obama pardon list hotel magnat own studio new york time',\n 'suspect captur ambush style kill two iowa cop',\n 'megyn sic kelli gowdi triumphantli comment hillari case reopen',\n 'famili friendli polici friendliest male professor new york time',\n 'ringo starr anuncia que deja lo beatl',\n 'war less immin clinton defeat',\n 'mi chief present russia grow threat british interest',\n 'washington state upend trump travel ban new york time',\n 'protect swerv polic chief caught speed get laugh ticket video',\n 'fake news trump hit mexico explod',\n 'go wikileak',\n 'former cia director blame millenni wikileak document breitbart',\n 'tell stori slaveri new york time',\n 'live wire dutch elect high turnout expect controversi turkish mosqu poll centr',\n 'shave mean freedom omar',\n 'bombshel leak email expos muslim got obama administr',\n 'nativ american part ten lost tribe jewish peopl',\n 'blm rapper bill alleg son nasti surpris hillari',\n 'kevin durant join golden state warrior new york time',\n 'indian call center becom major center defraud american breitbart',\n 'congress attorney gener lynch plead fifth secret iran ransom payment',\n 'lo angel time editori lose trump narcissist demagogu breitbart',\n 'swirl untruth falsehood call lie lie new york time',\n 'hillari clinton lead donald trump new hampshir florida poll show new york time',\n 'gene wilder huma abedin donald trump monday even brief new york time',\n 'watch blimp crash catch fire us open breitbart',\n 'toddler loos gun car mother die new york time',\n 'asian american actor fight visibl ignor new york time',\n 'mexican feel environ',\n 'insid donald trump last stand anxiou nomine seek assur new york time',\n 'park servic name divers nation landmark new york time',\n 'weiner rise white hous alli disgrac ex congressman hire breitbart',\n 'trump lose grab musket former congressman readi go full revolut',\n 'decod north korea claim success nuclear test new york time',\n 'bill belichick wit list testifi aaron hernandez doubl murder case breitbart',\n 'l mayor silent citi rise violent crime breitbart',\n 'theresa may new british prime minist give bori johnson key post new york time',\n 'donald trump hillari clinton iphon wednesday even brief new york time',\n 'usa kill million peopl victim nation sinc world war ii',\n 'polic offic face backlash hillari photo',\n 'shakespear remain authent bore',\n 'georgia candid jon ossoff film firm financ facebook fact check funder',\n 'effort defeat isi u iran imped one anoth new york time',\n 'rick put bullet trump wilson potu support see scalis shoot bless breitbart',\n 'western intellig agenc run al qaeda camp north africa',\n 'trump tell plan parenthood fund stay abort goe new york time',\n 'comment hillari clinton gun control agenda expos wikileak email braindiseasecalledliber',\n 'barack obama delay suspend elect hillari forc new fbi email investig',\n 'donald trump incit feud g p candid flee shadow new york time',\n 'germani student forc chant allahu akbar punish refus trip mosqu',\n 'meteor space junk rocket mysteri flash hit siberia',\n 'trump nation secur advis call russian envoy day sanction impos new york time',\n 'project verita implic democrat oper claim credit romney video',\n 'laid american requir zip lip way grow bolder new york time',\n ...]"
     },
     "execution_count": 77,
     "metadata": {},
     "output_type": "execute_result"
    }
   ],
   "source": [
    "# Seeing the corpus\n",
    "corpus"
   ],
   "metadata": {
    "collapsed": false,
    "ExecuteTime": {
     "end_time": "2024-02-29T10:56:47.675004200Z",
     "start_time": "2024-02-29T10:56:47.667000100Z"
    }
   },
   "id": "728e883e6005ade8",
   "execution_count": 77
  },
  {
   "cell_type": "code",
   "outputs": [
    {
     "data": {
      "text/plain": "[[4142, 4115, 1780, 2801, 17, 2619, 1053, 35, 4065, 2791],\n [1924, 391, 3605, 2104, 3891, 2074, 4352],\n [2224, 583, 30, 1193],\n [2382, 1161, 1518, 3414, 3101, 4326],\n [894, 3891, 479, 1199, 4258, 4452, 3891, 773, 4463, 3255],\n [4949,\n  3131,\n  54,\n  4184,\n  556,\n  3647,\n  2101,\n  4446,\n  1188,\n  2617,\n  1932,\n  4719,\n  2658,\n  350,\n  4352],\n [1332, 1129, 4776, 2798, 537, 425, 537, 4795, 1475, 1881, 2967],\n [326, 1307, 99, 3300, 2007, 2037, 3647, 29, 1475, 1881, 2967],\n [150, 2439, 4254, 3613, 4028, 619, 1877, 1499, 3647, 3274],\n [2728, 2141, 747, 4427, 4812, 162, 323, 2312],\n [3662, 4538, 821, 4973, 2725, 4130, 4275, 4881, 4815, 4819, 3699],\n [3414, 356, 17, 619, 3647, 2007],\n [529, 3855, 145, 1528, 4586, 1953, 512, 4160, 1938],\n [3077, 1291, 4191, 3733, 3377, 4775, 1861, 1475, 1881, 2967],\n [1701, 1260, 1720, 2892, 738, 1475, 1881, 2967],\n [996, 594, 3044, 2508, 983, 174, 2469, 4995, 2802, 248],\n [2494, 3150, 391],\n [640, 1668, 4079, 1051, 3647, 4433, 3609, 4352],\n [2461, 3792, 3605, 3850, 3338, 3834, 3540, 4894, 4452],\n [2312, 606, 3647, 2876, 1434, 4352],\n [3337, 1783, 4173, 1497, 188, 3540, 3420, 3886, 2659, 1475, 1881, 2967],\n [3125, 3431, 813, 3771, 3642, 4972, 1583],\n [2658, 4410, 2320, 4338, 2299, 2405, 3196, 1281, 3520, 1103, 2679, 4352],\n [3402, 391, 4788, 3015, 1060, 1038, 961, 2877],\n [2147, 2147, 387, 1370, 1055, 2207, 3850, 3745, 1313, 1475, 1881, 2967],\n [391, 3605, 4876, 2861, 1475, 1881, 2967],\n [640, 1668, 4079, 2746, 4309, 4912, 1370, 4352],\n [3119, 2204, 1480, 1127, 1704, 1475, 1881, 2967],\n [1502, 978, 3904, 3079, 1052, 2367, 1534, 2818, 2477, 1475, 1881, 2967],\n [1547, 357, 4122, 1281, 2905, 657, 2660, 3674, 4825, 1475, 1881, 2967],\n [2007, 1411, 3642, 1733, 1272, 4787, 1475, 1881, 2967],\n [1865, 4291, 2049, 3201, 152],\n [2538, 2824, 1259, 814],\n [1213, 4869, 3967, 3471, 3103, 2262, 3403, 4352],\n [4560, 3601, 4560, 799, 61, 3931, 1475, 1881, 2967],\n [2027, 497, 4815, 1373, 4929, 203, 1740, 4352],\n [857, 801, 150, 4242],\n [1202, 1821, 4250, 1032, 1923, 4775, 1475, 1881, 2967],\n [572, 3729, 4314, 3578, 150, 2347, 1317, 1077, 4352],\n [3109, 3303, 1630, 1616, 900, 2566, 387, 1475, 1881, 2967],\n [3522, 3008, 4524, 1949, 1768, 1769, 4689, 3871, 350],\n [1398, 935, 1084, 3412, 4258, 1475, 1891, 1475, 1881, 2967],\n [1683, 2299, 2202, 2768, 3492, 441, 1050, 4759, 1858, 1512, 1446, 4352],\n [2045, 1060, 974],\n [1854, 3254, 2231, 3818, 3481, 1243, 2192, 1406, 2624, 4352],\n [3647, 814, 2045, 1619, 525, 182],\n [4344, 3588, 4874, 2476, 2973, 4165, 4619, 1665, 1417, 199, 350],\n [667, 414, 4410, 2385, 1199],\n [1051, 3647, 4776, 814, 2999, 2687, 3414, 4433, 993],\n [4063, 1948, 2082, 4146, 46, 1475, 1881, 2967],\n [3077, 2875, 568, 273, 806, 1288, 1475, 1881, 2967],\n [3597, 2472, 3823, 1941, 814],\n [4415, 3291, 1026, 1529, 756, 1687, 325, 3748, 1475, 1881, 2967],\n [1754, 2752, 3647, 3438, 3338, 1471, 4442, 860, 3565],\n [1199, 2243, 2146, 1812, 4448, 4662, 2811, 3007, 4295, 1475, 1881, 2967],\n [1259, 4553, 4410, 2320, 2137, 1273, 568, 1259, 3078],\n [2152, 3377, 2503, 627, 1092, 774, 3348, 3258, 3103, 682],\n [3605, 3176, 787, 2494, 2944, 1740, 134, 391, 3605, 3492],\n [3550, 1095, 2752, 3337, 2877, 1475, 1881, 2967],\n [570, 3458, 4120, 1953, 3647, 4056, 4433, 2836],\n [2501, 2470, 4075, 2644],\n [1692, 4096, 2299, 4092, 2313],\n [4485, 3823, 3891, 2724, 1475, 1881, 2967],\n [981, 3363, 1865, 3611, 1609, 1475, 3798, 1475, 1881, 2967],\n [3522, 2733, 3274, 150, 1544, 2304, 3839, 1317, 1475, 1881, 2967],\n [1213, 1245, 3069, 2348, 3042, 1475, 1881, 2967],\n [631, 3758, 2167, 4794, 150, 2737, 317, 1370],\n [1259, 2496, 3729, 3460, 1324, 2939, 1475, 1881, 2967],\n [1445, 3544, 3293, 2582, 3647, 1643, 1323, 4352],\n [4959, 1455, 1308, 1259, 537, 1479, 2622, 2801, 1861, 1475, 1881, 2967],\n [4248, 4461, 2538, 2768, 3185, 3328, 4308, 3820, 3987],\n [2716, 96, 1576, 391],\n [4644, 3219, 2452, 4874, 1563, 505, 2408, 2214, 2908],\n [3647, 4647, 2201, 3528, 1475, 1881, 2967],\n [261, 4035, 4639, 3673, 4794, 3642, 2054, 3908, 1475, 1881, 2967],\n [2224],\n [3647, 4228, 2877, 390, 3420, 4338, 3871, 1475, 1881, 2967],\n [387, 4433, 2313, 1377, 4259, 3605, 2877, 3197, 3647, 1176, 4227, 1941],\n [1199, 2606, 1312, 1862, 1475, 1881, 2967],\n [3072, 3769, 1187, 2501, 1809, 54, 3459, 1475, 1881, 2967],\n [354, 710, 725, 1594, 624, 823, 3332, 2976, 1385, 2413],\n [841, 2352, 3812, 1411, 2905, 894, 1651, 3993, 1475, 1881, 2967],\n [2525,\n  4106,\n  4143,\n  1679,\n  1799,\n  1051,\n  3647,\n  1213,\n  590,\n  3512,\n  282,\n  4953,\n  7,\n  132,\n  140,\n  1373],\n [4352, 1370, 4075, 3647, 3624, 4352],\n [3359, 4142, 3604, 2940, 1939, 150, 865, 2906],\n [930, 4096, 1446, 1213, 814, 1373, 4352],\n [2768, 934, 1252, 1941, 4111, 1959, 4173, 1475, 1881, 2967],\n [4272, 1259, 3246, 3636, 966, 99, 2112, 1475, 1881, 2967],\n [3108, 4427, 1733, 3431, 1043, 2203, 1658],\n [3540, 1243, 4920, 4947, 547, 3561, 1475, 1881, 2967],\n [391, 3605, 1, 2508, 282, 2333, 1171, 1051, 3647, 1475, 1881, 2967],\n [3647, 4547, 4449, 2313, 2606, 3441, 1765, 179],\n [3042, 3640, 3662, 145, 4929],\n [1373, 1336, 4214, 4648, 4995, 2802, 248],\n [231, 2320, 2358, 3224, 3900, 2963, 2703, 2358, 3224, 3900, 4352],\n [1412, 2104, 289, 610, 931, 1502, 4719, 489, 4352],\n [1754, 2935, 2809, 715, 4594, 1461, 3886, 1814, 1112, 923, 4352],\n [3455, 1029, 4830, 3834, 42, 4850, 4691, 1724, 2104, 497, 1475, 1881, 2967],\n [4761, 1751, 4210, 1195, 4604, 3647, 1264, 3067, 681, 3892],\n [2353, 3647, 3750, 4275, 4306, 96, 3326, 2802, 2916, 2147, 4418, 343, 4143],\n [509, 3538, 1824, 1004, 1164, 3668, 4124, 1031, 1475, 1881, 2967],\n [3605, 3176, 902, 3875, 4248, 187, 356, 894, 1941, 391, 1361, 2247],\n [3008, 205, 1814, 3426, 1080, 402, 232, 894, 3197, 2085, 3191, 4352],\n [1184, 857, 32, 4953, 857, 4729, 190, 2046, 3993, 1475, 1881, 2967],\n [2786, 1339, 3420, 2745, 3428, 4622, 1475, 1881, 2967],\n [1199, 3412, 2501, 1889, 4586, 788, 1475, 1881, 2967],\n [3647, 811, 1130, 4871, 4130, 4852, 356, 4120, 1475, 1881, 2967],\n [3786, 4605, 3103, 3492, 3684, 3578, 150, 391, 3492],\n [2713, 3652, 4142, 1475, 2818, 3146, 2606, 637, 3091, 1317, 1170],\n [2815, 4265, 2620, 2707, 1972, 2815, 1163, 1475, 1881, 2967],\n [4677, 1856, 3250, 4142, 2325, 2413, 1458],\n [839, 1962, 4676, 3441, 3414, 814, 1294, 676, 391, 4776],\n [2296, 4349, 3395, 474, 4070, 2277, 1475, 1881, 2967],\n [3150, 4818, 4865, 4330, 3908, 117, 3620, 1475, 1881, 2967],\n [3008, 741, 1557, 3359, 4142, 2624, 1051, 3647, 4352],\n [3280, 140, 4257, 3647, 2146, 1138, 3871, 4352],\n [1127, 4732, 3291, 3357, 1686],\n [2572, 3647, 1370, 4929, 3012, 1475, 1881, 2967],\n [1051, 3647, 4258, 99, 4781, 4420, 4953, 509, 1475, 1881, 2967],\n [3842, 1213, 509, 489, 3642, 2892, 2444, 3544, 1828, 4352],\n [4122, 3487, 2857, 1334],\n [356, 1455, 1308, 3291, 857, 1068, 1475, 1881, 2967],\n [1525, 950, 1289, 1489, 2976, 484, 2859, 3366, 4547],\n [1259, 4272, 1586, 4553, 1328, 4312, 1256, 911, 3609, 3420],\n [3647, 1982, 2669, 2948, 3366, 3829, 3540, 4096, 4407, 962, 350],\n [2494, 3377, 2549, 4671, 391, 3605, 3492, 96, 1025],\n [4691, 3540, 529, 1161, 3258, 745, 2939, 3636, 975],\n [2313, 3326, 1054, 921, 4569, 1619, 3436, 3647, 1155],\n [2501, 2470, 1394, 4198, 3508, 3855],\n [4729, 1161, 925, 820, 4317, 2662, 1678, 1273],\n [1127, 3307, 2788, 145, 124, 3455, 2332, 1029, 1628, 3495, 3274],\n [1195, 4874, 4069, 1343, 2591, 708, 3438, 1627, 1048, 4573],\n [4464, 3272, 3103, 2203, 894, 4462, 2408, 1906, 184, 1941, 3978],\n [1497, 1658, 4228, 1838, 1475, 1881, 2967],\n [4321, 4907, 231, 3330, 3647, 1710, 3520, 1475, 1881, 2967],\n [1607, 3795, 4013, 2085, 2923, 99, 2661, 4871, 1475, 1881, 2967],\n [3066, 4129],\n [4289, 1074, 3359, 4142, 640, 888, 3305, 4126, 1475, 1881, 2967],\n [1653, 4062, 1193, 2582, 4973, 4425, 3647, 3882, 2791, 4352],\n [3605, 3664],\n [3142, 1057, 247, 1422, 4248, 1743, 1343, 1475, 1881, 2967],\n [4248, 2425, 3291, 4210, 1147],\n [1475, 1854, 619, 548, 4821, 2792, 3613, 3553, 3996],\n [4848, 3402, 1586, 411],\n [4874, 2973, 1510, 1418, 1898, 509, 3647],\n [3890,\n  2868,\n  1539,\n  2245,\n  1818,\n  4874,\n  2938,\n  3931,\n  2660,\n  3939,\n  1475,\n  1881,\n  2967],\n [4394, 1720, 2707, 4611, 2809, 4759, 3199, 1475, 1881, 2967],\n [4989, 1166, 4874, 4988, 1475, 1881, 2967],\n [3255, 4562, 4281, 1656, 4744, 3281, 1469, 4352],\n [1066, 122, 344, 1845, 1651, 4552, 3540, 3900, 682, 1678],\n [1052, 1721, 2450, 3474, 3996, 2809, 4352],\n [3646, 962, 4521, 3869, 106, 432],\n [3647, 4781, 3604, 3549, 1601, 4912, 3310, 3185, 914],\n [3855,\n  4423,\n  1684,\n  1394,\n  1359,\n  4165,\n  1566,\n  2347,\n  1317,\n  753,\n  600,\n  4120,\n  4300,\n  3244,\n  1051,\n  3647,\n  4352],\n [610, 3008, 3533, 140, 1903, 1051, 3647, 4021, 1475, 1881, 2967],\n [2538, 1053, 3647, 4096, 3703, 3823],\n [4959, 3457, 273, 1773, 2171, 326, 391, 3474, 912, 2231],\n [3411, 3165, 4170, 3525, 2594, 3185, 4989, 1475, 1881, 2967],\n [3823, 4588, 4588, 3642, 1475, 1881, 2967],\n [1490, 4120, 1339, 4313, 734, 1035, 3357, 1560, 1475, 1881, 2967],\n [4457, 145, 3078, 3523, 2939, 467, 912, 1259, 2007, 703, 1475, 1881, 2967],\n [3380, 4574, 1193, 375, 2724, 2121, 2442],\n [753, 3681, 642, 753, 1475, 1881, 2967],\n [3094, 2809, 912, 4142, 3871, 814, 3647, 1475, 1881, 2967],\n [3220, 1259, 2312, 4146, 4095, 411, 2413, 1193],\n [1985,\n  1235,\n  282,\n  2656,\n  30,\n  2245,\n  2113,\n  883,\n  4142,\n  3900,\n  3161,\n  30,\n  4608,\n  4313,\n  1656,\n  4964,\n  4775],\n [3799, 4146, 282, 1607, 1700, 3815, 326, 3326, 3224, 289, 3815],\n [3748, 3647, 1148, 656, 1475, 1881, 2967],\n [2494, 1920, 2619, 38, 187, 2771, 3605],\n [4569, 3499, 1770, 4473, 1720, 3894, 1273],\n [4463, 1472, 2320, 1039],\n [4959, 909, 4957, 3478, 2231, 765, 1557, 1161, 308],\n [1051, 3647, 4472, 497, 611, 1204, 814, 4185, 1475, 1881, 2967],\n [1183, 2916, 4788, 2267, 604, 3468, 101, 3857, 3436, 1475, 1881, 2967],\n [1777, 1413, 3589, 4125, 4838, 1880, 3421, 3380],\n [1051, 3647, 4027, 1373, 1475, 1881, 2967],\n [1396, 1475, 4764, 391, 2669, 3176, 3964, 2358, 3414, 282, 1239, 3477, 3355],\n [2658,\n  4781,\n  1590,\n  4330,\n  1807,\n  468,\n  1826,\n  1768,\n  4120,\n  2147,\n  4228,\n  1445,\n  4427,\n  126,\n  179],\n [3647, 4257, 2313, 1989, 753, 811, 817, 4352],\n [1182, 2813, 4850, 4691],\n [4101, 2452, 3522, 2063, 3829, 3877, 1475, 1881, 2967],\n [3431, 99, 2667, 174, 2553, 1236, 4621],\n [3647, 1273, 3042, 1511, 3399, 4959, 1475, 1881, 2967],\n [3605, 2869, 3861, 3044, 3492, 391, 3326, 4565],\n [4778, 4275, 2684, 1202, 1330, 1317, 4352],\n [1051, 3647, 3967, 2976, 3818],\n [2216, 2857, 2036, 950, 3625, 3956, 4409, 145, 3289],\n [3697, 3042, 1479, 2440, 604, 611, 4406, 978, 1475, 1881, 2967],\n [2658, 3111, 4120, 3455, 1029, 4184, 4745, 326, 387, 1370],\n [2353, 3853, 150, 1776, 966, 2447, 67, 4514, 1941, 1475, 1881, 2967],\n [1480, 509, 2857, 4178, 3334, 1035, 394, 4671, 1475, 1881, 2967],\n [3914, 2438, 1788, 61, 1370, 3647],\n [1753,\n  3799,\n  962,\n  2818,\n  3146,\n  2696,\n  4228,\n  4588,\n  4509,\n  3052,\n  30,\n  2802,\n  2337,\n  4973],\n [1390, 1259, 3371, 4716, 282, 1475, 1881, 2967],\n [1229, 2717, 1706, 3279, 4687, 4483, 1273, 1475, 1881, 2967],\n [3006, 1213, 3288, 2703, 4321, 2857, 3647],\n [1607, 192, 2660, 2085, 1035, 69, 1475, 1881, 2967],\n [2007, 1987, 1273, 2656, 3255, 4120, 4828, 1643],\n [3489, 2582, 2951, 3743, 3481, 3411, 2477, 1475, 1881, 2967],\n [1607, 2660, 687, 4013, 2085, 1854, 4134, 3055, 1475, 1881, 2967],\n [441,\n  3076,\n  4272,\n  2501,\n  1575,\n  4471,\n  4504,\n  441,\n  4143,\n  2501,\n  1575,\n  2274,\n  607,\n  1977],\n [3647, 326, 1370, 1953, 1475, 3931, 4281, 3197, 1475, 1881, 2967],\n [1259, 2799, 3460, 4472, 2075, 1127, 1475, 1881, 2967],\n [1259, 1721, 1294, 2182, 3914, 1273, 470, 1475, 1881, 1845, 1502],\n [3703, 724, 1394, 2733, 3433],\n [2313, 3455, 1029, 1441, 1118, 497, 2141, 4781, 3441],\n [3140, 1245, 1035, 3201, 1511, 1475, 1881, 2967],\n [2621,\n  1048,\n  4573,\n  318,\n  218,\n  1985,\n  218,\n  3528,\n  4573,\n  3647,\n  751,\n  4184,\n  4679,\n  4433,\n  4500],\n [3503, 3042, 1701, 1260, 1720, 2738, 2795, 1475, 1881, 2967],\n [2321, 3503, 681, 911, 4079, 4912, 1370, 964, 4352],\n [782, 1659, 3680, 1475, 3274, 3647, 3993, 1475, 1881, 2967],\n [1623, 3393, 2432, 812, 344, 61, 3522, 4352],\n [2617, 491, 2582, 3956, 2892, 3330, 1475, 1881, 2967],\n [2818, 4377],\n [4899, 644, 1259, 2404, 1890, 357, 4725, 4810, 1699, 1475, 1881, 2967],\n [3647, 2549, 2358, 1414, 2556, 2573, 2620, 1475, 1881, 2967],\n [2461, 3540, 1330, 4779, 3348, 145, 1972, 813, 3197, 4352],\n [4410, 2320, 4338, 3904, 3420, 2808, 4325, 774, 1678, 682, 1845],\n [1623, 2313, 2857, 2660, 4971, 3823, 2104, 4662, 4588, 4352],\n [1127, 3241, 3399, 3604, 4776, 4457, 3065, 129],\n [517],\n [2798, 3449, 71, 3197, 997, 2167, 697, 1475, 1881, 2967],\n [3647, 2764, 425, 3111, 3103, 2203, 1475, 1881, 2967],\n [1216, 1686, 3619, 1169, 814],\n [4471, 4226, 239, 681, 2024, 4272, 2233, 936, 1373, 681, 2024, 4272, 2233],\n [311, 4142, 2440, 4856, 4614, 1475, 1881, 2967],\n [4483, 556, 2758, 1051, 3647, 1475, 188, 4041, 1475, 1881, 2967],\n [4106, 4143, 1039, 4338, 1051, 3647, 4191, 1998, 1475, 1881, 2967],\n [903, 4476, 3953, 2948, 2562, 2073, 1475, 1881, 2967],\n [202, 3028, 1259, 4142, 2879, 150, 3871],\n [2716, 4925, 1184, 2494, 2275, 357],\n [1518, 2804, 237, 4231, 2049, 894, 2064, 4957, 2967, 1475, 1881, 2967],\n [2726, 2260, 1140, 1958, 1475, 3375, 1699, 4352],\n [3647, 565, 4540, 1034, 583, 289, 3802, 2618, 2444, 1475, 1881, 2967],\n [1098, 4788, 2516, 1779, 3266, 2353, 3042, 3993, 1480, 3888, 2032, 676, 4352],\n [703, 147, 3251, 865, 503, 3785, 1475, 1881, 2967],\n [3565, 3415, 326, 3065, 1907, 2932, 3839],\n [4146, 3420, 782, 3540, 4259, 1475, 1881, 2967],\n [409, 3520, 145, 398, 2469, 1184, 4352],\n [4973, 414, 1127],\n [3900, 1700, 3140, 3681, 1576, 1858, 2036, 2892, 1630],\n [391, 3176, 4584, 4651, 3265, 546, 1153, 2494, 468, 2322, 2582],\n [1865, 4788, 2139, 270, 4069, 3053, 3647, 4776],\n [2182, 1981, 4115, 4192, 3847, 2461, 4096, 3647, 4096, 4352],\n [1511, 4316, 376, 4603, 3647, 30, 2906],\n [1213, 4185, 4314, 4611, 963, 307, 4352],\n [4681,\n  1317,\n  1619,\n  3330,\n  3767,\n  2538,\n  1193,\n  4681,\n  1317,\n  2983,\n  2444,\n  539,\n  4445,\n  2791],\n [4495, 2389, 4967, 391],\n [4446, 1994, 2402, 3250, 4667, 1236, 600, 1475, 1881, 2967],\n [860, 556, 1225, 1280, 1475, 1881, 2967],\n [4873, 4063, 753, 1509, 3972, 531, 1475, 1881, 2967],\n [3291, 1814, 1017, 2339, 1115, 3457, 1318, 3767, 4258, 688],\n [3736, 4810, 528, 2325, 30, 3111, 1475, 1881, 2967],\n [4351, 3647, 321, 1191, 1127, 3414, 3871, 817, 2007, 4352],\n [3079, 4973, 4775, 30, 4253, 3499],\n [206, 3801, 2313, 1998, 4096, 3766, 505, 3647],\n [688, 2959, 1878, 3647, 1147, 4321, 490, 3996, 1475, 1881, 2967],\n [304, 3028, 757, 2691, 2557, 4568, 755, 3330, 1475, 1881, 2967],\n [4596, 4913, 3421, 1475, 1881, 2967],\n [3177, 2371, 3767, 4276, 4418, 1475, 1881, 2967],\n [2967, 3871, 4797, 1475, 1881, 2967],\n [1259, 4272, 3171, 356, 3544, 3620, 3231, 1982, 893, 1475, 1881, 2967],\n [4973, 4564, 2032, 2752, 2637, 2818, 3823, 1627],\n [4274, 63, 4316, 1707, 3414, 1150, 4679, 1161],\n [413, 1377, 393, 4848, 732, 3843, 3244, 1475, 1881, 2967],\n [3647, 3776, 3745, 4173, 2830, 4314, 3077, 4247, 4352],\n [3547, 1434, 1137, 3639, 2544, 1230],\n [4174, 3647, 2620, 3871, 407, 2976, 911, 1475, 1881, 2967],\n [1106, 2343, 4106, 216, 3422, 4487, 2130, 4671],\n [2254, 670, 127, 509, 3105, 1475, 1881, 2967],\n [570, 3458, 1477, 1213, 4543, 767, 1475, 1881, 2967],\n [1637, 3457, 655, 3647, 751, 2210, 3723],\n [2007, 1659, 2033, 4821, 1304, 1814, 4281, 2387, 1475, 1881, 2967],\n [2204, 2252, 3647, 2299, 132, 3528, 1475, 1881, 2967],\n [1051, 3647, 71, 3065, 692, 4338],\n [254, 356, 3589, 4125, 1522, 593, 145, 617, 1475, 1881, 2967],\n [4904, 4679, 866, 3291, 911, 2436, 1989],\n [3823, 2501, 609, 857, 4231, 1475, 1881, 2967],\n [3647, 4795, 2419, 3399, 1675, 2254, 1475, 1881, 2967],\n [2583, 2805, 3668, 4125, 3244, 4330, 1989, 4812],\n [3257, 3414, 814],\n [817, 2645, 4812, 4313, 548, 3196, 1111, 1475, 1881, 2967],\n [1545, 2321, 2853, 611, 468, 4321, 1112, 4641, 1902, 4341, 479, 4352],\n [1051, 3647, 3795, 2593, 2877, 4346, 1216, 3000, 145, 1586, 1475, 1881, 2967],\n [1166, 1659, 145, 2618, 2717, 1475, 1881, 2967],\n [1960, 572, 3770, 2320, 2252, 3368, 1475, 1881, 2967],\n [1051,\n  3647,\n  4257,\n  4272,\n  118,\n  391,\n  3605,\n  1043,\n  2961,\n  2032,\n  126,\n  2857,\n  1229,\n  1475,\n  1881,\n  2967],\n [2858, 1887, 3647, 3289, 2622, 1861, 1475, 1881, 2967],\n [2552, 1941, 2023, 4338, 3326, 4647],\n [3647, 3176, 1124],\n [1213, 1461, 3063, 4314, 3604, 4146, 4352],\n [2353, 1370, 4067, 3438, 3270, 4411, 3748, 3647, 1710, 3570, 770, 2541, 2809],\n [441, 4188, 4650, 3952, 4524, 681, 908],\n [3736, 3100, 1250, 1, 4170, 3291],\n [3832, 335, 529, 4444, 1851],\n [146, 3150, 2643, 800, 3978, 593, 1865, 1935, 2709, 165, 1475, 1881, 2967],\n [2160, 391, 3605, 3512, 4352],\n [3198, 1282, 2501, 2884, 3183, 1076, 3839, 240, 2149],\n [3535, 765, 3589, 774, 2404, 3947, 302, 3180],\n [2508, 3540, 1161, 642],\n [964, 3012, 4391, 590, 1024, 4013, 1989, 3468],\n [2959, 4075, 1949, 1489],\n [1511, 2313, 150, 3176, 1699, 912, 4659, 124],\n [418],\n [4820, 3939, 1814, 2967, 4349, 3944, 1475, 1881, 2967],\n [3647, 1205, 4120, 4612, 548, 3326],\n [1287, 2736, 1627, 2538, 692, 1475, 1881, 2967],\n [1845, 1651, 4271, 4639, 1896, 613, 3647, 4514],\n [3579, 3415, 326, 1459, 132, 3647, 350],\n [1890, 145, 4275, 1128, 912, 3647, 2080, 4352],\n [2965, 2313, 7, 789, 2747, 1954, 697, 2620, 1475, 1881, 2967],\n [1284, 2498, 619],\n [3133, 3377, 2145, 4775, 2906, 1475, 1881, 2967],\n [4157, 510, 1072, 2684, 1202, 2738, 829, 1721, 489, 4352],\n [2167, 4719, 4524, 694, 235, 2963, 4109, 147, 1475, 1881, 2967],\n [150, 391, 1043, 1184, 2706, 4719, 1161],\n [2659, 3904, 4028, 29, 3964, 4457, 1227, 755, 2247, 1210, 3823],\n [391, 3366, 2494, 96, 3492],\n [3281, 642, 3647, 1092, 3311, 2734, 1529, 1475, 1881, 2967],\n [894, 254, 2148, 1807, 688, 1182, 1475, 1881, 2967],\n [4146, 2460, 571, 1780, 4427, 894],\n [470, 2801, 1861, 1480, 3337, 3274, 1337, 1475, 1881, 2967],\n [1050, 4871, 1480, 489, 1700, 2454, 2454],\n [2729, 572, 367, 974, 2452, 4775, 1475, 1881, 2967],\n [894, 4871, 2734, 132, 894, 4985, 2851, 2939],\n [3359, 3288, 3697, 509, 1601, 481, 3788, 1229, 2049, 1182],\n [2494, 2619, 3785, 1721, 4442, 1775, 4352],\n [2984, 4393, 852, 393, 1814, 3426, 1699, 4785, 1475, 1881, 2967],\n [4509, 2149, 4874, 1339, 3420, 590],\n [4248, 1684, 557, 4603, 285, 4752, 682, 3228, 3891, 2149, 4352],\n [350, 1017, 2476, 2934, 29, 414, 2755, 4399],\n [3065, 1204, 1651, 3723, 4463],\n [3647, 4406, 978, 753, 4776, 2275, 150, 2618, 4517, 1475, 1881, 2967],\n [4919, 1833, 2547, 3647, 4533, 793, 3065, 4463, 4352],\n [4741, 3888, 4338, 3647],\n [4972, 2984, 3414, 2007, 560, 4291, 4192],\n [1884, 1443, 2805, 4439, 3810, 989, 3109, 126, 2254],\n [1382, 1651, 4568, 3871, 3647, 3993],\n [150, 3729, 1051, 3647, 2707, 1493, 1070, 2555, 3375, 4953, 1475, 1881, 2967],\n [3823, 2687, 3891, 2830, 915, 1465, 3304, 4671, 2419, 2678, 1475, 1881, 2967],\n [222, 1790, 1861, 3512, 3512, 3512, 1475, 1881, 2967],\n [1962, 857, 4171, 2638, 2830, 3503, 3971, 1564],\n [391, 4390, 497, 1837, 391, 2717, 2684, 4992, 725],\n [4214, 2436, 1864, 4109, 692, 1475, 1881, 2967],\n [4106, 566, 1256, 2079, 1259, 3481, 4248, 4495, 1475, 1881, 2967],\n [3647, 1780, 4043, 3661, 1259, 455, 2244, 1317, 3828, 2158, 11, 2703, 4352],\n [4691, 4111, 3662, 4588, 1095, 1536],\n [3457, 273, 1773, 2171, 326, 391, 3474, 912],\n [4803, 324, 1116, 2149, 946, 1475, 1881, 2967],\n [2524, 864, 2619, 1193, 1054, 1528, 3647, 4115, 4352],\n [835, 2609, 145, 3053, 527, 2854, 2961, 3647, 1475, 1881, 2967],\n [3746, 945, 4775, 677, 3057, 1475, 1881, 2967],\n [2619, 1053, 3605, 3492, 1002, 2389, 3470, 3303, 1475, 1881, 2967],\n [3901, 4989, 1259, 1985, 4759, 1685, 4210, 3662, 1972, 3375, 2237, 1314],\n [1199, 151, 3310, 1308, 4502, 4193, 782, 1475, 1881, 2967],\n [1651, 2922, 254, 1279, 4969, 753],\n [3891, 2469, 346, 3185, 2432, 2925],\n [78,\n  325,\n  1475,\n  1881,\n  2967,\n  4776,\n  4075,\n  1370,\n  4015,\n  3538,\n  1858,\n  4425,\n  756,\n  1475,\n  1881,\n  2967],\n [2236, 1272, 451, 1459, 3605, 2282, 1051, 3647, 4514, 4352],\n [3732, 3256, 150, 1541, 2416, 2696, 3643, 1110, 3169, 1651, 4352],\n [1292, 3581, 914, 1845, 1475, 1881, 2967],\n [2358, 1098, 3449, 4874, 2619, 2961, 1443],\n [3420,\n  777,\n  4647,\n  2347,\n  282,\n  4351,\n  1166,\n  3188,\n  694,\n  3900,\n  2768,\n  2262,\n  3971,\n  4399],\n [1651, 1906, 4125, 2906, 4804, 3103, 254, 4120, 1475, 1881, 2967],\n [2658, 1699, 1359, 2434, 3647, 1814, 1941, 1511, 1394, 2452, 4352],\n [3897, 1273, 2939, 894, 3871, 3205, 218, 4352],\n [304, 4350, 4845, 2884, 2195, 4228, 1954, 3999],\n [3380, 4574, 1193, 375, 2724, 2121, 2442],\n [1248, 4331, 1055, 391, 2717, 4874, 509, 4874, 860],\n [162, 1465, 1871, 3544, 1475, 1103, 1273, 1475, 1881, 2967],\n [4075, 497, 4764, 4886, 770, 3455, 1029, 1118, 1004],\n [2618, 2717, 489, 1227, 3802, 4778, 357, 4352],\n [589, 2619, 1967, 1659, 611, 3077, 2385, 357, 4352],\n [2264, 2572, 3684, 2875, 3359, 4142, 3522, 1586, 1534, 3441],\n [3605, 3176, 2663, 4106, 4067, 3582, 2490, 1116, 1026, 3875, 630, 2996],\n [150, 3220, 3319, 865, 2538, 3647, 1475, 1881, 2967],\n [2550, 4679, 1289, 2082, 1035, 1377, 4677, 1475, 1881, 2967],\n [3354, 2538, 2908, 3999, 2405, 2316, 4788, 3888, 3587],\n [2577, 3850, 1379, 1321, 4134],\n [3609, 3647, 2415, 4010, 3544, 1266, 4778, 4352],\n [1026, 354, 2967, 753, 1475, 1881, 2967],\n [61, 1370, 511, 4781, 3891, 3044, 3908, 4449, 1153, 3850, 4973],\n [3399, 4835, 140, 425, 2831, 2801, 1861, 1475, 1881, 2967],\n [2581, 127, 823, 235, 4614, 3565, 4352],\n [2890, 4028, 2235, 2752, 3647, 3438, 4352],\n [3647, 751, 2724, 4439],\n [4377, 3065, 537, 3357, 4095, 1475, 1881, 2967],\n [150, 3160, 912, 768, 434, 1443, 4120, 593, 486, 1475, 1881, 2967],\n [1475, 812, 4871, 547, 806, 3165, 1522, 4433, 2881, 1475, 1881, 2967],\n [3826, 3520, 1273, 3823, 2568, 2752, 4410, 1324, 4352],\n [4805, 3932, 4871, 911, 675, 3274],\n [1534, 3540, 1475, 1881, 2967],\n [3458, 811, 150, 3869, 4995, 2802, 248, 4063],\n [4295, 2280, 1534, 2334, 355, 739, 2074, 3842, 2085, 4352],\n [1786, 2434, 3728, 3565, 1475, 1881, 2967],\n [4115,\n  1699,\n  3470,\n  3647,\n  1465,\n  3330,\n  3900,\n  4647,\n  4566,\n  2201,\n  3646,\n  4124,\n  4352],\n [1216, 1838, 758, 4725, 1838, 512, 553, 1838],\n [302, 3279, 4781, 610, 3103, 1879, 4592, 1475, 1881, 2967],\n [1373, 2180, 3818, 317, 537, 4822],\n [4313, 3220, 3538, 4316, 2404, 4275, 112, 3689, 3042],\n [1856, 4075, 1949, 1489],\n [3647, 4514, 2683, 753, 2935, 3495, 3274, 4352],\n [3647, 3235, 4043, 1851, 3580, 2752, 231, 4275, 1475, 1881, 2967],\n [1953, 2312, 3359, 4142, 2658, 4912, 1370, 4352],\n [4050, 3413, 3698, 2893, 543, 2358, 17],\n [150, 391, 3605, 1541, 4321, 182, 3027, 3420],\n [3819, 4533],\n [4232, 2247, 4984, 441, 435, 681, 3261],\n [179, 1443, 3871, 3966, 4062, 2660, 3330, 1475, 1881, 2967],\n [1048, 2975, 1699, 4259, 1095, 998, 1536, 1475, 1881, 2967],\n [201, 4698, 3517, 3647, 3993, 1536, 1193, 3653, 245, 4405],\n [1352, 2913, 1678, 4779, 894, 1082, 2990, 1678, 1406, 2469],\n [2580, 220, 4059, 1226, 801, 725, 4231, 1475, 1881, 2967],\n [894, 4130, 1383, 1055, 2984, 3420, 2707, 2301, 3678, 1606, 3414, 4308],\n [2854],\n [610, 3900, 1195, 1055, 2064, 1977, 1161, 4410, 2703, 4352],\n [889,\n  4897,\n  344,\n  1908,\n  1838,\n  4967,\n  2219,\n  3414,\n  4013,\n  4560,\n  1304,\n  1475,\n  4127,\n  1319],\n [610, 3900, 4552, 4287, 1281, 4928, 1357, 1161, 1542, 3517],\n [3468, 1576, 1325, 3544, 3693, 4682, 631, 1063, 3839],\n [817, 474, 2752, 145, 529, 184],\n [1475, 3833, 2444, 2358, 1814, 738, 4598, 4370],\n [687, 4712, 4068, 2707, 3272, 408, 1193, 1514, 3338, 4352],\n [4304, 244, 1557, 4739],\n [4290, 1256, 4251, 1330, 435, 714, 4543, 1475, 1881, 2967],\n [3685, 4111, 2342, 1744, 3058, 4538, 4374, 1475, 1881, 2967],\n [1598, 3994, 814, 1396, 335, 1953],\n [3565, 1475, 1881, 2967],\n [254, 1193, 4906, 90, 248, 3438],\n [4157, 510, 4604, 1898, 3321, 4593, 2443, 4677, 162, 4654, 2923],\n [410, 4569, 2620, 11, 1259, 2439, 4608],\n [4734, 4296, 3956, 1489, 2860, 1475, 1881, 2967],\n [391, 3605, 538, 4691, 343, 4306, 96, 4147, 3785],\n [2508, 3994, 1214, 4821, 3196, 321, 1475, 1881, 2967],\n [4641, 282, 764, 1017, 826],\n [3871, 1643, 811, 3414, 3625, 910, 2007],\n [3303, 1145, 681, 1025, 4420, 2413, 3708, 93, 1479, 1475, 1881, 2967],\n [3414, 2799, 3460, 259, 1161, 2351, 2990, 2382],\n [479, 2663, 2466, 493, 4319, 3183, 3565, 1475, 1881, 2967],\n [4759, 890, 1086, 4574, 4460, 4457, 3540, 890, 3582, 4352],\n [4812, 1110, 1785, 1614, 3326, 1191, 1149, 1939, 1038, 1306],\n [3160, 2726, 4873, 150, 3647, 1043, 3611, 4681, 2515],\n [2805, 1678, 3754, 2905, 282, 3413, 3907, 4798, 1475, 1881, 2967],\n [3420, 3492, 3884, 3375, 4860, 1543, 3027, 1182],\n [618, 910, 2749, 509, 1259, 3419, 4352],\n [1426, 1480, 2057, 1475, 1881, 2967],\n [1741, 3321, 26, 1564, 1744, 391, 3255, 4352],\n [4092, 128, 2291, 1475, 1881, 2967],\n [3414, 4375, 1273, 1643, 4130, 4621, 2007, 3291, 282, 2405, 2659, 3868],\n [1475, 3605, 3492, 3415, 3928, 3850, 3814, 4306, 96],\n [3842, 1407, 1273, 1204, 3948, 2813, 1814, 1780, 1475, 1881, 2967],\n [857, 1182, 1475, 1881, 2967],\n [1333, 738, 2324, 4272, 1475, 1881, 2967],\n [940, 150, 2086, 4257, 725, 793, 4352],\n [1240, 326, 4910, 4565, 2133, 1475, 2255, 4120, 1475, 1881, 2967],\n [367, 218, 3956, 3565, 1475, 1881, 2967],\n [1198, 3191, 3512, 74, 3526, 1475, 1881, 2967],\n [2621, 4296, 3647, 394, 1204, 3497, 1475, 1881, 2967],\n [4959, 755, 1795, 915, 30, 2032, 254, 765, 565, 4375, 4773, 3078, 1174, 900],\n [894, 4691, 4913, 2880, 3288, 4729, 1941, 4352],\n [1777, 1380, 4818, 3078, 4472, 3489, 4088, 1475, 1881, 2967],\n [4691, 4111, 4463, 2867, 820, 3589],\n [1116, 1026, 645, 4067, 3492, 4897, 3964, 3432, 2760],\n [1051, 3647, 2547, 3801, 1112, 3966, 4338, 701, 2320, 1475, 1881, 2967],\n [3679, 425, 3261, 4433, 192, 3414, 3042, 4524, 2222, 4170],\n [2906, 1063, 673, 3941, 4502, 158, 1511],\n [254, 617, 3228, 4529, 432, 1169, 4425, 1576, 1888, 4775, 874, 4352],\n [754, 3455, 1029, 1483, 498, 4377, 3147, 2450],\n [4659, 2707, 2301, 221, 3570, 4308, 4669, 2320, 1686, 3066],\n [391, 1020, 1051, 3647, 3871, 1656, 3785],\n [2418, 3647, 964, 4302, 2442, 1721, 1720, 4958, 3647, 4352],\n [4687, 4795, 4368, 2166, 2824, 190, 1429, 4586, 860, 1475, 1881, 2967],\n [3647, 3000, 1300, 2361, 2805, 1994, 4241, 1190, 1920, 1475, 1881, 2967],\n [1051, 3647, 607, 1657, 3700, 3417, 681, 2501, 294, 590],\n [3827, 4553, 4570, 3025, 4325, 3826],\n [2007, 1259, 4871, 145, 4588, 1146, 3801, 2590, 2733],\n [231, 99, 1412, 2939, 304, 2724],\n [4334, 1480, 4014, 3517, 1659, 688, 1475, 1881, 2967],\n [4588, 811, 341, 2830, 530, 1465, 3815, 872, 4142],\n [4759, 3109, 3167, 150, 2321, 1161, 2382, 2939],\n [3377, 3202, 3302, 4423, 2385, 4474, 1475, 1881, 2967],\n [841, 3620, 11, 4291, 4112, 1314, 2352, 2857, 3283],\n [3087, 9, 994, 3802, 914, 760, 4547, 4495, 391, 3605, 826, 1338, 814],\n [4321, 2404, 811, 556, 894, 509, 2082, 1475, 1881, 2967],\n [2728, 811, 304, 1334, 3605, 3664],\n [3647, 3000, 3558, 2844, 4248, 4438, 1205, 1475, 1881, 2967],\n [2413, 2844],\n [3647, 3657, 1156, 1377, 2907, 3891, 3770, 4592, 2231, 1465, 3699, 3488, 350],\n [145, 3471, 254, 2906, 1210],\n [1511, 1075, 3152, 1396, 350],\n [3956, 4863, 1161, 64, 3900, 2885, 3835],\n [4959,\n  2023,\n  2116,\n  3631,\n  4700,\n  1651,\n  3799,\n  182,\n  4898,\n  2023,\n  2116,\n  3631,\n  4700,\n  1651,\n  3799,\n  182,\n  4898,\n  1475,\n  3357,\n  1953],\n [917, 282, 3931, 4439, 1935],\n [2086, 1962, 1095, 518, 785, 3441],\n [610, 817, 556, 54, 2018, 4606, 3077, 972, 1182, 642, 4969, 814],\n [4272, 2371, 1051, 3647, 1843, 3293, 1941, 4832, 1475, 1881, 2967],\n [2658, 834, 1556, 3211, 4120, 3688, 1360, 2829, 3253, 2538, 1658, 4352],\n [4274, 4691, 2700, 2247, 4775],\n [4641,\n  4421,\n  150,\n  857,\n  1941,\n  150,\n  3823,\n  3117,\n  2984,\n  346,\n  3314,\n  2555,\n  2425,\n  2082,\n  4571,\n  350],\n [763, 3642, 4953, 4659],\n [3165, 3274, 3150, 3605, 1146, 2320, 694],\n [3647, 4146, 3069, 3653, 1475, 4127, 1319],\n [2573, 2542, 4092, 2620, 3605, 3647, 1493, 1899, 1475, 1881, 2967],\n [1199, 4973, 3065, 654, 2253, 3620, 2638, 1475, 1881, 2967],\n [1814, 3437, 1260, 4735, 812, 1651, 3620, 3850, 3188, 1529],\n [3244, 4281, 2498, 4995, 2802, 248, 3438],\n [1389, 3438, 3066, 1720, 4274, 3815, 4191, 2805, 4995],\n [1480, 4973, 4227, 1293, 575, 3438, 1793, 1193, 4961, 3963, 4352],\n [2987, 3196, 2244, 3708, 263, 1127],\n [3206, 784, 1480, 1594, 2130, 3326, 2768],\n [1127, 1658, 3947, 1017, 4125, 1680, 3840, 4283],\n [4407, 3647, 4096, 4582, 266, 1475, 1881, 2967],\n [4904, 3540, 3882, 3289, 1678, 3375, 793, 1216, 3201, 152, 572, 4075, 1204],\n [1207, 2540, 4423, 3647, 1851, 3237, 1103, 2679],\n [1643, 4457, 3647, 3588, 1528, 3005, 2882, 3386, 1948],\n [182, 4095, 4473, 3111, 4088, 2382, 355, 2312, 3678, 1475, 1881, 2967],\n [3437, 44, 2121, 2538, 3767, 347, 3165, 1335, 1812, 1475, 1881, 2967],\n [4691, 4111, 4344, 3925, 17, 4248, 3321, 4158, 4056, 756],\n [2313,\n  3625,\n  3750,\n  1245,\n  3326,\n  1054,\n  4330,\n  3605,\n  4184,\n  3044,\n  3647,\n  4330,\n  1989,\n  4352],\n [2422, 3338, 4606, 857, 3964, 4096],\n [2301, 1475, 1881, 254, 4669, 73, 1103, 1273, 1475, 1881, 2967],\n [3647, 54, 3908, 4008, 4748, 1493, 1475, 350, 3024, 254, 1184],\n [3697, 3138, 3882, 4458, 1575, 3170, 4152, 2442, 1475, 1881, 2967],\n [600, 3647, 2637, 1643, 4120, 1182, 1814, 487, 2070, 4352],\n [4828, 1643, 755, 3109, 3684, 4474, 1308, 3291, 4944, 4828, 1643],\n [1890, 4586, 1953, 3716, 4669, 2594, 266, 4352],\n [1182, 298, 2130, 4330],\n [1782,\n  1678,\n  3465,\n  2501,\n  841,\n  2579,\n  2444,\n  1923,\n  3904,\n  3431,\n  2590,\n  4964,\n  3871,\n  4120,\n  4352],\n [754, 1158, 1287, 350, 1171, 2669, 988, 1475, 1881, 2967],\n [978, 3005, 1017, 3947, 2419, 823, 4418, 1753, 2572],\n [4067, 314, 2857, 842, 3492],\n [1894, 3849, 3258, 745, 4281, 1489],\n [2621, 1048, 4573, 2621, 3757, 923, 391, 1692, 3647, 4573, 4776],\n [3662, 4573, 1707, 2907, 4062, 1103, 3852, 677, 4871, 350],\n [391, 3605, 3823, 1949, 4254, 3436, 1949, 2059, 497, 1475, 1881, 2967],\n [3414, 1217, 2312, 3481, 624, 162, 4798, 431],\n [4377, 3839, 2815, 3256, 2515, 3165, 266, 814, 1941, 2492],\n [4290, 4028, 326, 3302, 71, 2146, 4163, 3420, 1811, 4812, 1429, 4352],\n [2416, 2696, 1522, 903, 1469, 54, 1475, 1881, 2967],\n [4874, 3647, 1651, 3069, 4399, 1134],\n [489, 3605, 3673, 3544, 3937, 391, 4643],\n [2007,\n  2546,\n  1659,\n  1390,\n  4825,\n  3041,\n  2371,\n  1374,\n  3952,\n  2633,\n  4691,\n  3542,\n  2264,\n  988,\n  4630],\n [2406, 4418, 474, 3939, 4395, 2935, 1428, 1475, 1881, 2967],\n [894, 3647, 2549, 3580, 3553, 263, 2857, 1396, 4352],\n [489, 3605, 1684, 3359, 4560, 1098, 3065, 1294, 863, 150, 4691],\n [53, 2147, 4228, 4606, 135, 3964, 2619, 2864, 4444],\n [4742, 3647, 4254, 1941],\n [1782, 4088, 106, 4037, 3231, 467, 145, 3523, 1475, 1881, 2967],\n [1471, 255, 3037, 484, 3921, 978, 329, 1876, 1475, 1881, 2967],\n [1060, 4314, 2582, 3839, 2036, 1397, 4352],\n [467, 1077, 71, 231, 1184, 2146, 4953, 650, 1475, 1881, 2967],\n [1255, 3342, 3647, 54, 1343, 899, 4876, 3610, 1838],\n [2752, 3653, 3647, 99, 3690, 4977, 3422, 4290, 4028, 1960],\n [4487, 3227, 2569, 365],\n [3647, 1924, 4564, 1423, 4912, 1953, 3326, 3044, 4352],\n [3697, 3138, 3337, 4509, 2582, 129, 863, 3437, 1475, 1881, 2967],\n [427, 1566, 2765, 4958, 3025, 3205, 1475, 1881, 2967],\n [4269, 4421, 857, 4832, 1263, 4687, 1475, 1881, 2967],\n [1480, 2637, 4143, 1035, 481, 3578, 2353, 1259, 1153, 1475, 1881, 2967],\n [1651, 993, 4874, 2569, 3589, 3279, 2717, 3771, 1475, 1881, 2967],\n [1256, 1924, 962, 359, 567, 2007, 619, 4398, 1475, 1881, 2967],\n [3348, 631, 1382, 4186, 782, 2677, 4729, 3065, 886],\n [1051, 3647, 150, 1461, 1564, 1861, 1475, 1881, 2967],\n [],\n [1017, 1124, 3065, 4463, 3796, 859],\n [4115, 1310, 857, 4677, 1373, 1077, 645, 2766, 304],\n [3244, 2961, 2857, 1475, 4691],\n [4959, 254, 3338, 1204, 3721, 391, 2469, 184, 624],\n [1389, 3438, 475, 4352, 4165, 4290, 4028, 391, 3605],\n [3647, 3574, 355, 1586, 2320, 1475, 1881, 2967],\n [4761, 4522, 4111, 2133, 3647, 814, 2857, 1959, 3900],\n [2907, 3235, 4248, 4275, 2618, 715, 761, 1475, 1881, 2967],\n [4497, 1216, 99, 3512, 4641, 4352],\n [3326, 4647, 2316, 4330, 509],\n [3956, 962, 2358, 4782, 4596, 3956, 425, 3553, 2226, 3769, 2923, 4985, 220],\n [2965, 1, 1671, 1475, 1881, 2967],\n [3512, 4291, 3411, 2934, 1475, 1881, 2967],\n [441,\n  135,\n  373,\n  681,\n  3636,\n  2484,\n  3980,\n  936,\n  4005,\n  3640,\n  2332,\n  3431,\n  2724,\n  681,\n  265,\n  998,\n  2501,\n  251],\n [4115, 4776, 2091, 307, 3274, 2830, 779, 140, 3094, 2387, 4352],\n [1168, 3642, 3272, 3103, 2203, 3254, 2111, 4352],\n [2620, 2007, 4898, 3229, 827, 336, 1754, 1437, 2436, 755, 2247],\n [1743, 378, 4532, 4539, 4099, 593, 1811, 611, 1810, 4850, 9, 119, 4352],\n [1053, 3381, 1564, 1463, 3802, 1687, 325, 2637, 3012],\n [1722, 3818, 1659, 2795, 410, 215, 1259, 2538, 1272, 2766, 4463, 4352],\n [1858, 2683, 4716, 3291, 3540, 3754],\n [2935, 2767, 2626, 3649, 1511, 3219, 3195, 3474, 611, 4352],\n [52, 1154, 4463, 4250, 2320, 4547, 1971],\n [3197, 192, 3291, 30, 1475, 1881, 2967],\n [3005, 1051, 3647, 747, 3743, 2169, 1861, 1475, 1881, 2967],\n [2148, 391],\n [1622, 359, 54, 4227, 894, 1475, 1881, 2967],\n [4959, 4772, 4913, 994, 118],\n [553, 3605, 3815, 1529],\n [3697, 3657, 3302, 4146, 326, 3647, 1475, 1881, 2967],\n [4406, 1659, 4691, 4111, 3576, 2452, 1475, 1881, 2967],\n [391, 3605, 4343, 4184, 3769, 1475, 1881, 2967],\n [1289, 2558, 440, 852, 2498, 4690, 3515],\n [3647, 1394, 2684, 4415, 1785],\n [391, 4633, 1480, 4973, 1070, 30, 3996, 3422, 2810],\n [1249, 2231, 2498, 3993, 3229, 1475, 1881, 2967],\n [2901, 4433, 4231, 3966, 1192, 1475, 1881, 2967],\n [3647, 3441, 4185, 3882, 2510, 4021, 1475, 1881, 2967],\n [1199, 1000, 172, 1793, 2104, 4341, 2913, 3834, 1475, 1881, 2967],\n [4637, 2367, 2805, 1994, 857, 4729, 1906, 344, 1814, 1475, 1881, 2967],\n [853, 3647, 1343, 1383, 1720, 134, 4679, 4352],\n [2593, 2494, 3605, 3492, 2582, 2148, 930, 1464, 4208, 3647, 3609],\n [1479, 1098, 3530, 140, 1140],\n [3399, 3997, 2243, 2444, 631, 1659, 2444, 1700, 1058, 4352],\n [4604, 2320, 3780, 1195, 1204, 814, 1835, 4569, 3614],\n [4469, 2312, 3770, 4095, 1161, 390, 4724],\n [4537, 4953, 694, 1971, 3767, 4010, 4180, 1475, 1881, 2967],\n [2999, 3052, 1432, 1259, 537, 814],\n [3647, 3319, 1862, 725, 894, 4691, 343, 1659, 1334],\n [4143, 3647, 1273, 3522, 3530, 30, 2452, 4352],\n [1252, 1941, 894, 1733, 184, 1542, 3517, 1182, 509, 1051, 3647],\n [4495, 2432, 814],\n [],\n [3244, 4281, 2498, 4874, 4995, 2802, 248, 3438],\n [688, 4469, 2709, 165, 4186, 3971, 1890, 1195],\n [263, 4662, 3230, 4240, 2895, 3426, 4761, 2149, 1054],\n [2358, 2146, 391, 3605, 2389],\n [2422, 2700, 126, 1054, 1502, 4798],\n [814, 993, 1261, 1475, 4452],\n [391, 2404, 4873, 150, 1377],\n [359,\n  2575,\n  4014,\n  1166,\n  4491,\n  547,\n  1204,\n  467,\n  3850,\n  3227,\n  3338,\n  1475,\n  1881,\n  2967],\n [4959,\n  3993,\n  3860,\n  2690,\n  3539,\n  595,\n  3993,\n  3860,\n  2690,\n  3539,\n  595,\n  3521,\n  4063,\n  4991],\n [1051, 3647, 2939, 2900, 2965, 2169, 1861, 1475, 1881, 2967],\n [3572, 4671, 4873, 150, 793, 391, 132, 1411, 835],\n [1924,\n  2961,\n  3544,\n  4972,\n  1490,\n  3620,\n  1923,\n  415,\n  1006,\n  653,\n  3544,\n  2618,\n  2717,\n  3215,\n  4352],\n [3295,\n  4069,\n  1195,\n  1564,\n  2895,\n  1128,\n  2036,\n  962,\n  2080,\n  2316,\n  1055,\n  3520,\n  587,\n  4352],\n [2385, 3079, 2467, 3993, 1274],\n [1455, 2249, 755, 2474, 1013, 4502, 1475, 1881, 2967],\n [509, 1529, 3663, 4173, 1169, 814],\n [2170, 4065, 3065, 1490, 821, 1475, 4313, 3375, 787, 2084, 604, 2463],\n [3647, 1643, 132, 162],\n [3699, 3274, 1060, 4547, 3740, 3256, 1156, 1174],\n [4248, 4735, 4308, 4741, 467, 4032, 2470, 1475, 1881, 2967],\n [3785, 2442, 2180, 4669, 3420, 4013, 17, 350],\n [1598, 2320, 1598, 2825, 4495, 1163],\n [2984, 1466, 2313, 3826, 1370, 3291, 282, 2549, 3565, 1475, 1881, 2967],\n [4446, 1183, 254, 2906, 302, 1651, 1780, 4193, 2987, 1475, 1881, 2967],\n [1422, 1753, 4392, 1182, 4716, 145, 1424, 4495],\n [4270, 4193, 254, 4019, 3913, 1998, 1109, 1140, 1475, 1881, 2967],\n [1493, 3077, 1694, 755, 2247],\n [2199, 1446, 4111, 188, 3510, 4250, 4969, 4691, 2765, 1475, 1881, 2967],\n [1544, 1673, 3176, 1259, 3359, 3215, 4120, 1339, 4585],\n [3326, 4647, 890, 2211, 1892, 1959, 3647],\n [1802, 1490, 3604, 1051, 3647, 1317, 4690, 2987],\n [4352, 1370, 4075, 1710, 3570, 4352],\n [3647, 1953, 1480, 3260],\n [610, 3656, 3846, 4120, 4989, 644, 1474, 506, 350, 4352],\n [911, 4821, 1317, 3258, 745, 594, 3647, 1475, 1881, 2967],\n [3205, 409, 4186, 4399, 3646, 4463, 4346, 2231, 1475, 1881, 2967],\n [3899, 4011, 3565, 45, 2886, 80, 1475, 1881, 2967],\n [2485, 3094, 1851, 4299, 1953, 4146, 3647, 4352],\n [1502, 270, 1294, 1754, 4225, 4735, 270, 4069, 509],\n [774, 3457, 4507, 4682, 145, 2782],\n [1420, 1475, 2947, 1941],\n [2886, 2893, 4120, 1496, 3956, 3688],\n [1199, 3412, 3725, 1128, 556, 1032, 3945, 326, 3647, 1475, 1881, 2967],\n [126, 1720],\n [145, 2737, 1925],\n [3647, 1480, 2620, 911, 2076],\n [2149, 2771, 3855, 356, 2935, 934, 1744, 4019, 1475, 1881, 2967],\n [1136, 3165, 4146, 1475, 1881, 4341, 3311, 1475, 1881, 2967],\n [2104, 1836, 863, 2025, 1751, 835, 4352],\n [4850, 2104, 2368, 4395, 1741, 2828, 722, 3948, 1475, 1881, 2967],\n [1005, 2356, 4776, 1479, 3540, 1534, 1475, 1881, 2967],\n [17, 4439, 3229, 1475, 1881, 2967],\n [1334, 3585, 524, 391, 656, 4125, 3826, 2642],\n [489, 4300, 4109, 3647, 2320, 1229, 2637, 1475, 4174, 1475, 1881, 2967],\n [2371, 978, 4406, 3632, 1051, 3647, 4687, 1475, 1881, 2967],\n [612,\n  4778,\n  3970,\n  3647,\n  3871,\n  1475,\n  3291,\n  4173,\n  755,\n  1480,\n  1394,\n  916,\n  17,\n  4256],\n [3096, 4641, 1941, 656, 2469, 490, 3326, 1054, 4266, 3956, 4352],\n [1051, 3647, 4461, 3160, 4973, 3348, 4313, 676, 3888, 1480, 4227],\n [],\n [489, 1841, 823, 282, 3291, 777, 3582, 3565, 1475, 1881, 2967],\n [3207, 2204, 4499, 2939, 4463, 323, 1324, 3196, 1475, 1881, 2967],\n [140, 3042, 489, 371, 3431, 2752, 817, 2455],\n [3028, 3916, 4406, 4953, 1433, 3565, 1475, 1881, 2967],\n [2844, 2219, 1390, 1216, 2454, 354, 1259, 3834, 4352],\n [2402, 3584, 3894, 1329, 2590, 4223, 993, 3565],\n [4115, 4733, 643, 3399, 4795, 2254, 1176, 4007, 694, 4795, 4352],\n [4729, 4598, 2418, 1510, 2092],\n [3770, 1658, 4370, 3993, 1411, 496, 1475, 1881, 2967],\n [2088, 104, 3250, 1753, 1028, 4338, 3605, 1475, 1881, 2967],\n [3647, 4338, 99, 2752, 3647, 2877, 2617, 806, 1823],\n [4014, 4619, 394, 3740, 1140, 1721],\n [3647, 894, 3871, 1543, 298, 2717, 4352],\n [2353, 786, 145, 3701, 3393, 3786, 3540, 1858, 432, 1038, 2405, 4971],\n [1643, 1205, 2358, 528, 3647, 751, 4863, 1377, 319, 3785],\n [3266, 1861, 3257, 2079, 3633, 3882, 1475, 1881, 2967],\n [2494, 3605, 3492, 2582, 2148, 930, 1464, 4208, 3647, 3609],\n [391, 712, 3721, 4176, 3324, 1043],\n [2684, 4956, 1441, 765, 4120, 4491, 1475, 1881, 2967],\n [4332, 1278, 2187, 2684, 863, 3441, 4011, 3158, 814, 2952, 1279, 4969],\n [489, 3605, 1043, 3544, 3966, 4345, 4170, 391, 814],\n [2792, 4463, 4966, 1326, 3380, 1633, 497, 1475, 1881, 2967],\n [3647, 4472, 619, 2007, 1734, 231, 1475, 1881, 2967],\n [4446, 73, 2469, 1161, 1745, 2098, 3431, 3254, 3438, 1475, 1881, 2967],\n [284, 1319, 2480, 1430, 4010, 4953],\n [282, 3468, 420, 3281, 2768, 4146, 3512, 3066, 2798, 4798],\n [3300, 4096, 1857, 1028, 4795, 2752, 3647, 2637],\n [1502, 4533, 2752, 2892, 2444],\n [3471, 254, 4268, 902, 1750, 4341, 4281, 3348, 1377, 694, 258, 4894, 4352],\n [1659, 1013, 2959, 152, 4197, 1216, 376],\n [2419, 809, 1124, 699, 4460, 613, 1279, 4969],\n [2658,\n  467,\n  2684,\n  1202,\n  1721,\n  3770,\n  3751,\n  4604,\n  4838,\n  1928,\n  2875,\n  3042,\n  3512,\n  4352],\n [3624, 1226, 2449, 3956, 505, 4873, 150],\n [3629, 2857, 1086, 1433, 2149, 995, 3450, 756, 1475, 1881, 2967],\n [350, 1492, 132, 3647, 54, 3908, 30, 61, 1370, 3437, 2765],\n [2301, 1043, 911, 3055, 1594],\n [857, 2618, 1436, 1918],\n [3042, 3604, 2120, 1004, 1659, 978, 4987, 1475, 1881, 2967],\n [3429, 4852, 814, 3913, 975, 2952, 1475, 1881, 2121, 1475, 1881, 2967],\n [4314, 2875, 2458, 2149, 4642, 1074, 2007, 3303, 1475, 1881, 2967],\n [145, 1631, 4248, 4109, 2906, 3437, 1564, 1475, 1881, 2967],\n [2618, 715, 99, 2085, 4248, 1721, 2540, 4352],\n [1659, 3823, 2338, 1511, 1213, 3954, 692, 995],\n [1707, 282, 2313, 2959, 1957, 3078, 2894, 411, 1338, 1960, 1888, 3231],\n [1413, 1377, 30, 391, 3605, 30, 707, 4327, 3157],\n [3042, 4844, 1702, 4090, 150, 4174, 3208, 118, 3993, 1475, 1881, 2967],\n [2781, 3101, 533, 3677, 1786, 1, 1740, 1, 1475, 1881, 2967],\n [407, 1852, 150, 105, 3605, 4433, 2684, 1475, 1881, 2967],\n [731, 3633, 983, 3647, 3438, 2386, 1475, 1881, 2967],\n [591, 1925, 1259, 4769, 4954, 2537, 1317, 2321, 1191, 2201],\n [3647, 2439, 1411, 4560, 3256, 3211, 4013, 1475, 1881, 2967],\n [1480, 1316, 254, 3078, 3770, 2353, 4192, 2262, 467, 2768, 1039],\n [4959, 2123, 3350, 4717, 2145, 4899, 2123, 2659, 724, 4083, 2798],\n [3772, 1055, 3647, 2792, 2444, 1768, 1024, 1205, 1475, 1881, 2967],\n [581, 2149, 3065, 3422, 4547, 1312, 1432, 1539, 4352],\n [738, 4411, 4126, 3228, 1475, 1881, 2967],\n [570, 87, 276, 2606, 30, 1671, 4399, 3437, 1475, 1881, 2967],\n [1490, 4120, 763, 1493, 2442, 1731, 1054],\n [1259, 1514, 4063, 1469, 1055, 1038, 2984, 4231, 1475, 1881, 2967],\n [2082, 2358, 413, 2717, 4356, 1475, 1881, 2967],\n [2809, 611, 1053, 3729, 1182, 509, 1051, 3647],\n [3176, 1522, 1776, 3281, 4863, 1166, 3244, 1475, 1881, 2967],\n [1054, 1741, 3908, 4472, 2508, 243, 355],\n [2633, 1161, 3049, 3448, 3415, 4747, 4130, 1475, 1881, 2967],\n [4468, 1512, 326, 1475, 1881, 2967],\n [1111, 1111, 3212, 2393, 3044, 3939, 2772],\n [1523, 2897, 4068, 3599, 2141, 297, 3437],\n [2617, 4988, 1589, 4321, 2907, 765, 1677, 2508, 71, 4063, 1475, 1881, 2967],\n [801, 735, 4865, 3212, 4547, 1317, 2356, 4352],\n [4297,\n  2372,\n  1063,\n  1990,\n  2311,\n  3465,\n  2007,\n  1035,\n  4007,\n  2229,\n  1475,\n  1881,\n  2967],\n [2494, 4312, 1475, 2582, 3492, 3605, 3135, 3326, 4881],\n [3894, 2903, 3414, 3567, 3520, 329],\n [2313, 3455, 2555, 3647, 145, 1082, 1216, 2450, 156],\n [3662, 1490, 474, 4455, 2243, 2442],\n [7, 849, 2033, 1191, 3964, 3414, 1782, 2413],\n [1958, 1989, 3210, 4258, 1475, 1881, 2967],\n [1051, 3647, 2280, 1153, 2236, 3420, 2590, 4472, 1475, 1881, 2967],\n [870, 2146, 4337, 3913, 4413, 1232, 1475, 1881, 2967],\n [140, 3476, 2372, 2831, 2801, 1861, 1475, 1881, 2967],\n [1199, 3666, 1541, 4166, 2130, 2204, 2082, 1475, 1881, 2967],\n [1398, 3729, 3960, 3625, 1465, 1084, 3412, 4699, 1193, 1475, 1881, 2967],\n [814, 1974, 3684, 537, 814, 2538, 2824],\n [2225, 3025, 3703, 2494, 1920, 2619, 2857, 1858, 1475, 3605, 3492, 2582],\n [1051, 3647, 1497, 3359, 1137, 4433],\n [2405, 1598, 3027, 486, 3882, 1182, 1475, 1881, 2967],\n [1168, 4326, 2126, 1651, 1273, 2973, 1161, 2317, 1475, 1881, 2967],\n [4437, 2469, 4078, 1656, 1633],\n [3037, 4913, 3540, 1858, 30, 3893, 3647, 2901, 4897, 4352],\n [1171, 4959],\n [1959, 2339, 3952, 1038, 4209, 390, 1259, 2364, 4330],\n [3044, 4445, 391, 3605, 3770, 708, 17, 814],\n [894, 2219, 4905, 4648, 4400, 1055, 4560, 1304, 1475, 1881, 2967],\n [4897, 566, 3684, 1707, 548],\n [2371,\n  3549,\n  681,\n  1923,\n  3308,\n  681,\n  2371,\n  1788,\n  624,\n  1766,\n  1726,\n  681,\n  2371,\n  3773,\n  386,\n  441,\n  3647,\n  196,\n  1374],\n [2538, 4330, 3375, 1376, 4400, 1412, 4146],\n [1307, 923, 2821, 1291, 4973, 3760],\n [3647, 814, 2353, 4134, 4433, 3184],\n [4377, 2321, 2358, 3302, 681, 1112, 1182, 1814, 927, 99, 4352],\n [4659, 3964, 3871, 814, 3647, 4574, 3578, 4972, 357, 150],\n [3656, 4173, 3647, 2270, 698, 3954, 4432, 609, 2973, 2320],\n [3310, 3869, 352],\n [2804, 3908, 2934, 3176, 99, 2391],\n [1324, 1204, 3231, 3078, 753, 3147, 1475, 1881, 2967],\n [3550, 2844, 1851, 3317, 4736, 3495, 4058, 2201, 792, 4352],\n [4197, 1613, 2777, 2000, 3237, 192, 4225, 2936, 3185, 93],\n [2313, 4295, 2149, 3311, 2454, 1050, 4667, 3437, 4352],\n [811, 1523, 1881, 1680, 3197, 518, 2385],\n [1658, 3952],\n [3039, 1458, 2260, 2851, 2207, 4546, 1475, 1881, 2967],\n [4295, 2934, 1225, 3663, 200, 993, 2637, 4352],\n [930, 497, 391, 1609, 299, 1851, 2681],\n [823, 3437, 3212, 2268, 1166, 4822, 1475, 1881, 2967],\n [1488, 1903, 2663, 3510, 67, 1475, 1881, 2967],\n [1659, 1594, 4144, 2881, 4065, 1475, 1881, 2967],\n [3699, 2648, 1464, 1509, 2492, 4821, 1475, 1881, 2967],\n [3647, 4063, 3000, 961, 4660, 2961, 3701, 1706, 4871, 1475, 1881, 2967],\n [160,\n  4549,\n  2358,\n  4387,\n  894,\n  1243,\n  4332,\n  4464,\n  2436,\n  4343,\n  4776,\n  3017,\n  2317,\n  1475,\n  1881,\n  2967],\n [2704, 4147, 4864, 675, 1289, 1475, 1881, 2967],\n [3169, 3366, 1843, 2791, 1273, 3647, 1289],\n [2313, 3647, 1411, 806, 1823, 99, 2130, 4360, 2684, 1202, 4352],\n [2225, 3063, 4314, 4258, 3663, 46, 1959, 3382, 3326, 4352],\n [3904, 3414, 3827, 573, 1475, 391, 3492, 134, 1974, 3114, 1960, 2494],\n [289, 4099, 1536, 3904, 644, 1621, 1475, 1881, 2967],\n [933, 4708, 4013, 1775],\n [3359, 765, 2348, 4874, 4427, 3065],\n [4499, 140, 3770, 3642, 3135, 3103, 923, 4352],\n [1199, 3951, 1370, 998, 3046, 4146, 3894, 1475, 1881, 2967],\n [1166, 3956, 3538, 61, 2147, 4281, 975, 2801, 1941, 3538],\n [4240, 515, 4683, 1475, 1881, 2967],\n [4992, 3067, 391, 346, 3589, 1536, 3065, 1923, 1216],\n [3263, 3399, 4423, 4432, 304, 1743, 4049, 4184, 4210, 656, 4352],\n [934, 2397, 150, 1854, 425, 560, 2620, 1475, 1881, 2967],\n [1733, 2387, 1534, 3647, 2549],\n [4949, 2247, 2436, 708],\n [2247, 4396, 863, 4800, 4106, 979, 3808, 3761, 1475, 1881, 2967],\n [4769, 17, 4745, 4781, 4316, 2990, 3540, 509, 1051, 3647],\n [4469, 3078, 11, 2007, 4095, 1358, 3066, 162, 1475, 1881, 2967],\n [801, 1140, 1643, 2768, 3620, 350],\n [4126, 773, 3179, 3437, 4200, 2313, 4173, 3044, 2508, 1475, 1881, 2967],\n [391, 4449, 3026, 1678, 96, 541],\n [2815, 2957, 1828, 3508, 2046, 2801, 1861, 1475, 1881, 2967],\n [3666, 2045, 4120, 3150, 2711, 966, 4248, 3964, 3676],\n [3438, 3605, 3176, 902, 4565, 1191, 468, 2219, 1549, 1829],\n [4769, 4146, 3647, 656, 572, 499, 407, 1475, 1881, 2967],\n [162, 4412, 1161, 3230, 2382, 259],\n [3795, 391, 2854],\n [2353, 2978, 3077, 3544, 423, 174, 2582, 391, 4143],\n [795, 1329, 2448, 4052, 1755, 4586, 1678, 1475, 1881, 2967],\n [282, 2402, 3584, 4010, 3956, 3945, 2703, 3309, 1875, 3584, 3823, 4688, 978],\n [1213, 1255, 4063, 3563, 1675, 2254, 4146, 1475, 1881, 2967],\n [4959, 857, 801, 150, 4242, 857, 801, 150, 4242, 525, 3851, 2034, 1191],\n [3223, 3093, 4062, 2619, 1421, 4250, 2810, 2494, 357, 3662, 3647, 2147],\n [3420, 1199, 1180, 3668, 99, 2841, 2801, 4647],\n [610, 2404, 3544, 3414, 4347, 3079, 3821, 860, 4257, 2440],\n [4850, 3414, 3871, 661, 4487, 1726, 2353, 1370, 350],\n [2961, 17, 4270, 3288, 2751, 1352, 2555, 4096, 4126, 1475, 1881, 2967],\n [2801, 1861, 391, 3605, 1051, 3647, 3520, 974, 1475, 1881, 2967],\n [2999, 909, 3861, 1740, 4691, 860, 479, 4019, 4120, 4059, 1334],\n [4126, 773, 1898, 1598, 1475, 1136, 1475, 1881, 2967],\n [4770, 2906, 4540, 1034, 3140, 145, 2978, 1475, 1881, 2967],\n [3476, 1112, 3987, 1814, 1929, 4439, 2709, 165],\n [1051, 3647, 1166, 2140, 4016, 4063, 1845],\n [610, 3845, 43, 3495, 259, 282, 4553, 282, 1529, 3778, 4352],\n [1472, 3457, 4857, 3460, 2350, 2957],\n [2234, 1768, 793, 1284, 2923],\n [1779, 3266, 1769, 4180, 2809],\n [2524, 864, 559, 3814, 3499, 3176, 4352],\n [4259, 1908, 3647, 594, 4338, 3375, 966, 3302, 4679, 1475, 1881, 2967],\n [4355, 3899, 528, 99, 2391, 4338, 3625, 4015, 4352],\n [1476, 4810, 2498, 3305],\n [1259, 2501, 2508, 4778, 4659, 347, 3422, 649, 1475, 1881, 2967],\n [146, 4120, 2596, 1103, 1821, 1475, 1881, 2967],\n [1815, 4980, 2320, 3348, 145, 3538, 3967],\n [4075, 1341, 3063, 2667, 3038],\n [1256, 4639, 1828, 510, 509, 3647, 2145, 3489, 2301, 3839, 16, 4253],\n [3011, 3180, 1718, 18, 3879, 3647, 4647, 3642, 1475, 1881, 2967],\n [2752, 3647, 1475, 321, 3251, 304, 247, 2116, 17, 755],\n [3780, 1651, 4316, 2149, 4698, 4452, 1475, 1881, 2967],\n [1718, 983, 3223, 4438, 4141, 4462, 1475, 1881, 2967],\n [2494, 1147, 1651, 4775, 2476, 3414, 3827, 848, 800],\n [2990, 3831, 1955, 3431, 4885, 3380],\n [1193, 3008, 2313, 1483, 106, 1744, 2032, 2444],\n [3765, 3326, 1054, 3165, 1941, 3404, 3460],\n [2353, 1588, 2906, 1786, 1161, 2207, 2120, 1475, 1881, 2967],\n [3326, 4647, 1151, 1161, 2515, 3226],\n [3871,\n  3647,\n  1896,\n  74,\n  1293,\n  3945,\n  1814,\n  3359,\n  4142,\n  4392,\n  2371,\n  1941,\n  1708,\n  4691,\n  4352],\n [391, 3605, 4338, 3544, 3105, 509, 2371, 2320],\n [4554, 1963, 3548, 4759, 1400, 2141, 205],\n [886, 4399, 3464, 2385, 1129],\n [4289, 4214, 2436, 354, 2385, 2809, 2436],\n [3283, 329, 857, 4338, 99, 2391, 4313, 179],\n [2752, 3647, 3438, 3855, 3380, 2899, 2180],\n [2569, 2979, 1112, 2089, 3850, 3065, 1475, 1881, 2967],\n [2786, 960, 4688, 978, 1161, 3380, 931, 2538, 1005],\n [3647, 1854, 1005, 2079, 591, 1925, 4409, 4894, 1475, 1881, 2967],\n [4352, 1370, 4075, 3399, 4748, 4352],\n [391, 2469],\n [1881, 2538, 951, 3731, 2961, 1583, 3681, 4142],\n [1051, 3647, 1256, 2674, 3886, 2622, 2801, 1861, 1475, 1881, 2967],\n [150, 53, 1607, 1360, 4250, 4896, 4994],\n [2371, 318, 4691, 2419, 3980, 4893, 676, 4352],\n [681, 2292, 3414, 2182, 3914, 2047, 826],\n [656, 2437, 2684, 3394, 4832, 2246, 3662, 2413, 4352],\n [2249, 62, 3934, 1906, 2683, 1475, 1881, 2967],\n [1741, 631, 2572, 3100, 4186, 52, 4226, 3224, 1823, 3642, 4352],\n [1502, 1195, 1903, 147, 3438, 2469, 2032, 126],\n [3647, 1780, 4788, 2361, 4308, 4316, 4369, 1475, 1881, 2967],\n [2620, 2293, 4850, 911, 3473],\n [2101, 1161, 373, 1475, 1881, 2967],\n [4959, 4874, 770, 863, 4754],\n [2593, 2494, 3605, 3492, 2582, 2148, 930, 1464, 4208, 3647, 3609],\n [1259, 1063, 3393, 259, 3620, 2007, 3764, 218, 1475, 1881, 2967],\n [754, 3993, 1659, 286, 1261, 93, 4513, 3815, 1317],\n [633, 3180, 2469, 3438, 4995, 2802, 248, 1259, 3185],\n [3647, 3811, 1463, 3642, 782, 4874, 2669, 3422, 1475, 1881, 2967],\n [1145, 3835, 2582, 4457, 2771],\n [4170, 112, 3244, 2569, 289, 4953],\n [3522, 3008, 1949, 3431, 3090, 4185, 1103],\n [239, 987, 2007, 3291],\n [3647, 1190, 1475, 4240, 3540, 1394, 4352],\n [2658, 4410, 2320, 4338, 2299, 1678, 3375, 2348, 4095, 335],\n [4126, 4402, 1596, 190, 782, 1896, 3422, 151, 4352],\n [4013, 2715, 975, 2599],\n [2620,\n  1184,\n  2134,\n  792,\n  3291,\n  3380,\n  2447,\n  4589,\n  2857,\n  1671,\n  3291,\n  2976,\n  4160,\n  1475,\n  1881,\n  2967],\n [432, 1686, 1443, 1279, 4969, 3438, 3625, 4995, 2802, 248],\n [3699, 188, 1182, 3090, 841, 2958, 1465, 3078, 3438, 4352],\n [3480, 3611, 3380, 1406, 1035, 2801, 1601],\n [4106, 566, 3729, 1998, 4130, 2164, 687, 3677, 2939, 1475, 1881, 2967],\n [1888, 3815, 3609, 391, 3605, 2085, 1051, 3647, 1475, 1881, 2967],\n [4912, 1370, 1475, 1881, 2967, 4472, 4352, 2313, 2224, 4352],\n [4062, 1475, 763, 3869, 4009, 3910, 1475, 1881, 2967],\n [1892, 2040, 3544, 4313, 974, 1259, 4085, 420, 542],\n [1845, 356, 3766, 1259, 3303, 4824, 4463, 479, 1475, 1881, 2967],\n [2313, 4096, 2952, 3818, 3816],\n [29, 3522, 2313, 1319, 4912, 1370, 4452, 391, 3605],\n [1199, 679, 4351, 2146, 2963, 1500, 4030, 347, 242, 1475, 1881, 2967],\n [3967, 2020, 2366, 1440, 4774, 3372, 4977, 4505],\n [184, 1261, 1098, 1594, 4281, 1659, 4557, 4473, 4316, 126, 1837, 547, 872],\n [1199, 1317, 4547, 1193, 2967, 1854, 4946, 1345, 1377, 1475, 1881, 2967],\n [150, 1465, 3776, 1074, 3609, 3900, 1542],\n [1627, 391, 3350, 4065],\n [4248, 4120, 244, 398, 1637, 2007, 4003, 1475, 1881, 2967],\n [2595, 3457, 3665, 3227],\n [184, 1038, 1539, 4472, 1062, 761, 998, 1479],\n [4693, 2260, 190, 4775, 1471, 1105, 1475, 1881, 2967],\n [4691, 4111, 4588, 1465, 3839, 2101, 2422, 1273],\n [1396, 4973, 930, 3697, 4096, 1043, 1213, 753, 3647, 4352],\n [4781, 1678, 1273, 3279, 2609, 835, 3780, 3256, 4425, 162, 4352],\n [1443, 1127, 2299, 1541, 254, 1564, 26, 4463, 1475, 1881, 2967],\n [991, 3589, 3395, 1953, 3609, 2104, 1836],\n [996, 4400, 3572, 2935, 3165, 4234],\n [919, 1557, 4652, 2339, 1127],\n [2225, 4314, 4115, 4733, 3223, 2429, 2524, 230, 2501, 3454, 4352],\n [1259, 4272, 1776, 4120, 1259, 1865, 326, 4552, 2320, 1475, 1881, 2967],\n [3647, 1334],\n [3289, 509, 4134, 4775, 4780, 4009, 4679, 3368, 1475, 1881, 2967],\n [3647, 2214, 1038, 214, 4552, 4096, 773, 4953, 4874, 350],\n [3169, 1651, 811, 150, 4201, 886, 2967, 1024, 1475, 1881, 2967],\n [2405, 1087, 777, 2789, 921, 1511, 1191, 2036, 1465, 1763],\n [233, 1991, 2045, 1443, 4724, 4095, 1273],\n [237, 710, 9, 119, 3798, 4433, 690, 4983, 1475, 1881, 2967],\n [970, 1861, 2959, 152, 926],\n [3338, 350, 378, 996, 923, 2716, 391],\n [4681, 1475, 4779, 934, 3211, 4604, 231, 1475, 1881, 2967],\n [3605, 3149, 2916, 2147, 3448],\n [391, 3662, 2685, 4814, 3540, 583, 3647, 4352],\n [4553, 814, 3176, 1751, 3589, 3520, 145, 2101],\n [1381, 3167, 409, 2792, 2476, 170, 4604, 4781],\n [841, 2976, 3620, 2724, 2818, 962],\n [3357, 515, 1148, 3483, 1161, 4580, 4410, 2320, 4093, 4352],\n [3963, 537, 1977, 4092, 788, 1227, 1475, 1881, 2967],\n [150, 1541, 2449, 1954, 4643, 3843, 654, 1475, 1881, 2967],\n [617, 4943, 1474, 3506, 1161, 1472, 4407, 765],\n [3455, 2332, 1029, 4575, 3419, 4959, 391, 3437, 1740],\n [4781, 4950, 2201, 1479, 2204, 4585, 1475, 1881, 2967],\n [3486, 2208, 978, 936, 2410, 2501, 2127],\n [282, 1281, 4643, 3605, 2620],\n [2447, 1720, 3642, 2007, 3036, 2444, 4014, 4013],\n [231, 2320, 2814, 3647, 1854, 3642, 1475, 1881, 2967],\n [4967, 2777, 254, 1720, 1038, 3548, 30, 529, 1718, 350],\n [4912, 1370, 3647, 4604, 2364, 4644],\n [2857, 3785],\n [3904, 4391, 1920, 3967, 4371, 3785, 2442, 4352],\n [4257, 4452, 1263, 1475, 1881, 2967],\n [860, 1149, 3987, 814, 4109, 713, 1294, 266, 2721, 752, 930, 4289],\n [510, 2724, 499, 2633],\n [2810, 3044, 3492, 923, 3900, 1343, 150, 2549],\n [1621, 3540, 3802, 4734, 4448, 706, 3897, 3956],\n [706, 2249, 489, 243, 2792, 954, 3250, 391],\n [3024, 776, 1443, 590, 2320, 3746, 1475, 1881, 2967],\n [3829, 3544, 800, 3908, 3077, 800, 190, 3540, 4352],\n [2771, 3827, 4553, 3025, 4325, 3826, 4973, 4659, 4863, 4778],\n [2501, 2926, 2967, 1191, 3861, 3647, 2118, 238, 4352],\n [4738, 3242, 158, 3544, 2737, 2737, 1475, 1881, 2967],\n [391, 3605, 1609, 1051, 3647, 1475, 3295, 1590, 930, 497, 1475, 1881, 2967],\n [2988, 3476, 2716, 4925, 1051, 3647, 470, 2801, 1861, 1475, 1881, 2967],\n [610, 1722, 3818, 4547, 1193, 3414, 2538, 4352],\n [3646, 1411, 3103, 2231, 4677, 3565, 1475, 1881, 2967],\n [3427, 3540, 2018, 4146, 2102, 2572, 1475, 1881, 2967],\n [3244, 1667, 3628],\n [1960, 1051, 3647, 823, 1279, 688, 3207, 1184, 995, 1475, 1881, 2967],\n [2515, 4425, 393, 604, 3420, 4081, 1475, 1881, 2967],\n [96, 1497, 3359, 4142, 4352, 1661, 3160, 4241, 3133, 4352],\n [3647, 3861, 1436, 1324, 3904, 4241, 1989, 2857, 692, 974],\n [3446, 4446, 1188, 1055, 1861, 4972, 1074, 1475, 1881, 2967],\n [489, 1980, 1272, 2449, 1786, 4640, 3912, 1171, 4399, 3437, 4352],\n [2371, 26, 1424, 4341, 1497, 2032, 4894, 4352],\n [4143,\n  1035,\n  1475,\n  4014,\n  1724,\n  4054,\n  2830,\n  3119,\n  2204,\n  687,\n  1204,\n  1475,\n  1881,\n  2967],\n [1051, 3647, 391, 3605, 530, 3904, 2801, 1861, 1475, 1881, 2967],\n [1923, 1161, 2508, 3956, 3279, 3420, 2419, 3291, 282, 2549],\n [254, 2906, 2149, 4849, 391, 3699],\n [3433, 4043, 3062, 1204],\n [3205, 1373, 3548, 3368, 2476, 4222, 3579, 184, 975, 2801, 2917],\n [4270, 2620, 162, 1259, 4659, 748, 894, 344, 1475, 1881, 2967],\n [754, 1112, 90, 3647, 4310, 30, 4338, 17, 2387, 302, 1706, 4352],\n [2007, 1721, 4574, 3512, 2182, 3914, 2214, 4446, 4439],\n [3647, 4257, 99, 2391, 4313, 3436, 3337, 656, 1475, 1881, 2967],\n [4959, 391, 3605, 3103, 2203, 3274, 923, 3785, 3492, 3159],\n [940, 150, 347, 1751, 814, 391, 3078, 1475, 2494, 3492, 2582],\n [1051, 3647, 4168, 1477, 4406, 978, 1373, 4037, 4716, 1475, 1881, 2967],\n [688, 1195, 3078, 2386, 2112, 182, 3829, 1685, 2959, 752],\n [1053, 2442, 4788, 2568, 1413, 315, 4604, 3592],\n [3647,\n  3420,\n  2590,\n  1205,\n  3544,\n  3662,\n  1776,\n  1941,\n  3421,\n  4226,\n  1475,\n  1881,\n  2967],\n [4812, 1110, 1620, 1213, 1338, 1055, 528, 1799, 350],\n [812, 3540, 531, 2848, 3433, 2082, 3036, 2817, 1475, 1881, 2967],\n ...]"
     },
     "execution_count": 78,
     "metadata": {},
     "output_type": "execute_result"
    }
   ],
   "source": [
    "# Applying One-Hot Representation\n",
    "onehot_repr = [one_hot(words, voc_size) for words in corpus]\n",
    "onehot_repr"
   ],
   "metadata": {
    "collapsed": false,
    "ExecuteTime": {
     "end_time": "2024-02-29T10:56:50.707548300Z",
     "start_time": "2024-02-29T10:56:50.457960400Z"
    }
   },
   "id": "35f2704893dbaa",
   "execution_count": 78
  },
  {
   "cell_type": "code",
   "outputs": [
    {
     "data": {
      "text/plain": "array([[   0,    0,    0, ...,   35, 4065, 2791],\n       [   0,    0,    0, ..., 3891, 2074, 4352],\n       [   0,    0,    0, ...,  583,   30, 1193],\n       ...,\n       [   0,    0,    0, ..., 1475, 1881, 2967],\n       [   0,    0,    0, ...,  247, 2979, 3583],\n       [   0,    0,    0, ...,  289, 3489, 2450]])"
     },
     "execution_count": 79,
     "metadata": {},
     "output_type": "execute_result"
    }
   ],
   "source": [
    "# Embedding representation\n",
    "sent_length = 20\n",
    "embedded_docs = pad_sequences(onehot_repr, padding='pre', maxlen=sent_length)\n",
    "embedded_docs"
   ],
   "metadata": {
    "collapsed": false,
    "ExecuteTime": {
     "end_time": "2024-02-29T10:56:52.841408800Z",
     "start_time": "2024-02-29T10:56:52.799736300Z"
    }
   },
   "id": "8feb1b9826141b0e",
   "execution_count": 79
  },
  {
   "cell_type": "code",
   "outputs": [],
   "source": [
    "# Creating model\n",
    "embedding_vector_features = 40\n",
    "model = Sequential()\n",
    "model.add(Embedding(voc_size, embedding_vector_features, input_length=sent_length))\n",
    "model.add(LSTM(200))\n",
    "model.add(Dropout(0.3))\n",
    "model.add(Dense(1, activation='sigmoid'))"
   ],
   "metadata": {
    "collapsed": false,
    "ExecuteTime": {
     "end_time": "2024-02-29T10:56:55.463671100Z",
     "start_time": "2024-02-29T10:56:55.303750700Z"
    }
   },
   "id": "6b21d770d22c8e15",
   "execution_count": 80
  },
  {
   "cell_type": "code",
   "outputs": [],
   "source": [
    "# Compiling the Model\n",
    "model.compile(loss='binary_crossentropy', optimizer='adam', metrics=['accuracy'])"
   ],
   "metadata": {
    "collapsed": false,
    "ExecuteTime": {
     "end_time": "2024-02-29T10:56:57.915896Z",
     "start_time": "2024-02-29T10:56:57.887713600Z"
    }
   },
   "id": "d787ee9e74acbe20",
   "execution_count": 81
  },
  {
   "cell_type": "code",
   "outputs": [
    {
     "name": "stdout",
     "output_type": "stream",
     "text": [
      "Model: \"sequential_3\"\n",
      "_________________________________________________________________\n",
      " Layer (type)                Output Shape              Param #   \n",
      "=================================================================\n",
      " embedding_3 (Embedding)     (None, 20, 40)            200000    \n",
      "                                                                 \n",
      " lstm_2 (LSTM)               (None, 200)               192800    \n",
      "                                                                 \n",
      " dropout (Dropout)           (None, 200)               0         \n",
      "                                                                 \n",
      " dense_1 (Dense)             (None, 1)                 201       \n",
      "                                                                 \n",
      "=================================================================\n",
      "Total params: 393001 (1.50 MB)\n",
      "Trainable params: 393001 (1.50 MB)\n",
      "Non-trainable params: 0 (0.00 Byte)\n",
      "_________________________________________________________________\n",
      "None\n"
     ]
    }
   ],
   "source": [
    "print(model.summary())"
   ],
   "metadata": {
    "collapsed": false,
    "ExecuteTime": {
     "end_time": "2024-02-29T10:57:00.080179400Z",
     "start_time": "2024-02-29T10:57:00.049295500Z"
    }
   },
   "id": "b56b30d75301869",
   "execution_count": 82
  },
  {
   "cell_type": "code",
   "outputs": [
    {
     "data": {
      "text/plain": "(18285, (18285,))"
     },
     "execution_count": 83,
     "metadata": {},
     "output_type": "execute_result"
    }
   ],
   "source": [
    "len(embedded_docs), Y.shape"
   ],
   "metadata": {
    "collapsed": false,
    "ExecuteTime": {
     "end_time": "2024-02-29T10:57:02.113871200Z",
     "start_time": "2024-02-29T10:57:02.101626400Z"
    }
   },
   "id": "50dff74e47af6b42",
   "execution_count": 83
  },
  {
   "cell_type": "code",
   "outputs": [],
   "source": [
    "# Converting to array\n",
    "import numpy as np\n",
    "X_final = np.array(embedded_docs)\n",
    "Y_final = np.array(Y)"
   ],
   "metadata": {
    "collapsed": false,
    "ExecuteTime": {
     "end_time": "2024-02-29T10:57:04.374212800Z",
     "start_time": "2024-02-29T10:57:04.364759400Z"
    }
   },
   "id": "bcfb1bbf0c23d9f9",
   "execution_count": 84
  },
  {
   "cell_type": "code",
   "outputs": [
    {
     "data": {
      "text/plain": "((18285, 20), (18285,))"
     },
     "execution_count": 85,
     "metadata": {},
     "output_type": "execute_result"
    }
   ],
   "source": [
    "# Shape of final array\n",
    "X_final.shape, Y_final.shape"
   ],
   "metadata": {
    "collapsed": false,
    "ExecuteTime": {
     "end_time": "2024-02-29T10:57:06.154659400Z",
     "start_time": "2024-02-29T10:57:06.142664800Z"
    }
   },
   "id": "a3694782851aa039",
   "execution_count": 85
  },
  {
   "cell_type": "code",
   "outputs": [],
   "source": [
    "# Applying the train test split\n",
    "from sklearn.model_selection import train_test_split\n",
    "X_train, X_test, Y_train, Y_test = train_test_split(X_final, Y_final, test_size=0.33, random_state=42)"
   ],
   "metadata": {
    "collapsed": false,
    "ExecuteTime": {
     "end_time": "2024-02-29T10:57:07.856067400Z",
     "start_time": "2024-02-29T10:57:07.832018100Z"
    }
   },
   "id": "589b01a089f6e09f",
   "execution_count": 86
  },
  {
   "cell_type": "code",
   "outputs": [
    {
     "name": "stdout",
     "output_type": "stream",
     "text": [
      "Epoch 1/10\n",
      "192/192 [==============================] - 6s 24ms/step - loss: 0.3255 - accuracy: 0.8433 - val_loss: 0.1942 - val_accuracy: 0.9210\n",
      "Epoch 2/10\n",
      "192/192 [==============================] - 5s 24ms/step - loss: 0.1310 - accuracy: 0.9485 - val_loss: 0.2047 - val_accuracy: 0.9218\n",
      "Epoch 3/10\n",
      "192/192 [==============================] - 4s 22ms/step - loss: 0.0921 - accuracy: 0.9659 - val_loss: 0.2232 - val_accuracy: 0.9168\n",
      "Epoch 4/10\n",
      "192/192 [==============================] - 4s 23ms/step - loss: 0.0611 - accuracy: 0.9794 - val_loss: 0.2762 - val_accuracy: 0.9168\n",
      "Epoch 5/10\n",
      "192/192 [==============================] - 4s 22ms/step - loss: 0.0361 - accuracy: 0.9878 - val_loss: 0.3315 - val_accuracy: 0.9132\n",
      "Epoch 6/10\n",
      "192/192 [==============================] - 4s 23ms/step - loss: 0.0204 - accuracy: 0.9936 - val_loss: 0.3642 - val_accuracy: 0.9130\n",
      "Epoch 7/10\n",
      "192/192 [==============================] - 4s 22ms/step - loss: 0.0130 - accuracy: 0.9960 - val_loss: 0.5743 - val_accuracy: 0.9127\n",
      "Epoch 8/10\n",
      "192/192 [==============================] - 4s 23ms/step - loss: 0.0085 - accuracy: 0.9978 - val_loss: 0.4655 - val_accuracy: 0.9089\n",
      "Epoch 9/10\n",
      "192/192 [==============================] - 4s 23ms/step - loss: 0.0071 - accuracy: 0.9983 - val_loss: 0.5815 - val_accuracy: 0.9147\n",
      "Epoch 10/10\n",
      "192/192 [==============================] - 4s 22ms/step - loss: 0.0029 - accuracy: 0.9993 - val_loss: 0.6080 - val_accuracy: 0.9052\n"
     ]
    },
    {
     "data": {
      "text/plain": "<keras.src.callbacks.History at 0x22fd97e1d50>"
     },
     "execution_count": 87,
     "metadata": {},
     "output_type": "execute_result"
    }
   ],
   "source": [
    "model.fit(X_train, Y_train, validation_data=(X_test, Y_test), epochs=10, batch_size=64)"
   ],
   "metadata": {
    "collapsed": false,
    "ExecuteTime": {
     "end_time": "2024-02-29T10:57:56.754772400Z",
     "start_time": "2024-02-29T10:57:11.147814600Z"
    }
   },
   "id": "b54fe5e173ae41b7",
   "execution_count": 87
  },
  {
   "cell_type": "code",
   "outputs": [
    {
     "name": "stdout",
     "output_type": "stream",
     "text": [
      "189/189 [==============================] - 1s 5ms/step\n"
     ]
    },
    {
     "data": {
      "text/plain": "array([[9.9999744e-01],\n       [2.0125976e-02],\n       [4.2845382e-05],\n       ...,\n       [9.1938819e-05],\n       [9.9759722e-01],\n       [9.9999440e-01]], dtype=float32)"
     },
     "execution_count": 88,
     "metadata": {},
     "output_type": "execute_result"
    }
   ],
   "source": [
    "# Performance metrics and accuracy\n",
    "y_pred = model.predict(X_test)\n",
    "y_pred"
   ],
   "metadata": {
    "collapsed": false,
    "ExecuteTime": {
     "end_time": "2024-02-29T10:58:04.839317600Z",
     "start_time": "2024-02-29T10:58:03.502001200Z"
    }
   },
   "id": "3315609136f07427",
   "execution_count": 88
  },
  {
   "cell_type": "code",
   "outputs": [
    {
     "data": {
      "text/plain": "array([[1],\n       [0],\n       [0],\n       ...,\n       [0],\n       [1],\n       [1]])"
     },
     "execution_count": 89,
     "metadata": {},
     "output_type": "execute_result"
    }
   ],
   "source": [
    "y_pred = np.where(y_pred > 0.5, 1, 0)\n",
    "y_pred"
   ],
   "metadata": {
    "collapsed": false,
    "ExecuteTime": {
     "end_time": "2024-02-29T10:58:07.742042800Z",
     "start_time": "2024-02-29T10:58:07.725555Z"
    }
   },
   "id": "4b13c4957312dd86",
   "execution_count": 89
  },
  {
   "cell_type": "code",
   "outputs": [
    {
     "data": {
      "text/plain": "array([[3132,  287],\n       [ 285, 2331]], dtype=int64)"
     },
     "execution_count": 90,
     "metadata": {},
     "output_type": "execute_result"
    }
   ],
   "source": [
    "from sklearn.metrics import confusion_matrix\n",
    "confusion_matrix(Y_test, y_pred)"
   ],
   "metadata": {
    "collapsed": false,
    "ExecuteTime": {
     "end_time": "2024-02-29T10:58:10.235325100Z",
     "start_time": "2024-02-29T10:58:10.220326500Z"
    }
   },
   "id": "566fdbd1ddfd71f1",
   "execution_count": 90
  },
  {
   "cell_type": "code",
   "outputs": [
    {
     "data": {
      "text/plain": "0.9052195526097763"
     },
     "execution_count": 91,
     "metadata": {},
     "output_type": "execute_result"
    }
   ],
   "source": [
    "from sklearn.metrics import accuracy_score\n",
    "accuracy_score(Y_test, y_pred)"
   ],
   "metadata": {
    "collapsed": false,
    "ExecuteTime": {
     "end_time": "2024-02-29T10:58:12.731661900Z",
     "start_time": "2024-02-29T10:58:12.718064600Z"
    }
   },
   "id": "de5a04ee930e5709",
   "execution_count": 91
  },
  {
   "cell_type": "code",
   "outputs": [
    {
     "name": "stdout",
     "output_type": "stream",
     "text": [
      "              precision    recall  f1-score   support\n",
      "\n",
      "           0       0.92      0.92      0.92      3419\n",
      "           1       0.89      0.89      0.89      2616\n",
      "\n",
      "    accuracy                           0.91      6035\n",
      "   macro avg       0.90      0.90      0.90      6035\n",
      "weighted avg       0.91      0.91      0.91      6035\n"
     ]
    }
   ],
   "source": [
    "from sklearn.metrics import classification_report\n",
    "print(classification_report(Y_test, y_pred))"
   ],
   "metadata": {
    "collapsed": false,
    "ExecuteTime": {
     "end_time": "2024-02-29T11:06:06.206744200Z",
     "start_time": "2024-02-29T11:06:06.181602Z"
    }
   },
   "id": "d314218957a56024",
   "execution_count": 104
  }
 ],
 "metadata": {
  "kernelspec": {
   "display_name": "Python 3",
   "language": "python",
   "name": "python3"
  },
  "language_info": {
   "codemirror_mode": {
    "name": "ipython",
    "version": 2
   },
   "file_extension": ".py",
   "mimetype": "text/x-python",
   "name": "python",
   "nbconvert_exporter": "python",
   "pygments_lexer": "ipython2",
   "version": "2.7.6"
  }
 },
 "nbformat": 4,
 "nbformat_minor": 5
}
