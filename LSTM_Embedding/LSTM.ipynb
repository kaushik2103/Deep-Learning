{
 "cells": [
  {
   "cell_type": "code",
   "execution_count": 1,
   "id": "initial_id",
   "metadata": {
    "collapsed": true,
    "ExecuteTime": {
     "end_time": "2024-02-29T07:06:06.733803400Z",
     "start_time": "2024-02-29T07:05:10.662240400Z"
    }
   },
   "outputs": [
    {
     "name": "stdout",
     "output_type": "stream",
     "text": [
      "Collecting tensorflow\n",
      "  Obtaining dependency information for tensorflow from https://files.pythonhosted.org/packages/7c/3c/049400232ee2897d613db9009e42269417166c3f8519d46e5c97b6f9e206/tensorflow-2.15.0-cp310-cp310-win_amd64.whl.metadata\n",
      "  Using cached tensorflow-2.15.0-cp310-cp310-win_amd64.whl.metadata (3.6 kB)\n",
      "Collecting tensorflow-intel==2.15.0 (from tensorflow)\n",
      "  Obtaining dependency information for tensorflow-intel==2.15.0 from https://files.pythonhosted.org/packages/da/1b/63e20bde0db52c3be7e078b50cf507f4534ad6e47b5e2b01d9ed63bb652f/tensorflow_intel-2.15.0-cp310-cp310-win_amd64.whl.metadata\n",
      "  Using cached tensorflow_intel-2.15.0-cp310-cp310-win_amd64.whl.metadata (5.1 kB)\n",
      "Collecting absl-py>=1.0.0 (from tensorflow-intel==2.15.0->tensorflow)\n",
      "  Obtaining dependency information for absl-py>=1.0.0 from https://files.pythonhosted.org/packages/a2/ad/e0d3c824784ff121c03cc031f944bc7e139a8f1870ffd2845cc2dd76f6c4/absl_py-2.1.0-py3-none-any.whl.metadata\n",
      "  Using cached absl_py-2.1.0-py3-none-any.whl.metadata (2.3 kB)\n",
      "Collecting astunparse>=1.6.0 (from tensorflow-intel==2.15.0->tensorflow)\n",
      "  Using cached astunparse-1.6.3-py2.py3-none-any.whl (12 kB)\n",
      "Collecting flatbuffers>=23.5.26 (from tensorflow-intel==2.15.0->tensorflow)\n",
      "  Obtaining dependency information for flatbuffers>=23.5.26 from https://files.pythonhosted.org/packages/6f/12/d5c79ee252793ffe845d58a913197bfa02ae9a0b5c9bc3dc4b58d477b9e7/flatbuffers-23.5.26-py2.py3-none-any.whl.metadata\n",
      "  Using cached flatbuffers-23.5.26-py2.py3-none-any.whl.metadata (850 bytes)\n",
      "Collecting gast!=0.5.0,!=0.5.1,!=0.5.2,>=0.2.1 (from tensorflow-intel==2.15.0->tensorflow)\n",
      "  Obtaining dependency information for gast!=0.5.0,!=0.5.1,!=0.5.2,>=0.2.1 from https://files.pythonhosted.org/packages/fa/39/5aae571e5a5f4de9c3445dae08a530498e5c53b0e74410eeeb0991c79047/gast-0.5.4-py3-none-any.whl.metadata\n",
      "  Using cached gast-0.5.4-py3-none-any.whl.metadata (1.3 kB)\n",
      "Collecting google-pasta>=0.1.1 (from tensorflow-intel==2.15.0->tensorflow)\n",
      "  Obtaining dependency information for google-pasta>=0.1.1 from https://files.pythonhosted.org/packages/a3/de/c648ef6835192e6e2cc03f40b19eeda4382c49b5bafb43d88b931c4c74ac/google_pasta-0.2.0-py3-none-any.whl.metadata\n",
      "  Downloading google_pasta-0.2.0-py3-none-any.whl.metadata (814 bytes)\n",
      "Collecting h5py>=2.9.0 (from tensorflow-intel==2.15.0->tensorflow)\n",
      "  Obtaining dependency information for h5py>=2.9.0 from https://files.pythonhosted.org/packages/25/5e/2e29933bd1dd67c76b56dd37f5950e6a0cf86ce67e9a9eb6761dac80c031/h5py-3.10.0-cp310-cp310-win_amd64.whl.metadata\n",
      "  Using cached h5py-3.10.0-cp310-cp310-win_amd64.whl.metadata (2.5 kB)\n",
      "Collecting libclang>=13.0.0 (from tensorflow-intel==2.15.0->tensorflow)\n",
      "  Obtaining dependency information for libclang>=13.0.0 from https://files.pythonhosted.org/packages/02/8c/dc970bc00867fe290e8c8a7befa1635af716a9ebdfe3fb9dce0ca4b522ce/libclang-16.0.6-py2.py3-none-win_amd64.whl.metadata\n",
      "  Using cached libclang-16.0.6-py2.py3-none-win_amd64.whl.metadata (5.3 kB)\n",
      "Collecting ml-dtypes~=0.2.0 (from tensorflow-intel==2.15.0->tensorflow)\n",
      "  Obtaining dependency information for ml-dtypes~=0.2.0 from https://files.pythonhosted.org/packages/55/51/c430b4f5f4a6df00aa41c1ee195e179489565e61cfad559506ca7442ce67/ml_dtypes-0.2.0-cp310-cp310-win_amd64.whl.metadata\n",
      "  Using cached ml_dtypes-0.2.0-cp310-cp310-win_amd64.whl.metadata (20 kB)\n",
      "Collecting numpy<2.0.0,>=1.23.5 (from tensorflow-intel==2.15.0->tensorflow)\n",
      "  Obtaining dependency information for numpy<2.0.0,>=1.23.5 from https://files.pythonhosted.org/packages/19/77/538f202862b9183f54108557bfda67e17603fc560c384559e769321c9d92/numpy-1.26.4-cp310-cp310-win_amd64.whl.metadata\n",
      "  Using cached numpy-1.26.4-cp310-cp310-win_amd64.whl.metadata (61 kB)\n",
      "Collecting opt-einsum>=2.3.2 (from tensorflow-intel==2.15.0->tensorflow)\n",
      "  Obtaining dependency information for opt-einsum>=2.3.2 from https://files.pythonhosted.org/packages/bc/19/404708a7e54ad2798907210462fd950c3442ea51acc8790f3da48d2bee8b/opt_einsum-3.3.0-py3-none-any.whl.metadata\n",
      "  Downloading opt_einsum-3.3.0-py3-none-any.whl.metadata (6.5 kB)\n",
      "Requirement already satisfied: packaging in d:\\machine_learning\\deep-learning\\deep-learning\\lstm_embedding\\.venv\\lib\\site-packages (from tensorflow-intel==2.15.0->tensorflow) (23.2)\n",
      "Collecting protobuf!=4.21.0,!=4.21.1,!=4.21.2,!=4.21.3,!=4.21.4,!=4.21.5,<5.0.0dev,>=3.20.3 (from tensorflow-intel==2.15.0->tensorflow)\n",
      "  Obtaining dependency information for protobuf!=4.21.0,!=4.21.1,!=4.21.2,!=4.21.3,!=4.21.4,!=4.21.5,<5.0.0dev,>=3.20.3 from https://files.pythonhosted.org/packages/ad/6e/1bed3b7c904cc178cb8ee8dbaf72934964452b3de95b7a63412591edb93c/protobuf-4.25.3-cp310-abi3-win_amd64.whl.metadata\n",
      "  Using cached protobuf-4.25.3-cp310-abi3-win_amd64.whl.metadata (541 bytes)\n",
      "Requirement already satisfied: setuptools in d:\\machine_learning\\deep-learning\\deep-learning\\lstm_embedding\\.venv\\lib\\site-packages (from tensorflow-intel==2.15.0->tensorflow) (68.2.0)\n",
      "Requirement already satisfied: six>=1.12.0 in d:\\machine_learning\\deep-learning\\deep-learning\\lstm_embedding\\.venv\\lib\\site-packages (from tensorflow-intel==2.15.0->tensorflow) (1.16.0)\n",
      "Collecting termcolor>=1.1.0 (from tensorflow-intel==2.15.0->tensorflow)\n",
      "  Obtaining dependency information for termcolor>=1.1.0 from https://files.pythonhosted.org/packages/d9/5f/8c716e47b3a50cbd7c146f45881e11d9414def768b7cd9c5e6650ec2a80a/termcolor-2.4.0-py3-none-any.whl.metadata\n",
      "  Using cached termcolor-2.4.0-py3-none-any.whl.metadata (6.1 kB)\n",
      "Requirement already satisfied: typing-extensions>=3.6.6 in d:\\machine_learning\\deep-learning\\deep-learning\\lstm_embedding\\.venv\\lib\\site-packages (from tensorflow-intel==2.15.0->tensorflow) (4.10.0)\n",
      "Collecting wrapt<1.15,>=1.11.0 (from tensorflow-intel==2.15.0->tensorflow)\n",
      "  Obtaining dependency information for wrapt<1.15,>=1.11.0 from https://files.pythonhosted.org/packages/c0/1e/e5a5ac09e92fd112d50e1793e5b9982dc9e510311ed89dacd2e801f82967/wrapt-1.14.1-cp310-cp310-win_amd64.whl.metadata\n",
      "  Using cached wrapt-1.14.1-cp310-cp310-win_amd64.whl.metadata (6.7 kB)\n",
      "Collecting tensorflow-io-gcs-filesystem>=0.23.1 (from tensorflow-intel==2.15.0->tensorflow)\n",
      "  Obtaining dependency information for tensorflow-io-gcs-filesystem>=0.23.1 from https://files.pythonhosted.org/packages/78/51/437068ed6b44162d54addb8ac0ddfe9e406d07ac6f9c8a6cf96869ec2262/tensorflow_io_gcs_filesystem-0.31.0-cp310-cp310-win_amd64.whl.metadata\n",
      "  Using cached tensorflow_io_gcs_filesystem-0.31.0-cp310-cp310-win_amd64.whl.metadata (14 kB)\n",
      "Collecting grpcio<2.0,>=1.24.3 (from tensorflow-intel==2.15.0->tensorflow)\n",
      "  Obtaining dependency information for grpcio<2.0,>=1.24.3 from https://files.pythonhosted.org/packages/ae/b0/78da845455a601a69a359ca2eafc341bc9670ede132d9aa65d9849cf2ac0/grpcio-1.62.0-cp310-cp310-win_amd64.whl.metadata\n",
      "  Using cached grpcio-1.62.0-cp310-cp310-win_amd64.whl.metadata (4.2 kB)\n",
      "Collecting tensorboard<2.16,>=2.15 (from tensorflow-intel==2.15.0->tensorflow)\n",
      "  Obtaining dependency information for tensorboard<2.16,>=2.15 from https://files.pythonhosted.org/packages/37/12/f6e9b9dcc310263cbd3948274e286538bd6800fd0c268850788f14a0c6d0/tensorboard-2.15.2-py3-none-any.whl.metadata\n",
      "  Using cached tensorboard-2.15.2-py3-none-any.whl.metadata (1.7 kB)\n",
      "Collecting tensorflow-estimator<2.16,>=2.15.0 (from tensorflow-intel==2.15.0->tensorflow)\n",
      "  Obtaining dependency information for tensorflow-estimator<2.16,>=2.15.0 from https://files.pythonhosted.org/packages/b6/c8/2f823c8958d5342eafc6dd3e922f0cc4fcf8c2e0460284cc462dae3b60a0/tensorflow_estimator-2.15.0-py2.py3-none-any.whl.metadata\n",
      "  Using cached tensorflow_estimator-2.15.0-py2.py3-none-any.whl.metadata (1.3 kB)\n",
      "Collecting keras<2.16,>=2.15.0 (from tensorflow-intel==2.15.0->tensorflow)\n",
      "  Obtaining dependency information for keras<2.16,>=2.15.0 from https://files.pythonhosted.org/packages/fc/a7/0d4490de967a67f68a538cc9cdb259bff971c4b5787f7765dc7c8f118f71/keras-2.15.0-py3-none-any.whl.metadata\n",
      "  Using cached keras-2.15.0-py3-none-any.whl.metadata (2.4 kB)\n",
      "Requirement already satisfied: wheel<1.0,>=0.23.0 in d:\\machine_learning\\deep-learning\\deep-learning\\lstm_embedding\\.venv\\lib\\site-packages (from astunparse>=1.6.0->tensorflow-intel==2.15.0->tensorflow) (0.41.2)\n",
      "Collecting google-auth<3,>=1.6.3 (from tensorboard<2.16,>=2.15->tensorflow-intel==2.15.0->tensorflow)\n",
      "  Obtaining dependency information for google-auth<3,>=1.6.3 from https://files.pythonhosted.org/packages/b7/1d/f152a5f6d243b6acbb2a710ed19aa47154d678359bed995abdd9daf0cff0/google_auth-2.28.1-py2.py3-none-any.whl.metadata\n",
      "  Using cached google_auth-2.28.1-py2.py3-none-any.whl.metadata (4.7 kB)\n",
      "Collecting google-auth-oauthlib<2,>=0.5 (from tensorboard<2.16,>=2.15->tensorflow-intel==2.15.0->tensorflow)\n",
      "  Obtaining dependency information for google-auth-oauthlib<2,>=0.5 from https://files.pythonhosted.org/packages/71/bf/9e125754d1adb3bc4bd206c4e5df756513b1d23675ac06caa471278d1f3f/google_auth_oauthlib-1.2.0-py2.py3-none-any.whl.metadata\n",
      "  Using cached google_auth_oauthlib-1.2.0-py2.py3-none-any.whl.metadata (2.7 kB)\n",
      "Collecting markdown>=2.6.8 (from tensorboard<2.16,>=2.15->tensorflow-intel==2.15.0->tensorflow)\n",
      "  Obtaining dependency information for markdown>=2.6.8 from https://files.pythonhosted.org/packages/42/f4/f0031854de10a0bc7821ef9fca0b92ca0d7aa6fbfbf504c5473ba825e49c/Markdown-3.5.2-py3-none-any.whl.metadata\n",
      "  Using cached Markdown-3.5.2-py3-none-any.whl.metadata (7.0 kB)\n",
      "Requirement already satisfied: requests<3,>=2.21.0 in d:\\machine_learning\\deep-learning\\deep-learning\\lstm_embedding\\.venv\\lib\\site-packages (from tensorboard<2.16,>=2.15->tensorflow-intel==2.15.0->tensorflow) (2.31.0)\n",
      "Collecting tensorboard-data-server<0.8.0,>=0.7.0 (from tensorboard<2.16,>=2.15->tensorflow-intel==2.15.0->tensorflow)\n",
      "  Obtaining dependency information for tensorboard-data-server<0.8.0,>=0.7.0 from https://files.pythonhosted.org/packages/7a/13/e503968fefabd4c6b2650af21e110aa8466fe21432cd7c43a84577a89438/tensorboard_data_server-0.7.2-py3-none-any.whl.metadata\n",
      "  Using cached tensorboard_data_server-0.7.2-py3-none-any.whl.metadata (1.1 kB)\n",
      "Collecting werkzeug>=1.0.1 (from tensorboard<2.16,>=2.15->tensorflow-intel==2.15.0->tensorflow)\n",
      "  Obtaining dependency information for werkzeug>=1.0.1 from https://files.pythonhosted.org/packages/c3/fc/254c3e9b5feb89ff5b9076a23218dafbc99c96ac5941e900b71206e6313b/werkzeug-3.0.1-py3-none-any.whl.metadata\n",
      "  Using cached werkzeug-3.0.1-py3-none-any.whl.metadata (4.1 kB)\n",
      "Collecting cachetools<6.0,>=2.0.0 (from google-auth<3,>=1.6.3->tensorboard<2.16,>=2.15->tensorflow-intel==2.15.0->tensorflow)\n",
      "  Obtaining dependency information for cachetools<6.0,>=2.0.0 from https://files.pythonhosted.org/packages/fb/2b/a64c2d25a37aeb921fddb929111413049fc5f8b9a4c1aefaffaafe768d54/cachetools-5.3.3-py3-none-any.whl.metadata\n",
      "  Downloading cachetools-5.3.3-py3-none-any.whl.metadata (5.3 kB)\n",
      "Collecting pyasn1-modules>=0.2.1 (from google-auth<3,>=1.6.3->tensorboard<2.16,>=2.15->tensorflow-intel==2.15.0->tensorflow)\n",
      "  Obtaining dependency information for pyasn1-modules>=0.2.1 from https://files.pythonhosted.org/packages/cd/8e/bea464350e1b8c6ed0da3a312659cb648804a08af6cacc6435867f74f8bd/pyasn1_modules-0.3.0-py2.py3-none-any.whl.metadata\n",
      "  Using cached pyasn1_modules-0.3.0-py2.py3-none-any.whl.metadata (3.6 kB)\n",
      "Collecting rsa<5,>=3.1.4 (from google-auth<3,>=1.6.3->tensorboard<2.16,>=2.15->tensorflow-intel==2.15.0->tensorflow)\n",
      "  Obtaining dependency information for rsa<5,>=3.1.4 from https://files.pythonhosted.org/packages/49/97/fa78e3d2f65c02c8e1268b9aba606569fe97f6c8f7c2d74394553347c145/rsa-4.9-py3-none-any.whl.metadata\n",
      "  Using cached rsa-4.9-py3-none-any.whl.metadata (4.2 kB)\n",
      "Collecting requests-oauthlib>=0.7.0 (from google-auth-oauthlib<2,>=0.5->tensorboard<2.16,>=2.15->tensorflow-intel==2.15.0->tensorflow)\n",
      "  Obtaining dependency information for requests-oauthlib>=0.7.0 from https://files.pythonhosted.org/packages/6f/bb/5deac77a9af870143c684ab46a7934038a53eb4aa975bc0687ed6ca2c610/requests_oauthlib-1.3.1-py2.py3-none-any.whl.metadata\n",
      "  Using cached requests_oauthlib-1.3.1-py2.py3-none-any.whl.metadata (10 kB)\n",
      "Requirement already satisfied: charset-normalizer<4,>=2 in d:\\machine_learning\\deep-learning\\deep-learning\\lstm_embedding\\.venv\\lib\\site-packages (from requests<3,>=2.21.0->tensorboard<2.16,>=2.15->tensorflow-intel==2.15.0->tensorflow) (3.3.2)\n",
      "Requirement already satisfied: idna<4,>=2.5 in d:\\machine_learning\\deep-learning\\deep-learning\\lstm_embedding\\.venv\\lib\\site-packages (from requests<3,>=2.21.0->tensorboard<2.16,>=2.15->tensorflow-intel==2.15.0->tensorflow) (3.6)\n",
      "Requirement already satisfied: urllib3<3,>=1.21.1 in d:\\machine_learning\\deep-learning\\deep-learning\\lstm_embedding\\.venv\\lib\\site-packages (from requests<3,>=2.21.0->tensorboard<2.16,>=2.15->tensorflow-intel==2.15.0->tensorflow) (2.2.1)\n",
      "Requirement already satisfied: certifi>=2017.4.17 in d:\\machine_learning\\deep-learning\\deep-learning\\lstm_embedding\\.venv\\lib\\site-packages (from requests<3,>=2.21.0->tensorboard<2.16,>=2.15->tensorflow-intel==2.15.0->tensorflow) (2024.2.2)\n",
      "Requirement already satisfied: MarkupSafe>=2.1.1 in d:\\machine_learning\\deep-learning\\deep-learning\\lstm_embedding\\.venv\\lib\\site-packages (from werkzeug>=1.0.1->tensorboard<2.16,>=2.15->tensorflow-intel==2.15.0->tensorflow) (2.1.5)\n",
      "Collecting pyasn1<0.6.0,>=0.4.6 (from pyasn1-modules>=0.2.1->google-auth<3,>=1.6.3->tensorboard<2.16,>=2.15->tensorflow-intel==2.15.0->tensorflow)\n",
      "  Obtaining dependency information for pyasn1<0.6.0,>=0.4.6 from https://files.pythonhosted.org/packages/d1/75/4686d2872bf2fc0b37917cbc8bbf0dd3a5cdb0990799be1b9cbf1e1eb733/pyasn1-0.5.1-py2.py3-none-any.whl.metadata\n",
      "  Using cached pyasn1-0.5.1-py2.py3-none-any.whl.metadata (8.6 kB)\n",
      "Collecting oauthlib>=3.0.0 (from requests-oauthlib>=0.7.0->google-auth-oauthlib<2,>=0.5->tensorboard<2.16,>=2.15->tensorflow-intel==2.15.0->tensorflow)\n",
      "  Obtaining dependency information for oauthlib>=3.0.0 from https://files.pythonhosted.org/packages/7e/80/cab10959dc1faead58dc8384a781dfbf93cb4d33d50988f7a69f1b7c9bbe/oauthlib-3.2.2-py3-none-any.whl.metadata\n",
      "  Using cached oauthlib-3.2.2-py3-none-any.whl.metadata (7.5 kB)\n",
      "Using cached tensorflow-2.15.0-cp310-cp310-win_amd64.whl (2.1 kB)\n",
      "Using cached tensorflow_intel-2.15.0-cp310-cp310-win_amd64.whl (300.9 MB)\n",
      "Using cached absl_py-2.1.0-py3-none-any.whl (133 kB)\n",
      "Using cached flatbuffers-23.5.26-py2.py3-none-any.whl (26 kB)\n",
      "Using cached gast-0.5.4-py3-none-any.whl (19 kB)\n",
      "Using cached google_pasta-0.2.0-py3-none-any.whl (57 kB)\n",
      "Using cached grpcio-1.62.0-cp310-cp310-win_amd64.whl (3.8 MB)\n",
      "Using cached h5py-3.10.0-cp310-cp310-win_amd64.whl (2.7 MB)\n",
      "Using cached keras-2.15.0-py3-none-any.whl (1.7 MB)\n",
      "Using cached libclang-16.0.6-py2.py3-none-win_amd64.whl (24.4 MB)\n",
      "Using cached ml_dtypes-0.2.0-cp310-cp310-win_amd64.whl (938 kB)\n",
      "Using cached numpy-1.26.4-cp310-cp310-win_amd64.whl (15.8 MB)\n",
      "Using cached opt_einsum-3.3.0-py3-none-any.whl (65 kB)\n",
      "Using cached protobuf-4.25.3-cp310-abi3-win_amd64.whl (413 kB)\n",
      "Using cached tensorboard-2.15.2-py3-none-any.whl (5.5 MB)\n",
      "Using cached tensorflow_estimator-2.15.0-py2.py3-none-any.whl (441 kB)\n",
      "Using cached tensorflow_io_gcs_filesystem-0.31.0-cp310-cp310-win_amd64.whl (1.5 MB)\n",
      "Using cached termcolor-2.4.0-py3-none-any.whl (7.7 kB)\n",
      "Using cached wrapt-1.14.1-cp310-cp310-win_amd64.whl (35 kB)\n",
      "Using cached google_auth-2.28.1-py2.py3-none-any.whl (186 kB)\n",
      "Using cached google_auth_oauthlib-1.2.0-py2.py3-none-any.whl (24 kB)\n",
      "Using cached Markdown-3.5.2-py3-none-any.whl (103 kB)\n",
      "Using cached tensorboard_data_server-0.7.2-py3-none-any.whl (2.4 kB)\n",
      "Using cached werkzeug-3.0.1-py3-none-any.whl (226 kB)\n",
      "Downloading cachetools-5.3.3-py3-none-any.whl (9.3 kB)\n",
      "Using cached pyasn1_modules-0.3.0-py2.py3-none-any.whl (181 kB)\n",
      "Using cached requests_oauthlib-1.3.1-py2.py3-none-any.whl (23 kB)\n",
      "Using cached rsa-4.9-py3-none-any.whl (34 kB)\n",
      "Using cached oauthlib-3.2.2-py3-none-any.whl (151 kB)\n",
      "Using cached pyasn1-0.5.1-py2.py3-none-any.whl (84 kB)\n",
      "Installing collected packages: libclang, flatbuffers, wrapt, werkzeug, termcolor, tensorflow-io-gcs-filesystem, tensorflow-estimator, tensorboard-data-server, pyasn1, protobuf, oauthlib, numpy, markdown, keras, grpcio, google-pasta, gast, cachetools, astunparse, absl-py, rsa, requests-oauthlib, pyasn1-modules, opt-einsum, ml-dtypes, h5py, google-auth, google-auth-oauthlib, tensorboard, tensorflow-intel, tensorflow\n",
      "Successfully installed absl-py-2.1.0 astunparse-1.6.3 cachetools-5.3.3 flatbuffers-23.5.26 gast-0.5.4 google-auth-2.28.1 google-auth-oauthlib-1.2.0 google-pasta-0.2.0 grpcio-1.62.0 h5py-3.10.0 keras-2.15.0 libclang-16.0.6 markdown-3.5.2 ml-dtypes-0.2.0 numpy-1.26.4 oauthlib-3.2.2 opt-einsum-3.3.0 protobuf-4.25.3 pyasn1-0.5.1 pyasn1-modules-0.3.0 requests-oauthlib-1.3.1 rsa-4.9 tensorboard-2.15.2 tensorboard-data-server-0.7.2 tensorflow-2.15.0 tensorflow-estimator-2.15.0 tensorflow-intel-2.15.0 tensorflow-io-gcs-filesystem-0.31.0 termcolor-2.4.0 werkzeug-3.0.1 wrapt-1.14.1\n"
     ]
    },
    {
     "name": "stderr",
     "output_type": "stream",
     "text": [
      "\n",
      "[notice] A new release of pip is available: 23.2.1 -> 24.0\n",
      "[notice] To update, run: python.exe -m pip install --upgrade pip\n"
     ]
    }
   ],
   "source": [
    "!pip install tensorflow"
   ]
  },
  {
   "cell_type": "code",
   "outputs": [
    {
     "name": "stdout",
     "output_type": "stream",
     "text": [
      "WARNING:tensorflow:From D:\\Machine_Learning\\Deep-Learning\\Deep-Learning\\LSTM_Embedding\\.venv\\lib\\site-packages\\keras\\src\\losses.py:2976: The name tf.losses.sparse_softmax_cross_entropy is deprecated. Please use tf.compat.v1.losses.sparse_softmax_cross_entropy instead.\n",
      "2.15.0\n"
     ]
    }
   ],
   "source": [
    "import tensorflow as tf\n",
    "print(tf.__version__)"
   ],
   "metadata": {
    "collapsed": false,
    "ExecuteTime": {
     "end_time": "2024-02-29T07:41:19.753478900Z",
     "start_time": "2024-02-29T07:41:12.572011300Z"
    }
   },
   "id": "c8f98800541f4a26",
   "execution_count": 1
  },
  {
   "cell_type": "code",
   "outputs": [],
   "source": [
    "from tensorflow.keras.preprocessing.text import one_hot"
   ],
   "metadata": {
    "collapsed": false,
    "ExecuteTime": {
     "end_time": "2024-02-29T07:41:22.062598700Z",
     "start_time": "2024-02-29T07:41:21.991599700Z"
    }
   },
   "id": "a0b9e21401b7e6de",
   "execution_count": 2
  },
  {
   "cell_type": "code",
   "outputs": [],
   "source": [
    "sent = [\n",
    "    'the glass of milk',\n",
    "     'the glass of juice',\n",
    "     'the cup of tea',\n",
    "    'I am a good boy',\n",
    "     'I am a good developer',\n",
    "     'understand the meaning of words',\n",
    "     'your videos are good'\n",
    "]"
   ],
   "metadata": {
    "collapsed": false,
    "ExecuteTime": {
     "end_time": "2024-02-29T07:41:23.279006500Z",
     "start_time": "2024-02-29T07:41:23.230340500Z"
    }
   },
   "id": "32c33d4d14c5633f",
   "execution_count": 3
  },
  {
   "cell_type": "code",
   "outputs": [
    {
     "data": {
      "text/plain": "['the glass of milk',\n 'the glass of juice',\n 'the cup of tea',\n 'I am a good boy',\n 'I am a good developer',\n 'understand the meaning of words',\n 'your videos are good']"
     },
     "execution_count": 4,
     "metadata": {},
     "output_type": "execute_result"
    }
   ],
   "source": [
    "sent"
   ],
   "metadata": {
    "collapsed": false,
    "ExecuteTime": {
     "end_time": "2024-02-29T07:41:25.215413Z",
     "start_time": "2024-02-29T07:41:25.186720300Z"
    }
   },
   "id": "72111f2a2eab3d18",
   "execution_count": 4
  },
  {
   "cell_type": "code",
   "outputs": [],
   "source": [
    "# Vocabulary size\n",
    "voc_size = 500"
   ],
   "metadata": {
    "collapsed": false,
    "ExecuteTime": {
     "end_time": "2024-02-29T07:41:27.104224700Z",
     "start_time": "2024-02-29T07:41:27.073225400Z"
    }
   },
   "id": "9bf69d33d4a84c41",
   "execution_count": 5
  },
  {
   "cell_type": "code",
   "outputs": [
    {
     "name": "stdout",
     "output_type": "stream",
     "text": [
      "[[154, 433, 423, 1], [154, 433, 423, 9], [154, 83, 423, 489], [26, 360, 168, 94, 19], [26, 360, 168, 94, 304], [241, 154, 182, 423, 179], [153, 435, 480, 94]]\n"
     ]
    }
   ],
   "source": [
    "# One hot representation\n",
    "one_hot_repr = [one_hot(word, voc_size) for word in sent]\n",
    "print(one_hot_repr)"
   ],
   "metadata": {
    "collapsed": false,
    "ExecuteTime": {
     "end_time": "2024-02-29T07:41:28.792828200Z",
     "start_time": "2024-02-29T07:41:28.777550700Z"
    }
   },
   "id": "4d3b9bfe38630efd",
   "execution_count": 6
  },
  {
   "cell_type": "code",
   "outputs": [],
   "source": [
    "from tensorflow.keras.layers import Embedding\n",
    "from tensorflow.keras.preprocessing.sequence import pad_sequences\n",
    "from tensorflow.keras.models import Sequential"
   ],
   "metadata": {
    "collapsed": false,
    "ExecuteTime": {
     "end_time": "2024-02-29T07:41:31.014747900Z",
     "start_time": "2024-02-29T07:41:30.991771300Z"
    }
   },
   "id": "405511e9c3f72ded",
   "execution_count": 7
  },
  {
   "cell_type": "code",
   "outputs": [
    {
     "name": "stdout",
     "output_type": "stream",
     "text": [
      "[[  0   0   0   0 154 433 423   1]\n",
      " [  0   0   0   0 154 433 423   9]\n",
      " [  0   0   0   0 154  83 423 489]\n",
      " [  0   0   0  26 360 168  94  19]\n",
      " [  0   0   0  26 360 168  94 304]\n",
      " [  0   0   0 241 154 182 423 179]\n",
      " [  0   0   0   0 153 435 480  94]]\n"
     ]
    }
   ],
   "source": [
    "# Pre Padding\n",
    "sent_length = 8\n",
    "embedded_docs = pad_sequences(one_hot_repr, padding='pre', maxlen=sent_length)\n",
    "print(embedded_docs)"
   ],
   "metadata": {
    "collapsed": false,
    "ExecuteTime": {
     "end_time": "2024-02-29T07:41:32.563560400Z",
     "start_time": "2024-02-29T07:41:32.551823400Z"
    }
   },
   "id": "860e0976efcecc04",
   "execution_count": 8
  },
  {
   "cell_type": "code",
   "outputs": [],
   "source": [
    "# Feature Dimension\n",
    "dim = 10"
   ],
   "metadata": {
    "collapsed": false,
    "ExecuteTime": {
     "end_time": "2024-02-29T07:41:35.016050900Z",
     "start_time": "2024-02-29T07:41:34.990058400Z"
    }
   },
   "id": "4bb2948f234a4535",
   "execution_count": 9
  },
  {
   "cell_type": "code",
   "outputs": [
    {
     "name": "stdout",
     "output_type": "stream",
     "text": [
      "WARNING:tensorflow:From D:\\Machine_Learning\\Deep-Learning\\Deep-Learning\\LSTM_Embedding\\.venv\\lib\\site-packages\\keras\\src\\backend.py:873: The name tf.get_default_graph is deprecated. Please use tf.compat.v1.get_default_graph instead.\n",
      "WARNING:tensorflow:From D:\\Machine_Learning\\Deep-Learning\\Deep-Learning\\LSTM_Embedding\\.venv\\lib\\site-packages\\keras\\src\\optimizers\\__init__.py:309: The name tf.train.Optimizer is deprecated. Please use tf.compat.v1.train.Optimizer instead.\n",
      "\n",
      "Model: \"sequential\"\n",
      "_________________________________________________________________\n",
      " Layer (type)                Output Shape              Param #   \n",
      "=================================================================\n",
      " embedding (Embedding)       (None, 8, 10)             5000      \n",
      "                                                                 \n",
      "=================================================================\n",
      "Total params: 5000 (19.53 KB)\n",
      "Trainable params: 5000 (19.53 KB)\n",
      "Non-trainable params: 0 (0.00 Byte)\n",
      "_________________________________________________________________\n"
     ]
    }
   ],
   "source": [
    "model = Sequential()\n",
    "model.add(Embedding(voc_size, dim, input_length=sent_length))\n",
    "model.compile('adam', 'mse')\n",
    "model.summary()"
   ],
   "metadata": {
    "collapsed": false,
    "ExecuteTime": {
     "end_time": "2024-02-29T07:41:39.800509200Z",
     "start_time": "2024-02-29T07:41:39.630569Z"
    }
   },
   "id": "abc9c256110892c3",
   "execution_count": 10
  },
  {
   "cell_type": "code",
   "outputs": [
    {
     "data": {
      "text/plain": "array([  0,   0,   0,   0, 154, 433, 423,   1])"
     },
     "execution_count": 11,
     "metadata": {},
     "output_type": "execute_result"
    }
   ],
   "source": [
    "embedded_docs[0]"
   ],
   "metadata": {
    "collapsed": false,
    "ExecuteTime": {
     "end_time": "2024-02-29T07:41:42.015950800Z",
     "start_time": "2024-02-29T07:41:42.007446500Z"
    }
   },
   "id": "3f7ca650738f8ff5",
   "execution_count": 11
  },
  {
   "cell_type": "code",
   "outputs": [
    {
     "data": {
      "text/plain": "array([  0,   0,   0,   0, 154, 433, 423,   9])"
     },
     "execution_count": 12,
     "metadata": {},
     "output_type": "execute_result"
    }
   ],
   "source": [
    "embedded_docs[1]"
   ],
   "metadata": {
    "collapsed": false,
    "ExecuteTime": {
     "end_time": "2024-02-29T07:41:44.586128700Z",
     "start_time": "2024-02-29T07:41:44.557748500Z"
    }
   },
   "id": "c03cff79a3cee9e3",
   "execution_count": 12
  },
  {
   "cell_type": "code",
   "outputs": [
    {
     "name": "stdout",
     "output_type": "stream",
     "text": [
      "1/1 [==============================] - 0s 61ms/step\n"
     ]
    },
    {
     "data": {
      "text/plain": "array([[ 0.03411711,  0.02516398,  0.02553746, -0.00817201,  0.01156045,\n         0.02725771, -0.04881926,  0.02410932,  0.03943962, -0.03680196],\n       [ 0.03411711,  0.02516398,  0.02553746, -0.00817201,  0.01156045,\n         0.02725771, -0.04881926,  0.02410932,  0.03943962, -0.03680196],\n       [ 0.03411711,  0.02516398,  0.02553746, -0.00817201,  0.01156045,\n         0.02725771, -0.04881926,  0.02410932,  0.03943962, -0.03680196],\n       [ 0.03411711,  0.02516398,  0.02553746, -0.00817201,  0.01156045,\n         0.02725771, -0.04881926,  0.02410932,  0.03943962, -0.03680196],\n       [ 0.03386265,  0.03911557,  0.02383659,  0.0159549 , -0.04910599,\n         0.02696228,  0.04991797,  0.04749321, -0.03824332, -0.04521786],\n       [-0.02601876, -0.02370684,  0.03008101, -0.04917151,  0.01495221,\n        -0.00361984,  0.03019286, -0.0432439 , -0.01452588, -0.00098098],\n       [ 0.00913091,  0.03162403, -0.03731697, -0.02104822, -0.0236153 ,\n         0.00374798,  0.00593878,  0.03705964, -0.00302865,  0.03372938],\n       [-0.03164647, -0.04162113,  0.03579758, -0.01832383,  0.0230401 ,\n         0.03203541,  0.0354245 , -0.04299877, -0.0451676 , -0.03705869]],\n      dtype=float32)"
     },
     "execution_count": 13,
     "metadata": {},
     "output_type": "execute_result"
    }
   ],
   "source": [
    "model.predict(embedded_docs[0])"
   ],
   "metadata": {
    "collapsed": false,
    "ExecuteTime": {
     "end_time": "2024-02-29T07:41:47.219105900Z",
     "start_time": "2024-02-29T07:41:47.086177100Z"
    }
   },
   "id": "c6528fccc9a78870",
   "execution_count": 13
  },
  {
   "cell_type": "code",
   "outputs": [
    {
     "name": "stdout",
     "output_type": "stream",
     "text": [
      "1/1 [==============================] - 0s 36ms/step\n"
     ]
    },
    {
     "data": {
      "text/plain": "array([[[ 3.41171138e-02,  2.51639821e-02,  2.55374573e-02,\n         -8.17201287e-03,  1.15604512e-02,  2.72577144e-02,\n         -4.88192551e-02,  2.41093151e-02,  3.94396223e-02,\n         -3.68019566e-02],\n        [ 3.41171138e-02,  2.51639821e-02,  2.55374573e-02,\n         -8.17201287e-03,  1.15604512e-02,  2.72577144e-02,\n         -4.88192551e-02,  2.41093151e-02,  3.94396223e-02,\n         -3.68019566e-02],\n        [ 3.41171138e-02,  2.51639821e-02,  2.55374573e-02,\n         -8.17201287e-03,  1.15604512e-02,  2.72577144e-02,\n         -4.88192551e-02,  2.41093151e-02,  3.94396223e-02,\n         -3.68019566e-02],\n        [ 3.41171138e-02,  2.51639821e-02,  2.55374573e-02,\n         -8.17201287e-03,  1.15604512e-02,  2.72577144e-02,\n         -4.88192551e-02,  2.41093151e-02,  3.94396223e-02,\n         -3.68019566e-02],\n        [ 3.38626541e-02,  3.91155742e-02,  2.38365866e-02,\n          1.59549005e-02, -4.91059907e-02,  2.69622840e-02,\n          4.99179699e-02,  4.74932082e-02, -3.82433161e-02,\n         -4.52178605e-02],\n        [-2.60187630e-02, -2.37068422e-02,  3.00810076e-02,\n         -4.91715074e-02,  1.49522088e-02, -3.61983851e-03,\n          3.01928557e-02, -4.32438962e-02, -1.45258792e-02,\n         -9.80984420e-04],\n        [ 9.13090631e-03,  3.16240303e-02, -3.73169668e-02,\n         -2.10482236e-02, -2.36153007e-02,  3.74797732e-03,\n          5.93877956e-03,  3.70596386e-02, -3.02865356e-03,\n          3.37293781e-02],\n        [-3.16464677e-02, -4.16211262e-02,  3.57975848e-02,\n         -1.83238275e-02,  2.30401047e-02,  3.20354141e-02,\n          3.54245044e-02, -4.29987684e-02, -4.51676026e-02,\n         -3.70586887e-02]],\n\n       [[ 3.41171138e-02,  2.51639821e-02,  2.55374573e-02,\n         -8.17201287e-03,  1.15604512e-02,  2.72577144e-02,\n         -4.88192551e-02,  2.41093151e-02,  3.94396223e-02,\n         -3.68019566e-02],\n        [ 3.41171138e-02,  2.51639821e-02,  2.55374573e-02,\n         -8.17201287e-03,  1.15604512e-02,  2.72577144e-02,\n         -4.88192551e-02,  2.41093151e-02,  3.94396223e-02,\n         -3.68019566e-02],\n        [ 3.41171138e-02,  2.51639821e-02,  2.55374573e-02,\n         -8.17201287e-03,  1.15604512e-02,  2.72577144e-02,\n         -4.88192551e-02,  2.41093151e-02,  3.94396223e-02,\n         -3.68019566e-02],\n        [ 3.41171138e-02,  2.51639821e-02,  2.55374573e-02,\n         -8.17201287e-03,  1.15604512e-02,  2.72577144e-02,\n         -4.88192551e-02,  2.41093151e-02,  3.94396223e-02,\n         -3.68019566e-02],\n        [ 3.38626541e-02,  3.91155742e-02,  2.38365866e-02,\n          1.59549005e-02, -4.91059907e-02,  2.69622840e-02,\n          4.99179699e-02,  4.74932082e-02, -3.82433161e-02,\n         -4.52178605e-02],\n        [-2.60187630e-02, -2.37068422e-02,  3.00810076e-02,\n         -4.91715074e-02,  1.49522088e-02, -3.61983851e-03,\n          3.01928557e-02, -4.32438962e-02, -1.45258792e-02,\n         -9.80984420e-04],\n        [ 9.13090631e-03,  3.16240303e-02, -3.73169668e-02,\n         -2.10482236e-02, -2.36153007e-02,  3.74797732e-03,\n          5.93877956e-03,  3.70596386e-02, -3.02865356e-03,\n          3.37293781e-02],\n        [-4.69219685e-02,  3.29346918e-02, -2.21596248e-02,\n          3.74388807e-02, -3.50682363e-02, -4.52638641e-02,\n         -3.62837911e-02, -9.49084759e-03, -4.29497734e-02,\n          5.09619713e-03]],\n\n       [[ 3.41171138e-02,  2.51639821e-02,  2.55374573e-02,\n         -8.17201287e-03,  1.15604512e-02,  2.72577144e-02,\n         -4.88192551e-02,  2.41093151e-02,  3.94396223e-02,\n         -3.68019566e-02],\n        [ 3.41171138e-02,  2.51639821e-02,  2.55374573e-02,\n         -8.17201287e-03,  1.15604512e-02,  2.72577144e-02,\n         -4.88192551e-02,  2.41093151e-02,  3.94396223e-02,\n         -3.68019566e-02],\n        [ 3.41171138e-02,  2.51639821e-02,  2.55374573e-02,\n         -8.17201287e-03,  1.15604512e-02,  2.72577144e-02,\n         -4.88192551e-02,  2.41093151e-02,  3.94396223e-02,\n         -3.68019566e-02],\n        [ 3.41171138e-02,  2.51639821e-02,  2.55374573e-02,\n         -8.17201287e-03,  1.15604512e-02,  2.72577144e-02,\n         -4.88192551e-02,  2.41093151e-02,  3.94396223e-02,\n         -3.68019566e-02],\n        [ 3.38626541e-02,  3.91155742e-02,  2.38365866e-02,\n          1.59549005e-02, -4.91059907e-02,  2.69622840e-02,\n          4.99179699e-02,  4.74932082e-02, -3.82433161e-02,\n         -4.52178605e-02],\n        [-6.14938885e-03, -3.95104662e-02,  4.51403894e-02,\n          1.79298259e-02,  2.84823067e-02,  4.11814451e-03,\n          1.01881251e-02, -5.75076416e-03, -3.58054154e-02,\n         -1.33396387e-02],\n        [ 9.13090631e-03,  3.16240303e-02, -3.73169668e-02,\n         -2.10482236e-02, -2.36153007e-02,  3.74797732e-03,\n          5.93877956e-03,  3.70596386e-02, -3.02865356e-03,\n          3.37293781e-02],\n        [ 1.91242434e-02, -1.90738570e-02,  2.83027329e-02,\n          2.65354551e-02, -3.57701294e-02, -4.13855910e-02,\n         -1.08115785e-02, -4.96205799e-02,  3.56300808e-02,\n         -2.71863099e-02]],\n\n       [[ 3.41171138e-02,  2.51639821e-02,  2.55374573e-02,\n         -8.17201287e-03,  1.15604512e-02,  2.72577144e-02,\n         -4.88192551e-02,  2.41093151e-02,  3.94396223e-02,\n         -3.68019566e-02],\n        [ 3.41171138e-02,  2.51639821e-02,  2.55374573e-02,\n         -8.17201287e-03,  1.15604512e-02,  2.72577144e-02,\n         -4.88192551e-02,  2.41093151e-02,  3.94396223e-02,\n         -3.68019566e-02],\n        [ 3.41171138e-02,  2.51639821e-02,  2.55374573e-02,\n         -8.17201287e-03,  1.15604512e-02,  2.72577144e-02,\n         -4.88192551e-02,  2.41093151e-02,  3.94396223e-02,\n         -3.68019566e-02],\n        [-4.40359004e-02,  1.54664405e-02, -6.14906475e-03,\n          4.81712557e-02, -5.97761944e-03,  3.64299156e-02,\n         -2.57241484e-02, -1.84821486e-02, -1.06844194e-02,\n          7.23335892e-03],\n        [-2.20794808e-02, -2.70787962e-02,  2.19331644e-02,\n         -4.46148999e-02, -3.81558761e-02,  4.38800193e-02,\n          6.40884787e-03, -4.22389619e-02, -3.40099558e-02,\n         -8.05460289e-03],\n        [-1.25415213e-02, -1.32892951e-02, -3.17494050e-02,\n          3.38333286e-02,  3.05301212e-02,  2.19220631e-02,\n         -5.03277779e-03, -1.90116465e-04,  1.37891211e-02,\n          1.74752362e-02],\n        [-4.21286225e-02,  1.77624859e-02, -4.36519049e-02,\n          4.91985790e-02, -4.16569114e-02, -3.61735225e-02,\n         -3.27407010e-02,  2.53986567e-04,  3.97129394e-02,\n         -9.40890238e-03],\n        [-3.19044814e-02, -2.83260271e-03, -1.00750700e-02,\n         -4.52787392e-02,  4.31977026e-02,  2.87648104e-02,\n          1.08700022e-02, -9.34550911e-03, -1.74144283e-02,\n          2.42030136e-02]],\n\n       [[ 3.41171138e-02,  2.51639821e-02,  2.55374573e-02,\n         -8.17201287e-03,  1.15604512e-02,  2.72577144e-02,\n         -4.88192551e-02,  2.41093151e-02,  3.94396223e-02,\n         -3.68019566e-02],\n        [ 3.41171138e-02,  2.51639821e-02,  2.55374573e-02,\n         -8.17201287e-03,  1.15604512e-02,  2.72577144e-02,\n         -4.88192551e-02,  2.41093151e-02,  3.94396223e-02,\n         -3.68019566e-02],\n        [ 3.41171138e-02,  2.51639821e-02,  2.55374573e-02,\n         -8.17201287e-03,  1.15604512e-02,  2.72577144e-02,\n         -4.88192551e-02,  2.41093151e-02,  3.94396223e-02,\n         -3.68019566e-02],\n        [-4.40359004e-02,  1.54664405e-02, -6.14906475e-03,\n          4.81712557e-02, -5.97761944e-03,  3.64299156e-02,\n         -2.57241484e-02, -1.84821486e-02, -1.06844194e-02,\n          7.23335892e-03],\n        [-2.20794808e-02, -2.70787962e-02,  2.19331644e-02,\n         -4.46148999e-02, -3.81558761e-02,  4.38800193e-02,\n          6.40884787e-03, -4.22389619e-02, -3.40099558e-02,\n         -8.05460289e-03],\n        [-1.25415213e-02, -1.32892951e-02, -3.17494050e-02,\n          3.38333286e-02,  3.05301212e-02,  2.19220631e-02,\n         -5.03277779e-03, -1.90116465e-04,  1.37891211e-02,\n          1.74752362e-02],\n        [-4.21286225e-02,  1.77624859e-02, -4.36519049e-02,\n          4.91985790e-02, -4.16569114e-02, -3.61735225e-02,\n         -3.27407010e-02,  2.53986567e-04,  3.97129394e-02,\n         -9.40890238e-03],\n        [-3.42517979e-02, -1.61983594e-02,  1.13322362e-02,\n         -4.17792574e-02,  2.93094255e-02, -4.88052964e-02,\n         -4.93206494e-02, -3.70126255e-02,  2.45953538e-02,\n         -4.75860946e-02]],\n\n       [[ 3.41171138e-02,  2.51639821e-02,  2.55374573e-02,\n         -8.17201287e-03,  1.15604512e-02,  2.72577144e-02,\n         -4.88192551e-02,  2.41093151e-02,  3.94396223e-02,\n         -3.68019566e-02],\n        [ 3.41171138e-02,  2.51639821e-02,  2.55374573e-02,\n         -8.17201287e-03,  1.15604512e-02,  2.72577144e-02,\n         -4.88192551e-02,  2.41093151e-02,  3.94396223e-02,\n         -3.68019566e-02],\n        [ 3.41171138e-02,  2.51639821e-02,  2.55374573e-02,\n         -8.17201287e-03,  1.15604512e-02,  2.72577144e-02,\n         -4.88192551e-02,  2.41093151e-02,  3.94396223e-02,\n         -3.68019566e-02],\n        [-4.21257503e-02,  2.69509219e-02,  3.57799046e-02,\n         -1.29501447e-02,  4.21493538e-02,  3.65776159e-02,\n          4.37110551e-02, -2.21425649e-02, -1.28860474e-02,\n         -1.44541636e-02],\n        [ 3.38626541e-02,  3.91155742e-02,  2.38365866e-02,\n          1.59549005e-02, -4.91059907e-02,  2.69622840e-02,\n          4.99179699e-02,  4.74932082e-02, -3.82433161e-02,\n         -4.52178605e-02],\n        [ 1.66143104e-03, -4.93604206e-02,  4.62402366e-02,\n         -4.23085578e-02, -3.56974714e-02, -4.60161939e-02,\n          4.82908152e-02,  2.41520293e-02,  1.21236965e-03,\n         -3.27599049e-02],\n        [ 9.13090631e-03,  3.16240303e-02, -3.73169668e-02,\n         -2.10482236e-02, -2.36153007e-02,  3.74797732e-03,\n          5.93877956e-03,  3.70596386e-02, -3.02865356e-03,\n          3.37293781e-02],\n        [-1.05837099e-02, -3.08827050e-02, -3.38834673e-02,\n          1.56481974e-02,  4.70877029e-02, -3.31869274e-02,\n          1.59238018e-02, -3.54336128e-02, -3.95551324e-05,\n         -1.68533251e-03]],\n\n       [[ 3.41171138e-02,  2.51639821e-02,  2.55374573e-02,\n         -8.17201287e-03,  1.15604512e-02,  2.72577144e-02,\n         -4.88192551e-02,  2.41093151e-02,  3.94396223e-02,\n         -3.68019566e-02],\n        [ 3.41171138e-02,  2.51639821e-02,  2.55374573e-02,\n         -8.17201287e-03,  1.15604512e-02,  2.72577144e-02,\n         -4.88192551e-02,  2.41093151e-02,  3.94396223e-02,\n         -3.68019566e-02],\n        [ 3.41171138e-02,  2.51639821e-02,  2.55374573e-02,\n         -8.17201287e-03,  1.15604512e-02,  2.72577144e-02,\n         -4.88192551e-02,  2.41093151e-02,  3.94396223e-02,\n         -3.68019566e-02],\n        [ 3.41171138e-02,  2.51639821e-02,  2.55374573e-02,\n         -8.17201287e-03,  1.15604512e-02,  2.72577144e-02,\n         -4.88192551e-02,  2.41093151e-02,  3.94396223e-02,\n         -3.68019566e-02],\n        [ 2.09621228e-02, -3.76453176e-02,  1.07166916e-03,\n          2.70634554e-02, -1.09299310e-02, -4.59611192e-02,\n         -1.81988366e-02,  1.50018074e-02,  1.02946647e-02,\n         -1.45135298e-02],\n        [ 1.36060379e-02,  3.31426896e-02, -4.69260477e-02,\n         -9.92029905e-03,  1.62220933e-02,  2.04721428e-02,\n          1.95636488e-02, -2.09774375e-02, -2.02914607e-02,\n          3.45050171e-03],\n        [-1.14293471e-02,  1.97303556e-02, -3.96916978e-02,\n          1.25263818e-02, -1.33632645e-02, -3.10509093e-02,\n          1.47210620e-02, -3.76049429e-03,  4.48330529e-02,\n         -4.52547781e-02],\n        [-4.21286225e-02,  1.77624859e-02, -4.36519049e-02,\n          4.91985790e-02, -4.16569114e-02, -3.61735225e-02,\n         -3.27407010e-02,  2.53986567e-04,  3.97129394e-02,\n         -9.40890238e-03]]], dtype=float32)"
     },
     "execution_count": 14,
     "metadata": {},
     "output_type": "execute_result"
    }
   ],
   "source": [
    "model.predict(embedded_docs)"
   ],
   "metadata": {
    "collapsed": false,
    "ExecuteTime": {
     "end_time": "2024-02-29T07:41:49.544823500Z",
     "start_time": "2024-02-29T07:41:49.455253200Z"
    }
   },
   "id": "906539ea5fde517d",
   "execution_count": 14
  },
  {
   "cell_type": "code",
   "outputs": [],
   "source": [],
   "metadata": {
    "collapsed": false
   },
   "id": "dcdd79ec473e12c2"
  }
 ],
 "metadata": {
  "kernelspec": {
   "display_name": "Python 3",
   "language": "python",
   "name": "python3"
  },
  "language_info": {
   "codemirror_mode": {
    "name": "ipython",
    "version": 2
   },
   "file_extension": ".py",
   "mimetype": "text/x-python",
   "name": "python",
   "nbconvert_exporter": "python",
   "pygments_lexer": "ipython2",
   "version": "2.7.6"
  }
 },
 "nbformat": 4,
 "nbformat_minor": 5
}
