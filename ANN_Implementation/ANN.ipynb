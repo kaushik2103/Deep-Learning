{
 "cells": [
  {
   "cell_type": "code",
   "execution_count": 76,
   "id": "initial_id",
   "metadata": {
    "collapsed": true,
    "ExecuteTime": {
     "end_time": "2024-02-23T10:11:38.782114600Z",
     "start_time": "2024-02-23T10:11:38.762501300Z"
    }
   },
   "outputs": [
    {
     "name": "stdout",
     "output_type": "stream",
     "text": [
      "2.15.0\n"
     ]
    }
   ],
   "source": [
    "# Importing Tensorflow\n",
    "import tensorflow as tf\n",
    "\n",
    "print(tf.__version__)"
   ]
  },
  {
   "cell_type": "code",
   "outputs": [],
   "source": [
    "import numpy as np\n",
    "import matplotlib.pyplot as plt\n",
    "import pandas as pd"
   ],
   "metadata": {
    "collapsed": false,
    "ExecuteTime": {
     "end_time": "2024-02-23T10:11:40.959041Z",
     "start_time": "2024-02-23T10:11:40.946742600Z"
    }
   },
   "id": "66c7569a90d75718",
   "execution_count": 77
  },
  {
   "cell_type": "code",
   "outputs": [
    {
     "data": {
      "text/plain": "   RowNumber  CustomerId   Surname  CreditScore Geography  Gender  Age  \\\n0          1    15634602  Hargrave          619    France  Female   42   \n1          2    15647311      Hill          608     Spain  Female   41   \n2          3    15619304      Onio          502    France  Female   42   \n3          4    15701354      Boni          699    France  Female   39   \n4          5    15737888  Mitchell          850     Spain  Female   43   \n\n   Tenure    Balance  NumOfProducts  HasCrCard  IsActiveMember  \\\n0       2       0.00              1          1               1   \n1       1   83807.86              1          0               1   \n2       8  159660.80              3          1               0   \n3       1       0.00              2          0               0   \n4       2  125510.82              1          1               1   \n\n   EstimatedSalary  Exited  \n0        101348.88       1  \n1        112542.58       0  \n2        113931.57       1  \n3         93826.63       0  \n4         79084.10       0  ",
      "text/html": "<div>\n<style scoped>\n    .dataframe tbody tr th:only-of-type {\n        vertical-align: middle;\n    }\n\n    .dataframe tbody tr th {\n        vertical-align: top;\n    }\n\n    .dataframe thead th {\n        text-align: right;\n    }\n</style>\n<table border=\"1\" class=\"dataframe\">\n  <thead>\n    <tr style=\"text-align: right;\">\n      <th></th>\n      <th>RowNumber</th>\n      <th>CustomerId</th>\n      <th>Surname</th>\n      <th>CreditScore</th>\n      <th>Geography</th>\n      <th>Gender</th>\n      <th>Age</th>\n      <th>Tenure</th>\n      <th>Balance</th>\n      <th>NumOfProducts</th>\n      <th>HasCrCard</th>\n      <th>IsActiveMember</th>\n      <th>EstimatedSalary</th>\n      <th>Exited</th>\n    </tr>\n  </thead>\n  <tbody>\n    <tr>\n      <th>0</th>\n      <td>1</td>\n      <td>15634602</td>\n      <td>Hargrave</td>\n      <td>619</td>\n      <td>France</td>\n      <td>Female</td>\n      <td>42</td>\n      <td>2</td>\n      <td>0.00</td>\n      <td>1</td>\n      <td>1</td>\n      <td>1</td>\n      <td>101348.88</td>\n      <td>1</td>\n    </tr>\n    <tr>\n      <th>1</th>\n      <td>2</td>\n      <td>15647311</td>\n      <td>Hill</td>\n      <td>608</td>\n      <td>Spain</td>\n      <td>Female</td>\n      <td>41</td>\n      <td>1</td>\n      <td>83807.86</td>\n      <td>1</td>\n      <td>0</td>\n      <td>1</td>\n      <td>112542.58</td>\n      <td>0</td>\n    </tr>\n    <tr>\n      <th>2</th>\n      <td>3</td>\n      <td>15619304</td>\n      <td>Onio</td>\n      <td>502</td>\n      <td>France</td>\n      <td>Female</td>\n      <td>42</td>\n      <td>8</td>\n      <td>159660.80</td>\n      <td>3</td>\n      <td>1</td>\n      <td>0</td>\n      <td>113931.57</td>\n      <td>1</td>\n    </tr>\n    <tr>\n      <th>3</th>\n      <td>4</td>\n      <td>15701354</td>\n      <td>Boni</td>\n      <td>699</td>\n      <td>France</td>\n      <td>Female</td>\n      <td>39</td>\n      <td>1</td>\n      <td>0.00</td>\n      <td>2</td>\n      <td>0</td>\n      <td>0</td>\n      <td>93826.63</td>\n      <td>0</td>\n    </tr>\n    <tr>\n      <th>4</th>\n      <td>5</td>\n      <td>15737888</td>\n      <td>Mitchell</td>\n      <td>850</td>\n      <td>Spain</td>\n      <td>Female</td>\n      <td>43</td>\n      <td>2</td>\n      <td>125510.82</td>\n      <td>1</td>\n      <td>1</td>\n      <td>1</td>\n      <td>79084.10</td>\n      <td>0</td>\n    </tr>\n  </tbody>\n</table>\n</div>"
     },
     "execution_count": 78,
     "metadata": {},
     "output_type": "execute_result"
    }
   ],
   "source": [
    "datasets = pd.read_csv('Churn_Modelling.csv')\n",
    "datasets.head()"
   ],
   "metadata": {
    "collapsed": false,
    "ExecuteTime": {
     "end_time": "2024-02-23T10:11:44.240253500Z",
     "start_time": "2024-02-23T10:11:44.202070600Z"
    }
   },
   "id": "90715ecfc6ec92b6",
   "execution_count": 78
  },
  {
   "cell_type": "code",
   "outputs": [],
   "source": [
    "## Divide the datasets into the independent and dependent variable.\n",
    "X = datasets.iloc[:, 3:13]\n",
    "Y = datasets.iloc[:, 13]"
   ],
   "metadata": {
    "collapsed": false,
    "ExecuteTime": {
     "end_time": "2024-02-23T10:12:17.354451400Z",
     "start_time": "2024-02-23T10:12:17.339349700Z"
    }
   },
   "id": "fd6c0db4af57919a",
   "execution_count": 82
  },
  {
   "cell_type": "code",
   "outputs": [
    {
     "data": {
      "text/plain": "   CreditScore Geography  Gender  Age  Tenure    Balance  NumOfProducts  \\\n0          619    France  Female   42       2       0.00              1   \n1          608     Spain  Female   41       1   83807.86              1   \n2          502    France  Female   42       8  159660.80              3   \n3          699    France  Female   39       1       0.00              2   \n4          850     Spain  Female   43       2  125510.82              1   \n\n   HasCrCard  IsActiveMember  EstimatedSalary  \n0          1               1        101348.88  \n1          0               1        112542.58  \n2          1               0        113931.57  \n3          0               0         93826.63  \n4          1               1         79084.10  ",
      "text/html": "<div>\n<style scoped>\n    .dataframe tbody tr th:only-of-type {\n        vertical-align: middle;\n    }\n\n    .dataframe tbody tr th {\n        vertical-align: top;\n    }\n\n    .dataframe thead th {\n        text-align: right;\n    }\n</style>\n<table border=\"1\" class=\"dataframe\">\n  <thead>\n    <tr style=\"text-align: right;\">\n      <th></th>\n      <th>CreditScore</th>\n      <th>Geography</th>\n      <th>Gender</th>\n      <th>Age</th>\n      <th>Tenure</th>\n      <th>Balance</th>\n      <th>NumOfProducts</th>\n      <th>HasCrCard</th>\n      <th>IsActiveMember</th>\n      <th>EstimatedSalary</th>\n    </tr>\n  </thead>\n  <tbody>\n    <tr>\n      <th>0</th>\n      <td>619</td>\n      <td>France</td>\n      <td>Female</td>\n      <td>42</td>\n      <td>2</td>\n      <td>0.00</td>\n      <td>1</td>\n      <td>1</td>\n      <td>1</td>\n      <td>101348.88</td>\n    </tr>\n    <tr>\n      <th>1</th>\n      <td>608</td>\n      <td>Spain</td>\n      <td>Female</td>\n      <td>41</td>\n      <td>1</td>\n      <td>83807.86</td>\n      <td>1</td>\n      <td>0</td>\n      <td>1</td>\n      <td>112542.58</td>\n    </tr>\n    <tr>\n      <th>2</th>\n      <td>502</td>\n      <td>France</td>\n      <td>Female</td>\n      <td>42</td>\n      <td>8</td>\n      <td>159660.80</td>\n      <td>3</td>\n      <td>1</td>\n      <td>0</td>\n      <td>113931.57</td>\n    </tr>\n    <tr>\n      <th>3</th>\n      <td>699</td>\n      <td>France</td>\n      <td>Female</td>\n      <td>39</td>\n      <td>1</td>\n      <td>0.00</td>\n      <td>2</td>\n      <td>0</td>\n      <td>0</td>\n      <td>93826.63</td>\n    </tr>\n    <tr>\n      <th>4</th>\n      <td>850</td>\n      <td>Spain</td>\n      <td>Female</td>\n      <td>43</td>\n      <td>2</td>\n      <td>125510.82</td>\n      <td>1</td>\n      <td>1</td>\n      <td>1</td>\n      <td>79084.10</td>\n    </tr>\n  </tbody>\n</table>\n</div>"
     },
     "execution_count": 83,
     "metadata": {},
     "output_type": "execute_result"
    }
   ],
   "source": [
    "X.head()"
   ],
   "metadata": {
    "collapsed": false,
    "ExecuteTime": {
     "end_time": "2024-02-23T10:12:19.484404400Z",
     "start_time": "2024-02-23T10:12:19.477340700Z"
    }
   },
   "id": "26b2815f1c632284",
   "execution_count": 83
  },
  {
   "cell_type": "code",
   "outputs": [
    {
     "data": {
      "text/plain": "0    1\n1    0\n2    1\n3    0\n4    0\nName: Exited, dtype: int64"
     },
     "execution_count": 84,
     "metadata": {},
     "output_type": "execute_result"
    }
   ],
   "source": [
    "Y.head()"
   ],
   "metadata": {
    "collapsed": false,
    "ExecuteTime": {
     "end_time": "2024-02-23T10:12:21.705851900Z",
     "start_time": "2024-02-23T10:12:21.696603100Z"
    }
   },
   "id": "67d74ef437e04c99",
   "execution_count": 84
  },
  {
   "cell_type": "code",
   "outputs": [],
   "source": [
    "## Converting the categorical data into numerical data\n",
    "geography = pd.get_dummies(X['Geography'], drop_first = True)\n",
    "gender = pd.get_dummies(X['Gender'], drop_first = True)"
   ],
   "metadata": {
    "collapsed": false,
    "ExecuteTime": {
     "end_time": "2024-02-23T10:12:25.764016800Z",
     "start_time": "2024-02-23T10:12:25.720804500Z"
    }
   },
   "id": "e81649c27896ea25",
   "execution_count": 85
  },
  {
   "cell_type": "code",
   "outputs": [],
   "source": [
    "# Concatenate these variables with dataframe\n",
    "X = X.drop(['Geography', 'Gender'], axis = 1)"
   ],
   "metadata": {
    "collapsed": false,
    "ExecuteTime": {
     "end_time": "2024-02-23T10:12:27.738919900Z",
     "start_time": "2024-02-23T10:12:27.707707Z"
    }
   },
   "id": "679613699767c613",
   "execution_count": 86
  },
  {
   "cell_type": "code",
   "outputs": [
    {
     "data": {
      "text/plain": "   CreditScore  Age  Tenure    Balance  NumOfProducts  HasCrCard  \\\n0          619   42       2       0.00              1          1   \n1          608   41       1   83807.86              1          0   \n2          502   42       8  159660.80              3          1   \n3          699   39       1       0.00              2          0   \n4          850   43       2  125510.82              1          1   \n\n   IsActiveMember  EstimatedSalary  Germany  Spain   Male  \n0               1        101348.88    False  False  False  \n1               1        112542.58    False   True  False  \n2               0        113931.57    False  False  False  \n3               0         93826.63    False  False  False  \n4               1         79084.10    False   True  False  ",
      "text/html": "<div>\n<style scoped>\n    .dataframe tbody tr th:only-of-type {\n        vertical-align: middle;\n    }\n\n    .dataframe tbody tr th {\n        vertical-align: top;\n    }\n\n    .dataframe thead th {\n        text-align: right;\n    }\n</style>\n<table border=\"1\" class=\"dataframe\">\n  <thead>\n    <tr style=\"text-align: right;\">\n      <th></th>\n      <th>CreditScore</th>\n      <th>Age</th>\n      <th>Tenure</th>\n      <th>Balance</th>\n      <th>NumOfProducts</th>\n      <th>HasCrCard</th>\n      <th>IsActiveMember</th>\n      <th>EstimatedSalary</th>\n      <th>Germany</th>\n      <th>Spain</th>\n      <th>Male</th>\n    </tr>\n  </thead>\n  <tbody>\n    <tr>\n      <th>0</th>\n      <td>619</td>\n      <td>42</td>\n      <td>2</td>\n      <td>0.00</td>\n      <td>1</td>\n      <td>1</td>\n      <td>1</td>\n      <td>101348.88</td>\n      <td>False</td>\n      <td>False</td>\n      <td>False</td>\n    </tr>\n    <tr>\n      <th>1</th>\n      <td>608</td>\n      <td>41</td>\n      <td>1</td>\n      <td>83807.86</td>\n      <td>1</td>\n      <td>0</td>\n      <td>1</td>\n      <td>112542.58</td>\n      <td>False</td>\n      <td>True</td>\n      <td>False</td>\n    </tr>\n    <tr>\n      <th>2</th>\n      <td>502</td>\n      <td>42</td>\n      <td>8</td>\n      <td>159660.80</td>\n      <td>3</td>\n      <td>1</td>\n      <td>0</td>\n      <td>113931.57</td>\n      <td>False</td>\n      <td>False</td>\n      <td>False</td>\n    </tr>\n    <tr>\n      <th>3</th>\n      <td>699</td>\n      <td>39</td>\n      <td>1</td>\n      <td>0.00</td>\n      <td>2</td>\n      <td>0</td>\n      <td>0</td>\n      <td>93826.63</td>\n      <td>False</td>\n      <td>False</td>\n      <td>False</td>\n    </tr>\n    <tr>\n      <th>4</th>\n      <td>850</td>\n      <td>43</td>\n      <td>2</td>\n      <td>125510.82</td>\n      <td>1</td>\n      <td>1</td>\n      <td>1</td>\n      <td>79084.10</td>\n      <td>False</td>\n      <td>True</td>\n      <td>False</td>\n    </tr>\n  </tbody>\n</table>\n</div>"
     },
     "execution_count": 87,
     "metadata": {},
     "output_type": "execute_result"
    }
   ],
   "source": [
    "X = pd.concat([X, geography, gender], axis = 1)\n",
    "X.head()"
   ],
   "metadata": {
    "collapsed": false,
    "ExecuteTime": {
     "end_time": "2024-02-23T10:12:29.525330300Z",
     "start_time": "2024-02-23T10:12:29.514254100Z"
    }
   },
   "id": "cc23d95928a4c62d",
   "execution_count": 87
  },
  {
   "cell_type": "code",
   "outputs": [],
   "source": [
    "# Splitting the dataset into the Training set and Test set\n",
    "from sklearn.model_selection import train_test_split\n",
    "X_train, X_test, Y_train, Y_test = train_test_split(X, Y, test_size = 0.2, random_state = 0)"
   ],
   "metadata": {
    "collapsed": false,
    "ExecuteTime": {
     "end_time": "2024-02-23T10:12:34.527362900Z",
     "start_time": "2024-02-23T10:12:34.513249900Z"
    }
   },
   "id": "1562fa3d059928b9",
   "execution_count": 88
  },
  {
   "cell_type": "code",
   "outputs": [],
   "source": [
    "# Feature Scaling\n",
    "from sklearn.preprocessing import StandardScaler\n",
    "sc = StandardScaler()\n",
    "X_train = sc.fit_transform(X_train)\n",
    "X_test = sc.transform(X_test) \n",
    "X_train = np.array(X_train)\n",
    "Y_train = np.array(Y_train)"
   ],
   "metadata": {
    "collapsed": false,
    "ExecuteTime": {
     "end_time": "2024-02-23T10:15:39.282155100Z",
     "start_time": "2024-02-23T10:15:39.269209Z"
    }
   },
   "id": "1f6a9c6c84cec958",
   "execution_count": 102
  },
  {
   "cell_type": "code",
   "outputs": [
    {
     "data": {
      "text/plain": "array([[ 0.16958176, -0.46460796,  0.00666099, ..., -0.5698444 ,\n         1.74309049, -1.09168714],\n       [-2.30455945,  0.30102557, -1.37744033, ...,  1.75486502,\n        -0.57369368,  0.91601335],\n       [-1.19119591, -0.94312892, -1.031415  , ..., -0.5698444 ,\n        -0.57369368, -1.09168714],\n       ...,\n       [ 0.9015152 , -0.36890377,  0.00666099, ..., -0.5698444 ,\n        -0.57369368,  0.91601335],\n       [-0.62420521, -0.08179119,  1.39076231, ..., -0.5698444 ,\n         1.74309049, -1.09168714],\n       [-0.28401079,  0.87525072, -1.37744033, ...,  1.75486502,\n        -0.57369368, -1.09168714]])"
     },
     "execution_count": 104,
     "metadata": {},
     "output_type": "execute_result"
    }
   ],
   "source": [
    "X_train"
   ],
   "metadata": {
    "collapsed": false,
    "ExecuteTime": {
     "end_time": "2024-02-23T10:15:44.141354300Z",
     "start_time": "2024-02-23T10:15:44.117907300Z"
    }
   },
   "id": "430f1fdf3ebbd7be",
   "execution_count": 104
  },
  {
   "cell_type": "code",
   "outputs": [
    {
     "data": {
      "text/plain": "array([[-0.55204276, -0.36890377,  1.04473698, ...,  1.75486502,\n        -0.57369368, -1.09168714],\n       [-1.31490297,  0.10961719, -1.031415  , ..., -0.5698444 ,\n        -0.57369368, -1.09168714],\n       [ 0.57162971,  0.30102557,  1.04473698, ..., -0.5698444 ,\n         1.74309049, -1.09168714],\n       ...,\n       [-0.74791227, -0.27319958, -1.37744033, ..., -0.5698444 ,\n         1.74309049,  0.91601335],\n       [-0.00566991, -0.46460796, -0.33936434, ...,  1.75486502,\n        -0.57369368,  0.91601335],\n       [-0.79945688, -0.84742473,  1.04473698, ...,  1.75486502,\n        -0.57369368,  0.91601335]])"
     },
     "execution_count": 105,
     "metadata": {},
     "output_type": "execute_result"
    }
   ],
   "source": [
    "X_test"
   ],
   "metadata": {
    "collapsed": false,
    "ExecuteTime": {
     "end_time": "2024-02-23T10:15:45.300017200Z",
     "start_time": "2024-02-23T10:15:45.236682800Z"
    }
   },
   "id": "64943ca76aa7a773",
   "execution_count": 105
  },
  {
   "cell_type": "code",
   "outputs": [
    {
     "data": {
      "text/plain": "(8000, 11)"
     },
     "execution_count": 106,
     "metadata": {},
     "output_type": "execute_result"
    }
   ],
   "source": [
    "X_train.shape"
   ],
   "metadata": {
    "collapsed": false,
    "ExecuteTime": {
     "end_time": "2024-02-23T10:15:46.662128700Z",
     "start_time": "2024-02-23T10:15:46.650907400Z"
    }
   },
   "id": "d2f3a2d5e67d6405",
   "execution_count": 106
  },
  {
   "cell_type": "code",
   "outputs": [],
   "source": [
    "## Now let's create ANN \n",
    "from tensorflow.keras.models import Sequential\n",
    "from tensorflow.keras.layers import Dense\n",
    "from tensorflow.keras.layers import LeakyReLU, PReLU, ELU, ReLU\n",
    "from tensorflow.keras.layers import Dropout"
   ],
   "metadata": {
    "collapsed": false,
    "ExecuteTime": {
     "end_time": "2024-02-23T10:15:48.016502600Z",
     "start_time": "2024-02-23T10:15:47.990422Z"
    }
   },
   "id": "b6f2c6662c8f18a2",
   "execution_count": 107
  },
  {
   "cell_type": "code",
   "outputs": [],
   "source": [
    "# Lets initialized ANN\n",
    "classifier = Sequential()"
   ],
   "metadata": {
    "collapsed": false,
    "ExecuteTime": {
     "end_time": "2024-02-23T10:15:50.089057800Z",
     "start_time": "2024-02-23T10:15:50.062966200Z"
    }
   },
   "id": "27790ecefb626a9a",
   "execution_count": 108
  },
  {
   "cell_type": "code",
   "outputs": [],
   "source": [
    "# Adding input layers\n",
    "classifier.add(Dense(units=11, activation='relu'))"
   ],
   "metadata": {
    "collapsed": false,
    "ExecuteTime": {
     "end_time": "2024-02-23T11:07:23.702641400Z",
     "start_time": "2024-02-23T11:07:23.682565Z"
    }
   },
   "id": "c9d00d330fe0039c",
   "execution_count": 123
  },
  {
   "cell_type": "code",
   "outputs": [],
   "source": [
    "# Adding the first hidden layer\n",
    "classifier.add(Dense(units=7, activation='relu'))\n",
    "classifier.add(Dropout(0.2))"
   ],
   "metadata": {
    "collapsed": false,
    "ExecuteTime": {
     "end_time": "2024-02-23T11:07:25.344325100Z",
     "start_time": "2024-02-23T11:07:25.319319500Z"
    }
   },
   "id": "bf2d13dec97ec46f",
   "execution_count": 124
  },
  {
   "cell_type": "code",
   "outputs": [],
   "source": [
    "# Adding the second hidden layer\n",
    "classifier.add(Dense(units=6, activation='relu'))\n",
    "classifier.add(Dropout(0.3))"
   ],
   "metadata": {
    "collapsed": false,
    "ExecuteTime": {
     "end_time": "2024-02-23T11:07:26.695937300Z",
     "start_time": "2024-02-23T11:07:26.678131600Z"
    }
   },
   "id": "b093f794147e294f",
   "execution_count": 125
  },
  {
   "cell_type": "code",
   "outputs": [],
   "source": [
    "# Adding the output layer\n",
    "classifier.add(Dense(units=1, activation='sigmoid'))"
   ],
   "metadata": {
    "collapsed": false,
    "ExecuteTime": {
     "end_time": "2024-02-23T11:07:28.628593200Z",
     "start_time": "2024-02-23T11:07:28.604165100Z"
    }
   },
   "id": "95a5dd8127001024",
   "execution_count": 126
  },
  {
   "cell_type": "code",
   "outputs": [],
   "source": [
    "# Compiling the ANN\n",
    "classifier.compile(optimizer='adam', loss='binary_crossentropy', metrics=['accuracy'])"
   ],
   "metadata": {
    "collapsed": false,
    "ExecuteTime": {
     "end_time": "2024-02-23T11:07:30.546204100Z",
     "start_time": "2024-02-23T11:07:30.518414500Z"
    }
   },
   "id": "93ce1a463df28e82",
   "execution_count": 127
  },
  {
   "cell_type": "code",
   "outputs": [],
   "source": [
    "# Providing our own learning rate\n",
    "import tensorflow\n",
    "opt = tensorflow.keras.optimizers.Adam(learning_rate=0.01) # By default learning_rate = 0.01 "
   ],
   "metadata": {
    "collapsed": false,
    "ExecuteTime": {
     "end_time": "2024-02-23T11:07:32.874897200Z",
     "start_time": "2024-02-23T11:07:32.851895800Z"
    }
   },
   "id": "f895bab56100e1cb",
   "execution_count": 128
  },
  {
   "cell_type": "code",
   "outputs": [],
   "source": [
    "# Early stopping\n",
    "from tensorflow.keras.callbacks import EarlyStopping\n",
    "early_stop = EarlyStopping(monitor = 'val_loss', mode = 'auto', verbose = 1, patience = 20, min_delta = 0.0001, baseline = 0, restore_best_weights=False)"
   ],
   "metadata": {
    "collapsed": false,
    "ExecuteTime": {
     "end_time": "2024-02-23T11:07:34.837316700Z",
     "start_time": "2024-02-23T11:07:34.818246600Z"
    }
   },
   "id": "1e31faa46db26bfc",
   "execution_count": 129
  },
  {
   "cell_type": "code",
   "outputs": [
    {
     "name": "stdout",
     "output_type": "stream",
     "text": [
      "Epoch 1/1000\n",
      "536/536 [==============================] - 2s 2ms/step - loss: 0.5080 - accuracy: 0.8149 - val_loss: 0.4051 - val_accuracy: 0.8152\n",
      "Epoch 2/1000\n",
      "536/536 [==============================] - 1s 2ms/step - loss: 0.3973 - accuracy: 0.8474 - val_loss: 0.3993 - val_accuracy: 0.8251\n",
      "Epoch 3/1000\n",
      "536/536 [==============================] - 1s 2ms/step - loss: 0.3802 - accuracy: 0.8537 - val_loss: 0.3900 - val_accuracy: 0.8459\n",
      "Epoch 4/1000\n",
      "536/536 [==============================] - 1s 2ms/step - loss: 0.3705 - accuracy: 0.8554 - val_loss: 0.3873 - val_accuracy: 0.8425\n",
      "Epoch 5/1000\n",
      "536/536 [==============================] - 1s 2ms/step - loss: 0.3711 - accuracy: 0.8531 - val_loss: 0.3862 - val_accuracy: 0.8421\n",
      "Epoch 6/1000\n",
      "536/536 [==============================] - 1s 2ms/step - loss: 0.3572 - accuracy: 0.8548 - val_loss: 0.3936 - val_accuracy: 0.8413\n",
      "Epoch 7/1000\n",
      "536/536 [==============================] - 1s 2ms/step - loss: 0.3617 - accuracy: 0.8520 - val_loss: 0.3914 - val_accuracy: 0.8402\n",
      "Epoch 8/1000\n",
      "536/536 [==============================] - 1s 2ms/step - loss: 0.3525 - accuracy: 0.8595 - val_loss: 0.3820 - val_accuracy: 0.8410\n",
      "Epoch 9/1000\n",
      "536/536 [==============================] - 1s 2ms/step - loss: 0.3493 - accuracy: 0.8556 - val_loss: 0.3855 - val_accuracy: 0.8429\n",
      "Epoch 10/1000\n",
      "536/536 [==============================] - 1s 2ms/step - loss: 0.3431 - accuracy: 0.8630 - val_loss: 0.3864 - val_accuracy: 0.8436\n",
      "Epoch 11/1000\n",
      "536/536 [==============================] - 1s 2ms/step - loss: 0.3449 - accuracy: 0.8627 - val_loss: 0.4028 - val_accuracy: 0.8353\n",
      "Epoch 12/1000\n",
      "536/536 [==============================] - 1s 2ms/step - loss: 0.3438 - accuracy: 0.8600 - val_loss: 0.3812 - val_accuracy: 0.8459\n",
      "Epoch 13/1000\n",
      "536/536 [==============================] - 1s 2ms/step - loss: 0.3434 - accuracy: 0.8576 - val_loss: 0.3910 - val_accuracy: 0.8383\n",
      "Epoch 14/1000\n",
      "536/536 [==============================] - 1s 2ms/step - loss: 0.3377 - accuracy: 0.8587 - val_loss: 0.4077 - val_accuracy: 0.8425\n",
      "Epoch 15/1000\n",
      "536/536 [==============================] - 1s 2ms/step - loss: 0.3400 - accuracy: 0.8593 - val_loss: 0.3926 - val_accuracy: 0.8429\n",
      "Epoch 16/1000\n",
      "536/536 [==============================] - 1s 2ms/step - loss: 0.3462 - accuracy: 0.8604 - val_loss: 0.3902 - val_accuracy: 0.8455\n",
      "Epoch 17/1000\n",
      "536/536 [==============================] - 1s 2ms/step - loss: 0.3396 - accuracy: 0.8576 - val_loss: 0.3966 - val_accuracy: 0.8425\n",
      "Epoch 18/1000\n",
      "536/536 [==============================] - 1s 2ms/step - loss: 0.3380 - accuracy: 0.8642 - val_loss: 0.3858 - val_accuracy: 0.8432\n",
      "Epoch 19/1000\n",
      "536/536 [==============================] - 1s 2ms/step - loss: 0.3299 - accuracy: 0.8643 - val_loss: 0.3859 - val_accuracy: 0.8432\n",
      "Epoch 20/1000\n",
      "536/536 [==============================] - 1s 2ms/step - loss: 0.3336 - accuracy: 0.8627 - val_loss: 0.3868 - val_accuracy: 0.8463\n",
      "Epoch 20: early stopping\n"
     ]
    },
    {
     "data": {
      "text/plain": "<keras.src.callbacks.History at 0x283fd0650c0>"
     },
     "execution_count": 130,
     "metadata": {},
     "output_type": "execute_result"
    }
   ],
   "source": [
    "# Fitting the ANN to the training set\n",
    "classifier.fit(X_train, Y_train, batch_size = 10, epochs = 1000, validation_split = 0.33, callbacks=early_stop)"
   ],
   "metadata": {
    "collapsed": false,
    "ExecuteTime": {
     "end_time": "2024-02-23T11:07:59.375875200Z",
     "start_time": "2024-02-23T11:07:36.708761800Z"
    }
   },
   "id": "fec3a6c8c6a03fee",
   "execution_count": 130
  },
  {
   "cell_type": "code",
   "outputs": [
    {
     "name": "stdout",
     "output_type": "stream",
     "text": [
      "63/63 [==============================] - 0s 1ms/step\n"
     ]
    }
   ],
   "source": [
    "y_pred = classifier.predict(X_test)\n",
    "y_pred = (y_pred >= 0.5)"
   ],
   "metadata": {
    "collapsed": false,
    "ExecuteTime": {
     "end_time": "2024-02-23T11:08:02.843543200Z",
     "start_time": "2024-02-23T11:08:02.603857Z"
    }
   },
   "id": "943d3db608135b45",
   "execution_count": 131
  },
  {
   "cell_type": "code",
   "outputs": [
    {
     "data": {
      "text/plain": "array([[1536,   59],\n       [ 240,  165]], dtype=int64)"
     },
     "execution_count": 132,
     "metadata": {},
     "output_type": "execute_result"
    }
   ],
   "source": [
    "# Making confusion Matrix\n",
    "from sklearn.metrics import confusion_matrix\n",
    "cm = confusion_matrix(Y_test, y_pred)\n",
    "cm"
   ],
   "metadata": {
    "collapsed": false,
    "ExecuteTime": {
     "end_time": "2024-02-23T11:08:04.832844100Z",
     "start_time": "2024-02-23T11:08:04.802464700Z"
    }
   },
   "id": "16646128c010d6e2",
   "execution_count": 132
  },
  {
   "cell_type": "code",
   "outputs": [
    {
     "data": {
      "text/plain": "0.8505"
     },
     "execution_count": 134,
     "metadata": {},
     "output_type": "execute_result"
    }
   ],
   "source": [
    "from sklearn.metrics import accuracy_score\n",
    "score = accuracy_score(y_pred, Y_test)\n",
    "score"
   ],
   "metadata": {
    "collapsed": false,
    "ExecuteTime": {
     "end_time": "2024-02-23T11:08:25.806555200Z",
     "start_time": "2024-02-23T11:08:25.791512600Z"
    }
   },
   "id": "3f039ae4cbb721a8",
   "execution_count": 134
  },
  {
   "cell_type": "code",
   "outputs": [
    {
     "data": {
      "text/plain": "[array([[ 0.10441624,  1.1365103 , -0.80155456,  0.36834544, -0.6084223 ,\n         -0.04932959,  0.09644695, -0.63222694,  0.36980814, -0.58210593,\n          1.0298632 ],\n        [-0.30266544, -1.715958  , -0.19008985, -0.5364235 , -1.6861602 ,\n         -1.3536899 ,  0.797786  , -0.34660894,  1.3618097 ,  1.1780895 ,\n         -0.88189036],\n        [-0.2225604 , -0.7828804 ,  0.88693714,  0.19909033,  0.60144025,\n         -0.01854727,  0.79848796, -0.98707455,  0.30278027, -0.04774024,\n         -0.25907937],\n        [-0.17278744, -0.74263006, -1.2128192 ,  0.7126535 , -0.93534875,\n          0.05024121,  0.7022646 ,  0.5545545 , -0.9678661 , -0.86973745,\n         -1.8347665 ],\n        [-2.3821323 , -0.8908632 ,  0.22851744,  2.3735993 ,  0.4571287 ,\n         -0.08901668, -0.8320868 , -0.10182092, -0.67168915,  1.0480598 ,\n         -0.38748235],\n        [ 0.02496131, -0.14111662, -0.17897505, -0.00304999,  0.44673806,\n          0.1360651 ,  0.40559214,  0.4466399 ,  0.17596686, -0.1268919 ,\n         -0.182969  ],\n        [-0.7688021 , -0.6036195 , -0.8126379 , -0.6795046 , -1.5233898 ,\n         -0.47084287, -0.7086189 ,  0.87060773,  0.9940851 , -1.5508538 ,\n          0.15773688],\n        [ 0.01441584,  0.17100087, -0.7309779 , -0.06869817, -0.34334907,\n         -0.19079831,  1.1300001 , -0.90263516,  0.18392478, -0.708173  ,\n          0.74242866],\n        [ 0.47308055, -0.67911637, -0.76577294, -0.1181742 , -0.42690954,\n          0.06495449, -1.0053633 , -1.3667817 ,  0.19120556,  0.30671805,\n         -0.4414027 ],\n        [-0.00305624, -0.7040929 ,  0.29375914,  0.64177567,  1.2948864 ,\n          0.19175906,  0.54498225,  0.41474432,  0.77208424,  0.19471292,\n          0.8309257 ],\n        [ 0.01835226,  1.017567  ,  0.38030094,  0.15798935, -0.581778  ,\n          0.05259185, -0.1410636 , -0.94010466,  0.7087728 ,  0.8370398 ,\n          1.3608863 ]], dtype=float32),\n array([ 0.53467965, -0.36435816,  0.530774  ,  0.815802  ,  1.1495643 ,\n         2.0576448 ,  0.13516362, -0.5607019 ,  0.93335676,  0.1786743 ,\n         0.5609232 ], dtype=float32),\n array([[-0.89757496,  0.12426281,  0.43463826, -0.7499079 , -0.29589078,\n          0.7958644 ,  1.0622756 ],\n        [-0.350046  , -0.36713126,  1.2364933 , -1.1105748 , -0.28310722,\n         -0.8943649 ,  0.04577227],\n        [-0.23562296,  1.0742495 ,  1.0143245 ,  0.8270195 ,  0.798263  ,\n          0.6601417 , -1.1013113 ],\n        [-0.33687964, -2.5372014 , -3.3465996 , -0.39001244,  0.55643886,\n          1.3109859 ,  0.82025874],\n        [ 0.75026494,  0.6369864 ,  0.15650332, -1.2093627 , -0.7240925 ,\n         -0.8134004 ,  0.7707205 ],\n        [ 0.43073508, -0.01623956, -0.35658464,  0.8644209 ,  0.80817014,\n         -0.9968475 , -0.08025579],\n        [ 0.35083222, -0.39799175, -0.2325488 ,  0.16092603, -0.22275575,\n          0.5913658 , -3.3357835 ],\n        [ 1.1124672 , -0.4795711 ,  0.3888271 , -0.6965434 , -0.26754203,\n          0.8482796 , -0.8815106 ],\n        [ 0.6804838 ,  0.8723362 , -0.39308095, -1.0320059 ,  0.7468536 ,\n         -0.27918446,  0.70733416],\n        [-0.0634198 , -1.7577931 , -1.5247655 , -0.39169666, -0.39667588,\n          0.37054947, -0.993047  ],\n        [ 0.09089341,  0.14203447, -1.85659   ,  1.2305233 ,  0.8136613 ,\n          0.9715383 ,  0.2403192 ]], dtype=float32),\n array([ 0.4066705 , -0.5396091 ,  0.16838677,  1.4306647 ,  1.0358063 ,\n         0.49559015, -0.93291503], dtype=float32),\n array([[-0.1988536 ,  0.21364896, -0.32475913,  0.7326306 , -0.00765702,\n         -0.18765952],\n        [-0.4305024 ,  0.01466726, -0.22122294, -1.2537099 ,  0.24570636,\n         -0.82012856],\n        [ 1.7710855 ,  0.3046877 ,  1.2604941 ,  0.73039645,  0.6763096 ,\n          0.49324328],\n        [ 0.44513795,  0.51060504, -6.883199  ,  0.7428836 , -0.73843247,\n         -1.6340928 ],\n        [ 0.20142604,  0.5719997 ,  0.0645384 ,  0.6751299 ,  0.5316961 ,\n          0.3301804 ],\n        [ 0.1667247 , -1.2292669 ,  1.0218159 ,  0.10082688, -0.59460557,\n          0.36314043],\n        [ 0.95553476,  0.23763897,  0.17325957, -1.2154922 , -6.5698447 ,\n         -0.69900453]], dtype=float32),\n array([ 1.145161  , -1.9379734 , -1.0649551 ,  0.63358814, -0.18243162,\n         1.6697204 ], dtype=float32),\n array([[-0.5849525 ],\n        [-0.9750365 ],\n        [ 1.1532298 ],\n        [-0.57378566],\n        [-0.9180589 ],\n        [-0.57166547]], dtype=float32),\n array([1.1725793], dtype=float32),\n array([[-0.59448826,  0.7151234 ,  0.8880071 ,  0.4492771 ,  0.73296213,\n          0.8105896 ,  1.2382848 ]], dtype=float32),\n array([ 0.        , -0.02165687, -0.00839252, -0.04116711,  0.00375488,\n         0.00460659, -0.00169887], dtype=float32),\n array([[-3.9740205e-02, -5.0867754e-01,  2.6696074e-01, -2.0628867e-01,\n          2.2404844e-01,  6.6885900e-01],\n        [ 5.6677830e-01,  7.6270932e-01,  5.7223207e-01,  4.6319318e-01,\n         -8.0313367e-01, -6.1562091e-01],\n        [ 6.7357945e-01,  1.2204273e-01,  7.7661961e-01, -3.3692952e-04,\n         -8.0835605e-01, -7.8362858e-01],\n        [-4.3866834e-01,  7.9567099e-01,  4.9980661e-01,  5.8613628e-01,\n         -8.0163312e-01,  2.7781796e-01],\n        [ 2.8200418e-01,  8.3544886e-01,  6.7494705e-02,  7.0823395e-01,\n         -3.5100886e-01, -7.8694624e-01],\n        [ 2.7000105e-01,  8.3432657e-01,  2.3092194e-01,  6.6605073e-01,\n         -5.4283142e-01, -1.0052985e+00],\n        [ 2.8703994e-01,  6.4842081e-01,  5.3135669e-01, -9.1129065e-02,\n         -7.9912996e-01, -8.4012365e-01]], dtype=float32),\n array([-0.01640076, -0.01289463, -0.01269669, -0.07398938,  0.04759097,\n         0.07161964], dtype=float32),\n array([[-0.04030247, -0.42812997, -0.8182816 ,  0.44477543, -0.7868406 ,\n         -0.73182005, -0.20251514,  0.3707775 , -0.16029565,  0.1548989 ,\n          0.84911436],\n        [-0.14183228,  0.69646174, -0.18628334, -0.8671165 , -0.73088026,\n         -0.29510543, -1.7340529 ,  0.7393874 ,  0.45904467,  0.6568125 ,\n         -0.12346818],\n        [-0.49798155,  0.5740261 , -0.28880426, -0.69288456, -0.7617783 ,\n         -0.58805287, -0.36578646, -0.59268993, -0.35870513, -0.32850447,\n          0.63883114],\n        [ 0.18771665,  0.23452306, -0.32218277,  0.18553905, -0.46739992,\n         -0.76052016,  0.60345995,  0.56724423, -0.11252289, -0.31003335,\n          0.21276309],\n        [ 0.4464011 ,  0.1311675 ,  0.33357212,  0.4034699 ,  0.7657434 ,\n          0.9377513 , -0.5436797 ,  0.00448979,  0.13683188,  0.78696334,\n         -0.3216851 ],\n        [ 0.64288986,  0.00682747,  1.0577351 ,  0.73886645,  0.6776036 ,\n          0.17584464, -0.6386374 , -0.05961953,  0.22230317,  0.5403583 ,\n         -0.64338017]], dtype=float32),\n array([ 0.1536176 , -0.05241612,  0.10831375,  0.07637491,  0.07691684,\n         0.09129497,  0.07920244,  0.00686348,  0.09592836,  0.19215861,\n         0.08515522], dtype=float32),\n array([[ 0.46608207,  0.41951218, -0.4009583 , -0.4014169 , -0.12244404,\n          0.344367  , -0.17028838],\n        [-0.2602949 , -0.7616745 , -0.06881452,  0.14860852,  0.46874017,\n         -0.6047645 ,  0.51026154],\n        [-0.10172644,  0.4142307 , -0.09633288, -0.21121556, -0.38921264,\n          0.559704  , -0.28611115],\n        [ 0.6912924 ,  0.27352366, -0.38809523, -0.28986758,  0.00535837,\n          0.57826626,  0.72774625],\n        [-0.2948959 ,  0.85048985, -0.54715884,  0.36458632,  0.00904623,\n          0.9677248 ,  0.31792468],\n        [-0.47524494,  0.68059796,  0.3843727 , -0.1778767 ,  0.34856322,\n          0.83047295, -0.0611156 ],\n        [ 0.4593328 , -0.35677668, -0.5073708 , -0.38393104,  0.52257925,\n         -0.62632453,  1.1830202 ],\n        [ 0.2443911 , -0.37466007, -0.19768077,  0.66770875, -0.35215327,\n         -0.9771494 ,  0.6522683 ],\n        [-0.7281696 , -0.06839331,  0.20053357,  0.44282985, -0.3362526 ,\n          0.08056726,  0.30622157],\n        [-0.43044525,  0.35927117, -0.2689116 ,  0.5195582 , -0.24682064,\n          0.21145768, -0.1388179 ],\n        [ 0.8009608 , -0.5455161 , -0.20270038, -0.3925316 ,  0.45816824,\n         -0.57151407,  0.520459  ]], dtype=float32),\n array([ 0.00373314,  0.06094455,  0.        , -0.12917916, -0.00489128,\n         0.01307453, -0.19374962], dtype=float32),\n array([[-1.0071297 , -0.16674583, -0.97477704,  0.5841217 , -0.25951543,\n          0.43700382],\n        [ 1.0613586 , -0.02028781,  0.5109435 , -0.05671088,  0.22758028,\n         -0.54697114],\n        [ 0.4506688 ,  0.09747618, -0.19477868,  0.05795884, -0.6308443 ,\n          0.5782076 ],\n        [-0.5790254 ,  0.5668711 , -0.78449523, -0.17886916, -0.41410565,\n          0.2676215 ],\n        [-0.5659947 ,  0.84652513, -1.0841671 ,  0.18286133, -0.3884217 ,\n          0.1963041 ],\n        [ 0.56013393, -0.01808765,  0.841502  , -0.05924759,  0.69585174,\n         -0.1409599 ],\n        [-0.40374273, -0.2796498 , -0.7709145 ,  0.6058747 , -0.42195275,\n          0.20137101]], dtype=float32),\n array([ 0.29641098, -0.09188059,  0.41363567, -0.0898302 ,  0.39722002,\n         0.00882591], dtype=float32),\n array([[-0.69530994],\n        [ 0.9765083 ],\n        [-0.6831719 ],\n        [ 0.38419202],\n        [-0.7641642 ],\n        [ 0.7583299 ]], dtype=float32),\n array([-1.0670589], dtype=float32)]"
     },
     "execution_count": 135,
     "metadata": {},
     "output_type": "execute_result"
    }
   ],
   "source": [
    "# Getting the weights\n",
    "classifier.get_weights()"
   ],
   "metadata": {
    "collapsed": false,
    "ExecuteTime": {
     "end_time": "2024-02-23T11:08:29.114921200Z",
     "start_time": "2024-02-23T11:08:29.102630Z"
    }
   },
   "id": "26a74ad7825267c2",
   "execution_count": 135
  }
 ],
 "metadata": {
  "kernelspec": {
   "display_name": "Python 3",
   "language": "python",
   "name": "python3"
  },
  "language_info": {
   "codemirror_mode": {
    "name": "ipython",
    "version": 2
   },
   "file_extension": ".py",
   "mimetype": "text/x-python",
   "name": "python",
   "nbconvert_exporter": "python",
   "pygments_lexer": "ipython2",
   "version": "2.7.6"
  }
 },
 "nbformat": 4,
 "nbformat_minor": 5
}
